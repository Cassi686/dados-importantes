{
  "nbformat": 4,
  "nbformat_minor": 0,
  "metadata": {
    "colab": {
      "provenance": [],
      "authorship_tag": "ABX9TyMy6D02nFX2J1EqWpGkOAjQ",
      "include_colab_link": true
    },
    "kernelspec": {
      "name": "python3",
      "display_name": "Python 3"
    },
    "language_info": {
      "name": "python"
    }
  },
  "cells": [
    {
      "cell_type": "markdown",
      "metadata": {
        "id": "view-in-github",
        "colab_type": "text"
      },
      "source": [
        "<a href=\"https://colab.research.google.com/github/Cassi686/dados-importantes/blob/main/Untitled0.ipynb\" target=\"_parent\"><img src=\"https://colab.research.google.com/assets/colab-badge.svg\" alt=\"Open In Colab\"/></a>"
      ]
    },
    {
      "cell_type": "markdown",
      "source": [],
      "metadata": {
        "id": "u4YgOF8s0Y0L"
      }
    },
    {
      "cell_type": "code",
      "execution_count": null,
      "metadata": {
        "colab": {
          "base_uri": "https://localhost:8080/"
        },
        "id": "-YKT-92znVBI",
        "outputId": "2c053cbe-f085-4a1e-fa9b-8b52a848e08e"
      },
      "outputs": [
        {
          "output_type": "stream",
          "name": "stdout",
          "text": [
            "Olá, Mundo!!!\n",
            "Olá, Mundo\n",
            "\n",
            "10\n",
            "\n",
            "@%¨$\n",
            "7\n",
            "7.2\n",
            "9\n",
            "10.0\n",
            "72\n",
            "JoãoSilva\n",
            "JoãoSilva\n",
            "meu nome éCassiano\n",
            "meu nome é Cassiano\n",
            "meu nome é Cassiano\n",
            "Eu tenho 3 cachorros\n"
          ]
        }
      ],
      "source": [
        "print(\"Olá, Mundo!!!\") #função imprimir \n",
        "\n",
        "# outros exemplos \n",
        "print(\"Olá, Mundo\")\n",
        "print(\"\")\n",
        "print(\"10\")\n",
        "print()\n",
        "print(\"@%¨$\")\n",
        "\n",
        "\n",
        "# número do tipo int\n",
        "print(7)\n",
        "\n",
        "#número do tipo float\n",
        "print(7.2)\n",
        "\n",
        "# soma de números \n",
        "print(7+2)\n",
        "\n",
        "#soma de números float\n",
        "print(7.2+2.8)\n",
        "\n",
        "# e se eu colocar os números somados entre aspas? \n",
        "print(\"7\"+\"2\")\n",
        "\n",
        "# Por que deu 72 e não 9? Porque quando se coloca os números entre aspas.\n",
        "# E dessa forma não ocorre a soma dos números mas a concatenização. \n",
        "\n",
        "print(\"João\"+\"Silva\")\n",
        "print(\"João\" + \"Silva\")\n",
        "\n",
        "print(\"meu nome é\" + \"Cassiano\")\n",
        "print(\"meu nome é\" , \"Cassiano\")\n",
        "print(\"meu nome é\" + \" Cassiano\")\n",
        "\n",
        "#exemplo de print usando str e número usando ,:\n",
        "print(\"Eu tenho\",3,\"cachorros\")\n",
        "\n",
        "#exemplo de print usando str e número usando +:\n",
        "#print(\"meu nome é\"+ 3 +\"cachorros\")#erro proposital\n",
        "\n",
        "#o print com (,) é como se escrevesse cada ídem em sua vez. \n",
        "#o print com (+) provoca uma soma ou concatenização, por isso não tolera str com números\n",
        "#int + int = soma\n",
        "#float+float = soma\n",
        "#int+float = soma\n",
        "#Str+Str = concatenar\n",
        "#Str=Int = erro\n",
        "\n",
        "\n",
        "# Declarando variáveis \n",
        "\n",
        "#nomedavariável = valordavariável\n",
        "\n",
        "Lanche = 'X-Burguer'"
      ]
    },
    {
      "cell_type": "code",
      "source": [
        "#declarando variável\n",
        "#nomedavariável = valordavariável\n",
        "#Exemplo:\n",
        "\n",
        "Lanche = 'X-Burguer'\n",
        "\n",
        "#lê-se a variável Lanche recebe o valor X-Burguer do tipo Str\n",
        "\n",
        "preço = 10.9\n",
        "qtd = 2\n",
        "\n",
        "#contas com variáveis\n",
        "\n",
        "#declarando variáveis\n",
        "lanchePreco = 10.9\n",
        "batataPreco = 5.9\n",
        "refriPreco = 3\n",
        "\n",
        "print(lanchePreco)\n",
        "\n",
        "#quanto custa pedir um lanche e uma batata?\n",
        "print(lanchePreco + batataPreco)\n",
        "\n",
        "#quanto custa pedir um lanche e um refri?\n",
        "print(lanchePreco + refriPreco)\n",
        "\n",
        "#é possível atribuir um valor total ao lanche?\n",
        "pedidoValorTotal = lanchePreco + batataPreco + refriPreco\n",
        "print(pedidoValorTotal)\n",
        "\n",
        "#impressão composta\n",
        "#forma de pagamento\n",
        "\n",
        "pagamentoForma = 'cartão .'\n",
        "\n",
        "pedidoValorTotal = lanchePreco + batataPreco\n",
        "\n",
        "print(pagamentoForma)\n",
        "print(pedidoValorTotal)\n",
        "\n",
        "#erro\n",
        "\n",
        "print('você pediu um lanche no valor de: R$', lanchePreco, ' uma batata frita no valor de:R$',batataPreco, ' um refrigerante no valor de: R$',refriPreco, 'totalizando o valor de:R$',pedidoValorTotal, 'e pagou na seguinte forma:',pagamentoForma)"
      ],
      "metadata": {
        "id": "xfPHla813bjm",
        "colab": {
          "base_uri": "https://localhost:8080/"
        },
        "outputId": "2a232634-cac4-49e5-feff-2c90995030fc"
      },
      "execution_count": null,
      "outputs": [
        {
          "output_type": "stream",
          "name": "stdout",
          "text": [
            "10.9\n",
            "16.8\n",
            "13.9\n",
            "19.8\n",
            "cartão .\n",
            "16.8\n",
            "você pediu um lanche no valor de: R$ 10.9  uma batata frita no valor de:R$ 5.9  um refrigerante no valor de: R$ 3 totalizando o valor de:R$ 16.8 e pagou na seguinte forma: cartão .\n"
          ]
        }
      ]
    },
    {
      "cell_type": "code",
      "source": [
        "#Erro"
      ],
      "metadata": {
        "id": "jPVZ-jEDht3J"
      },
      "execution_count": null,
      "outputs": []
    },
    {
      "cell_type": "code",
      "source": [
        "#Erro"
      ],
      "metadata": {
        "id": "yB7b1p72iNpF"
      },
      "execution_count": null,
      "outputs": []
    },
    {
      "cell_type": "code",
      "source": [
        "#Erro\n"
      ],
      "metadata": {
        "id": "BKjxo0cnimXL"
      },
      "execution_count": null,
      "outputs": []
    },
    {
      "cell_type": "code",
      "source": [
        "#função input\n",
        "#peça para o usuário qual lanche ele quer pedir\n",
        "#lancheNome = imput('Qual lanche você quer comer')\n",
        "\n",
        "lancheNome = input('Qual lanche você quer comer?')\n",
        "print('Você pediu um:',lancheNome)\n",
        "\n",
        "lancheNome = input('Qual lanche você quer comer?')\n",
        "print('Você pediu um:',lancheNome)\n",
        "\n",
        "#função Type\n",
        "\n",
        "#No input e em outras funções podemos nos deparar com dados indesjados. \n",
        "#Para isso podemos validar usando a função Type()\n",
        "\n",
        "#use o type em uma string\n",
        "type('Cassiano')\n"
      ],
      "metadata": {
        "colab": {
          "base_uri": "https://localhost:8080/"
        },
        "id": "tH-xnsOzmTxM",
        "outputId": "5a16161c-495f-40aa-db6c-c4982cd71ab5"
      },
      "execution_count": null,
      "outputs": [
        {
          "output_type": "stream",
          "name": "stdout",
          "text": [
            "Qual lanche você quer comer?X-Burguer\n",
            "Você pediu um: X-Burguer\n",
            "Qual lanche você quer comer?X-Burguer\n",
            "Você pediu um: X-Burguer\n"
          ]
        },
        {
          "output_type": "execute_result",
          "data": {
            "text/plain": [
              "str"
            ]
          },
          "metadata": {},
          "execution_count": 15
        }
      ]
    },
    {
      "cell_type": "code",
      "source": [
        "#use o type em uma string\n",
        "type('Cassiano')"
      ],
      "metadata": {
        "colab": {
          "base_uri": "https://localhost:8080/"
        },
        "id": "Qb7FPhurs7k8",
        "outputId": "cdb435d3-76c7-4376-fb1a-6ce7de36ff96"
      },
      "execution_count": null,
      "outputs": [
        {
          "output_type": "execute_result",
          "data": {
            "text/plain": [
              "str"
            ]
          },
          "metadata": {},
          "execution_count": 3
        }
      ]
    },
    {
      "cell_type": "code",
      "source": [
        "#use o type em um Float\n",
        "type(19.5)"
      ],
      "metadata": {
        "colab": {
          "base_uri": "https://localhost:8080/"
        },
        "id": "a7OD1n2atG2e",
        "outputId": "7912da79-5198-480b-a67d-5a22e2821403"
      },
      "execution_count": null,
      "outputs": [
        {
          "output_type": "execute_result",
          "data": {
            "text/plain": [
              "float"
            ]
          },
          "metadata": {},
          "execution_count": 4
        }
      ]
    },
    {
      "cell_type": "code",
      "source": [
        "#use o type em um Float\n",
        "type(2.34)"
      ],
      "metadata": {
        "colab": {
          "base_uri": "https://localhost:8080/"
        },
        "id": "9Rfm_UHutaa9",
        "outputId": "db64d8ec-ddae-4bbd-b5ec-5d2e0df18ccb"
      },
      "execution_count": null,
      "outputs": [
        {
          "output_type": "execute_result",
          "data": {
            "text/plain": [
              "float"
            ]
          },
          "metadata": {},
          "execution_count": 5
        }
      ]
    },
    {
      "cell_type": "code",
      "source": [
        "#use o type em um Int\n",
        "type(5)"
      ],
      "metadata": {
        "colab": {
          "base_uri": "https://localhost:8080/"
        },
        "id": "OA39RKhntnar",
        "outputId": "5f463a36-84cb-4fde-a04d-2c12b670bb11"
      },
      "execution_count": null,
      "outputs": [
        {
          "output_type": "execute_result",
          "data": {
            "text/plain": [
              "int"
            ]
          },
          "metadata": {},
          "execution_count": 6
        }
      ]
    },
    {
      "cell_type": "code",
      "source": [
        "#use o type em duas variáveis seguidas\n",
        "type('Cassiano')\n",
        "type(5)\n",
        "#nesse caso só será validado o comando da última linha.\n",
        "#A sintaxe não foi mais adequada.\n",
        "\n",
        "print(type(5))\n",
        "print(type('Cassiano'))\n",
        "# a sintaxe foi a mais adequada para 2 variáveis. \n"
      ],
      "metadata": {
        "colab": {
          "base_uri": "https://localhost:8080/"
        },
        "id": "EgMONzmEuqjS",
        "outputId": "a09a40c9-a825-4ffa-e2ab-81d010a8b0b8"
      },
      "execution_count": null,
      "outputs": [
        {
          "output_type": "stream",
          "name": "stdout",
          "text": [
            "<class 'int'>\n",
            "<class 'str'>\n"
          ]
        }
      ]
    },
    {
      "cell_type": "code",
      "source": [
        "print(type(lanchePreco))\n",
        "print(type(lancheNome))"
      ],
      "metadata": {
        "id": "IZRPssMfwM7N"
      },
      "execution_count": null,
      "outputs": []
    },
    {
      "cell_type": "code",
      "source": [
        "numero = input('digite um número:')\n",
        "print(type(numero))"
      ],
      "metadata": {
        "colab": {
          "base_uri": "https://localhost:8080/"
        },
        "id": "X-hQMlzxXwZm",
        "outputId": "766c841f-5848-47b1-a447-ad9730b3795c"
      },
      "execution_count": null,
      "outputs": [
        {
          "output_type": "stream",
          "name": "stdout",
          "text": [
            "digite um número:100\n",
            "<class 'str'>\n"
          ]
        }
      ]
    },
    {
      "cell_type": "code",
      "source": [
        "Lanche = 'X-Burguer'\n",
        "Lanchepreco = 10.9\n",
        "print(type(Lanche))\n",
        "print(type(Lanchepreco))\n",
        "\n",
        "#use o type em duas variáveis seguidas:\n",
        "variavelTipo = type(Lanchepreco)\n",
        "print(variavelTipo)\n"
      ],
      "metadata": {
        "colab": {
          "base_uri": "https://localhost:8080/"
        },
        "id": "3O_kk4vjxEXg",
        "outputId": "53ec159f-3455-4620-c667-751110f6c25a"
      },
      "execution_count": null,
      "outputs": [
        {
          "output_type": "stream",
          "name": "stdout",
          "text": [
            "<class 'str'>\n",
            "<class 'float'>\n",
            "<class 'float'>\n"
          ]
        }
      ]
    },
    {
      "cell_type": "code",
      "source": [
        "variavelTipo = type(Lanche)\n",
        "print(variavelTipo)"
      ],
      "metadata": {
        "colab": {
          "base_uri": "https://localhost:8080/"
        },
        "id": "jM-YLPDwqGDl",
        "outputId": "d0ebc0dd-fb9d-405e-d2e9-365e21c1a37f"
      },
      "execution_count": null,
      "outputs": [
        {
          "output_type": "stream",
          "name": "stdout",
          "text": [
            "<class 'str'>\n"
          ]
        }
      ]
    },
    {
      "cell_type": "code",
      "source": [
        "# erro"
      ],
      "metadata": {
        "id": "LSktKgnJqb21"
      },
      "execution_count": null,
      "outputs": []
    },
    {
      "cell_type": "code",
      "source": [
        "variavelTipo = type(Lanche)\n",
        "print(variavelTipo)"
      ],
      "metadata": {
        "colab": {
          "base_uri": "https://localhost:8080/"
        },
        "id": "inUkeNvHqzbD",
        "outputId": "5ec39d44-492a-40e1-8f09-603714dcb114"
      },
      "execution_count": null,
      "outputs": [
        {
          "output_type": "stream",
          "name": "stdout",
          "text": [
            "<class 'str'>\n"
          ]
        }
      ]
    },
    {
      "cell_type": "code",
      "source": [
        "#Peça para o usuário digitar um número e veja o tipo desta variável\n",
        "numero = input('Por favor, digite um número:')\n",
        "type(numero)"
      ],
      "metadata": {
        "colab": {
          "base_uri": "https://localhost:8080/"
        },
        "id": "j4YSJZJFrCJC",
        "outputId": "4ed860d4-eb4d-4006-a7f8-b7d67141c78a"
      },
      "execution_count": null,
      "outputs": [
        {
          "name": "stdout",
          "output_type": "stream",
          "text": [
            "Por favor, digite um número:2\n"
          ]
        },
        {
          "output_type": "execute_result",
          "data": {
            "text/plain": [
              "str"
            ]
          },
          "metadata": {},
          "execution_count": 7
        }
      ]
    },
    {
      "cell_type": "code",
      "source": [
        "#Dados Booleano\n",
        "\n",
        "#Crie duas variáveis: pagamentoCartao e pagamentoDinheiro,\n",
        "#atribua valores Booleanos a ela e verifique o tipo da variável.\n",
        "\n",
        "pagamentoCartao = True\n",
        "pagamentoDinheiro = False\n",
        "print(type(pagamentoCartao))\n",
        "print(type(pagamentoDinheiro))"
      ],
      "metadata": {
        "colab": {
          "base_uri": "https://localhost:8080/"
        },
        "id": "hmJcYiCFsfyP",
        "outputId": "b8f7b1ff-d6cc-4374-97a5-895dac2e2f08"
      },
      "execution_count": null,
      "outputs": [
        {
          "output_type": "stream",
          "name": "stdout",
          "text": [
            "<class 'bool'>\n",
            "<class 'bool'>\n"
          ]
        }
      ]
    },
    {
      "cell_type": "code",
      "source": [
        "#Dados Booleano\n",
        "\n",
        "#Crie duas variáveis: pagamentoCartao e pagamentoDinheiro,\n",
        "#atribua valores Booleanos a ela e verifique o tipo da variável.\n",
        "\n",
        "pagamentoCartão = True\n",
        "pagamentoDinheiro = False\n",
        "print(type(pagamentoCartao))\n",
        "print(type(pagamentoDinheiro))"
      ],
      "metadata": {
        "colab": {
          "base_uri": "https://localhost:8080/"
        },
        "id": "P-X-i_ybud93",
        "outputId": "a5a9d69d-789b-4a8b-d5e9-699445aedabc"
      },
      "execution_count": null,
      "outputs": [
        {
          "output_type": "stream",
          "name": "stdout",
          "text": [
            "<class 'bool'>\n",
            "<class 'bool'>\n"
          ]
        }
      ]
    },
    {
      "cell_type": "code",
      "source": [
        "nomePrimeiro = \"Cassiano\"\n",
        "nomeMeio = \"Ricardo\"\n",
        "nomeUltimo = \"Coelho dos Santos\"\n",
        "print(nomePrimeiro,nomeMeio,nomeUltimo,\"seja muito bem vindo à DNC.\")"
      ],
      "metadata": {
        "colab": {
          "base_uri": "https://localhost:8080/"
        },
        "id": "5QTLrHt3vakT",
        "outputId": "00f34c1e-e18b-4211-b460-2ce3b08ee401"
      },
      "execution_count": null,
      "outputs": [
        {
          "output_type": "stream",
          "name": "stdout",
          "text": [
            "Cassiano Ricardo Coelho dos Santos seja muito bem vindo à DNC.\n"
          ]
        }
      ]
    },
    {
      "cell_type": "code",
      "source": [
        "print(nomePrimeiro,nomeMeio,nomeUltimo,\",seja muito bem vindo à DNC.\")"
      ],
      "metadata": {
        "colab": {
          "base_uri": "https://localhost:8080/"
        },
        "id": "Apys3HHHwcV2",
        "outputId": "990ea327-c798-4f22-cd0b-b3f24accd3a7"
      },
      "execution_count": null,
      "outputs": [
        {
          "output_type": "stream",
          "name": "stdout",
          "text": [
            "Cassiano Ricardo Coelho dos Santos ,seja muito bem vindo à DNC.\n"
          ]
        }
      ]
    },
    {
      "cell_type": "code",
      "source": [],
      "metadata": {
        "id": "9432gCQtwy_U"
      },
      "execution_count": null,
      "outputs": []
    },
    {
      "cell_type": "code",
      "source": [
        "nomePrimeiro = \"Cassiano\"\n",
        "nomeMeio = \"Ricardo\"\n",
        "nomeUltimo = \"Coelho dos Santos,\"\n",
        "print(nomePrimeiro,nomeMeio,nomeUltimo,\"seja muito bem vindo à DNC.\")"
      ],
      "metadata": {
        "colab": {
          "base_uri": "https://localhost:8080/"
        },
        "id": "cyNgaAn7xEhL",
        "outputId": "301b7f90-c1d8-4784-83b9-a847998ff434"
      },
      "execution_count": null,
      "outputs": [
        {
          "output_type": "stream",
          "name": "stdout",
          "text": [
            "Cassiano Ricardo Coelho dos Santos, seja muito bem vindo à DNC.\n"
          ]
        }
      ]
    },
    {
      "cell_type": "markdown",
      "source": [],
      "metadata": {
        "id": "RBjc5VHYu4Io"
      }
    },
    {
      "cell_type": "code",
      "source": [
        "nomePrimeiro = input('Qual é o seu primeiro nome?:')\n",
        "nomedoMeio = input('Qual é o seu nome do meio?:')\n",
        "nomeUltimo = input('Qual é o seu último nome?:')\n",
        "print(nomePrimeiro,nomedoMeio,nomeUltimo,', seja muito bem vindo à DNC.' )"
      ],
      "metadata": {
        "colab": {
          "base_uri": "https://localhost:8080/"
        },
        "id": "bcdb4Cr2yN90",
        "outputId": "ed04f3c1-8ccb-4908-b958-b412776312ea"
      },
      "execution_count": null,
      "outputs": [
        {
          "output_type": "stream",
          "name": "stdout",
          "text": [
            "Qual é o seu primeiro nome?:Cassiano\n",
            "Qual é o seu nome do meio?:Ricardo\n",
            "Qual é o seu último nome?:Coelho dos Santos\n",
            "Cassiano Ricardo Coelho dos Santos , seja muito bem vindo à DNC.\n"
          ]
        }
      ]
    },
    {
      "cell_type": "code",
      "source": [
        "nomedoCliente = 'Edilce Guerra'"
      ],
      "metadata": {
        "id": "UfVwEFFD0NTv"
      },
      "execution_count": null,
      "outputs": []
    },
    {
      "cell_type": "code",
      "source": [
        "nomedoCliente = 'Edilce Guerra'\n",
        "idadedoCliente = 44 \n",
        "print('o nome do cliente é:',nomedoCliente)\n",
        "print('a idade do cliente é:',idadedoCliente)"
      ],
      "metadata": {
        "colab": {
          "base_uri": "https://localhost:8080/"
        },
        "id": "dTHarTXjD4Pq",
        "outputId": "36c6659e-e614-45ac-cb44-829a622a6720"
      },
      "execution_count": null,
      "outputs": [
        {
          "output_type": "stream",
          "name": "stdout",
          "text": [
            "o nome do cliente é: Edilce Guerra\n",
            "a idade do cliente é: 44\n"
          ]
        }
      ]
    },
    {
      "cell_type": "code",
      "source": [
        "nomedoCliente = 'Edilce Guerra'\n",
        "idadedoCliente = 44 \n",
        "print('o nome do cliente é:',nomedoCliente)\n",
        "print('a idade do cliente é:',idadedoCliente)"
      ],
      "metadata": {
        "colab": {
          "base_uri": "https://localhost:8080/"
        },
        "id": "zM8Af5v6FG5A",
        "outputId": "d217353f-c858-4b18-eecb-e4265ad4d04f"
      },
      "execution_count": null,
      "outputs": [
        {
          "output_type": "stream",
          "name": "stdout",
          "text": [
            "o nome do cliente é: Edilce Guerra\n",
            "a idade do cliente é: 44\n"
          ]
        }
      ]
    },
    {
      "cell_type": "code",
      "source": [
        "nomedoCliente = input('Qual é o seu nome?:')\n",
        "idadedoCliente = input('Qual é a sua idade?')\n",
        "print(' o nome do Cliente é:',nomedoCliente)\n",
        "print('a idade do cliente é:',idadedoCliente)\n"
      ],
      "metadata": {
        "colab": {
          "base_uri": "https://localhost:8080/"
        },
        "id": "zRY8jpBwFqhk",
        "outputId": "d6770c9e-026c-4a29-8b1e-d45679c00ed7"
      },
      "execution_count": null,
      "outputs": [
        {
          "output_type": "stream",
          "name": "stdout",
          "text": [
            "Qual é o seu nome?:Cassiano Santos\n",
            "Qual é a sua idade?44\n",
            " o nome do Cliente é: Cassiano Santos\n",
            "a idade do cliente é: 44\n"
          ]
        }
      ]
    },
    {
      "cell_type": "code",
      "source": [
        "nomedoCliente = input('Qual é o seu nome?:')\n",
        "idadedoCliente = input('Qual é a sua idade?')\n",
        "print('o nome do Cliente é:',nomedoCliente)\n",
        "print('a idade do cliente é:',idadedoCliente)\n"
      ],
      "metadata": {
        "colab": {
          "base_uri": "https://localhost:8080/"
        },
        "id": "r4hWtBKfGp3O",
        "outputId": "21d16363-f94d-40f6-b408-d373af7bf58e"
      },
      "execution_count": null,
      "outputs": [
        {
          "output_type": "stream",
          "name": "stdout",
          "text": [
            "Qual é o seu nome?:Cassiano Santos\n",
            "Qual é a sua idade?44\n",
            "o nome do Cliente é: Cassiano Santos\n",
            "a idade do cliente é: 44\n"
          ]
        }
      ]
    },
    {
      "cell_type": "code",
      "source": [
        "valordoProduto = 25.3\n",
        "clientePremium = True \n",
        "clienteComum = False\n",
        "print('o valor do produto é:',valordoProduto)\n",
        "print('o tipo da variável valor do produto é:',type(valordoProduto))\n",
        "print('o cliente é premium?:',clientePremium)\n",
        "print('o tipo de variável do cliente premium é:',type(clientePremium))"
      ],
      "metadata": {
        "colab": {
          "base_uri": "https://localhost:8080/"
        },
        "id": "Br0IqO20HOLo",
        "outputId": "08d48000-c5fb-4a7f-d2c1-ba456971f636"
      },
      "execution_count": null,
      "outputs": [
        {
          "output_type": "stream",
          "name": "stdout",
          "text": [
            "o valor do produto é: 25.3\n",
            "o tipo da variável valor do produto é: <class 'float'>\n",
            "o cliente é premium?: True\n",
            "o tipo de variável do cliente premium é: <class 'bool'>\n"
          ]
        }
      ]
    },
    {
      "cell_type": "code",
      "source": [
        "#Rode esta função:\n",
        "import this"
      ],
      "metadata": {
        "colab": {
          "base_uri": "https://localhost:8080/"
        },
        "id": "Te6SbvgJJtql",
        "outputId": "c82699bf-42ce-469e-872e-b54b792a295d"
      },
      "execution_count": null,
      "outputs": [
        {
          "output_type": "stream",
          "name": "stdout",
          "text": [
            "The Zen of Python, by Tim Peters\n",
            "\n",
            "Beautiful is better than ugly.\n",
            "Explicit is better than implicit.\n",
            "Simple is better than complex.\n",
            "Complex is better than complicated.\n",
            "Flat is better than nested.\n",
            "Sparse is better than dense.\n",
            "Readability counts.\n",
            "Special cases aren't special enough to break the rules.\n",
            "Although practicality beats purity.\n",
            "Errors should never pass silently.\n",
            "Unless explicitly silenced.\n",
            "In the face of ambiguity, refuse the temptation to guess.\n",
            "There should be one-- and preferably only one --obvious way to do it.\n",
            "Although that way may not be obvious at first unless you're Dutch.\n",
            "Now is better than never.\n",
            "Although never is often better than *right* now.\n",
            "If the implementation is hard to explain, it's a bad idea.\n",
            "If the implementation is easy to explain, it may be a good idea.\n",
            "Namespaces are one honking great idea -- let's do more of those!\n"
          ]
        }
      ]
    },
    {
      "cell_type": "code",
      "source": [
        "from binascii import b2a_hex\n",
        "# soma +\n",
        "# subtração - \n",
        "#Multiplicação *\n",
        "#Divisão /\n",
        "#Potência **\n",
        "#Divisão inteira //\n",
        "#Resto da divisão % \n",
        "\n",
        "# Data as variáveis: \n",
        "#a=7\n",
        "#b=2\n",
        "#Faça as operações aritméticas acima:\n",
        "\n",
        "# Declaando as variáveis \n",
        "a=7\n",
        "b=2\n",
        "\n",
        "#soma\n",
        "print(a+b)\n",
        "print(7+2)\n",
        "print(type(a+b))\n",
        "#subtração\n",
        "print(a-b)\n",
        "print(7-2)\n",
        "print(type(a-b))\n",
        "#Multiplicação \n",
        "print(a*b)\n",
        "print(7*2)\n",
        "print(type (a*b))\n",
        "#divisão \n",
        "print(a/b)\n",
        "print(7/2)\n",
        "print(type (a/b))\n",
        "#potência \n",
        "print(a**b)\n",
        "print(7**2)\n",
        "print(type(a**b))\n",
        "#divisão inteira \n",
        "print(a//b)\n",
        "print(7//2)\n",
        "print(type (a//b))\n",
        "#resto de divisão\n",
        "print(a%b)\n",
        "print(7%2)\n",
        "print(type(a%b))\n",
        "\n",
        "print(7+b) # é possível usar número com variável\n",
        "\n"
      ],
      "metadata": {
        "colab": {
          "base_uri": "https://localhost:8080/"
        },
        "id": "ck-pXTwQqhSB",
        "outputId": "4a17439e-1655-4648-d1f9-032a5fd486e9"
      },
      "execution_count": null,
      "outputs": [
        {
          "output_type": "stream",
          "name": "stdout",
          "text": [
            "9\n",
            "9\n",
            "<class 'int'>\n",
            "5\n",
            "5\n",
            "<class 'int'>\n",
            "14\n",
            "14\n",
            "<class 'int'>\n",
            "3.5\n",
            "3.5\n",
            "<class 'float'>\n",
            "49\n",
            "49\n",
            "<class 'int'>\n",
            "3\n",
            "3\n",
            "<class 'int'>\n",
            "1\n",
            "1\n",
            "<class 'int'>\n",
            "9\n"
          ]
        }
      ]
    },
    {
      "cell_type": "code",
      "source": [
        "#operações com texto str\n",
        "\n",
        "#concatenação de 2 textos\n",
        "\n",
        "'Meu nome é Cassiano Santos'+   ' e moro em Porto Alegre'\n",
        "\n",
        "nomeprimeiro = 'Cassiano'\n",
        "nomeúltimo = ' Santos'\n",
        "nomeprimeiro+nomeúltimo\n",
        "\n",
        "#repetir a palavra olá 5 vezes \n",
        "\n",
        "'olá ' * 5\n",
        "print ('olá '*5)"
      ],
      "metadata": {
        "colab": {
          "base_uri": "https://localhost:8080/"
        },
        "id": "DAfkZ4l-_sxu",
        "outputId": "1c5e8f7d-f074-48ea-8cb5-142d808b2f52"
      },
      "execution_count": null,
      "outputs": [
        {
          "output_type": "stream",
          "name": "stdout",
          "text": [
            "olá olá olá olá olá \n"
          ]
        }
      ]
    },
    {
      "cell_type": "code",
      "source": [],
      "metadata": {
        "id": "W2sP_0WLCdhG"
      },
      "execution_count": null,
      "outputs": []
    },
    {
      "cell_type": "code",
      "source": [
        "#operações com texto str\n",
        "\n",
        "#concatenação de 2 textos\n",
        "\n",
        "'Meu nome é Cassiano Santos'+   ' e moro em Porto Alegre'\n",
        "\n",
        "nomeprimeiro = 'Cassiano'\n",
        "nomeúltimo = ' Santos'\n",
        "nomeprimeiro+nomeúltimo"
      ],
      "metadata": {
        "colab": {
          "base_uri": "https://localhost:8080/",
          "height": 35
        },
        "id": "DAXnBWD1CIhx",
        "outputId": "850769db-0b25-4eae-93e4-6c854cba83c3"
      },
      "execution_count": null,
      "outputs": [
        {
          "output_type": "execute_result",
          "data": {
            "text/plain": [
              "'Cassiano Santos'"
            ],
            "application/vnd.google.colaboratory.intrinsic+json": {
              "type": "string"
            }
          },
          "metadata": {},
          "execution_count": 40
        }
      ]
    },
    {
      "cell_type": "code",
      "source": [
        "#operações com texto str\n",
        "\n",
        "#concatenação de 2 textos\n",
        "\n",
        "print('Meu nome é Cassiano Santos'+   ' e moro em Porto Alegre')\n",
        "\n",
        "nomeprimeiro = 'Cassiano'\n",
        "nomeúltimo = ' Santos'\n",
        "print(nomeprimeiro+nomeúltimo)\n",
        "print('olá '*5)\n",
        "\n"
      ],
      "metadata": {
        "colab": {
          "base_uri": "https://localhost:8080/"
        },
        "id": "WNx4C8ZxCkIM",
        "outputId": "27a3a1a8-c7e6-4b48-ad87-087f68605035"
      },
      "execution_count": null,
      "outputs": [
        {
          "output_type": "stream",
          "name": "stdout",
          "text": [
            "Meu nome é Cassiano Santos e moro em Porto Alegre\n",
            "Cassiano Santos\n",
            "olá olá olá olá olá \n"
          ]
        }
      ]
    },
    {
      "cell_type": "code",
      "source": [
        "#mini desafio\n",
        "\n",
        "#escrever texto de boas vindas\n",
        "\n",
        "print('___________________________________________________________________________________________________________')\n",
        "\n",
        "print('                                  Seja bem vindo ao curso de Python da DNC                                 ')\n",
        "print('___________________________________________________________________________________________________________')\n"
      ],
      "metadata": {
        "colab": {
          "base_uri": "https://localhost:8080/"
        },
        "id": "uPbhuUK7FB1s",
        "outputId": "941adfb8-7bf2-47d9-a9ac-50dc659c264e"
      },
      "execution_count": null,
      "outputs": [
        {
          "output_type": "stream",
          "name": "stdout",
          "text": [
            "___________________________________________________________________________________________________________\n",
            "                                  Seja bem vindo ao curso de Python da DNC                                 \n",
            "___________________________________________________________________________________________________________\n"
          ]
        }
      ]
    },
    {
      "cell_type": "code",
      "source": [
        "print('___________________________________________________________________________________________________________')\n",
        "print()\n",
        "print('                                  Seja bem vindo ao curso de Python da DNC                                 ')\n",
        "print('___________________________________________________________________________________________________________')\n"
      ],
      "metadata": {
        "colab": {
          "base_uri": "https://localhost:8080/"
        },
        "id": "e-qRboZqHpIt",
        "outputId": "de491a81-0c47-4f64-aafc-2b7b51fcdaef"
      },
      "execution_count": null,
      "outputs": [
        {
          "output_type": "stream",
          "name": "stdout",
          "text": [
            "___________________________________________________________________________________________________________\n",
            "\n",
            "                                  Seja bem vindo ao curso de Python da DNC                                 \n",
            "___________________________________________________________________________________________________________\n"
          ]
        }
      ]
    },
    {
      "cell_type": "code",
      "source": [
        "print('_'*80)\n",
        "print()\n",
        "print(' '*20, 'Seja bem vindo ao curso de Python da DNC' )\n",
        "print('_'*80)"
      ],
      "metadata": {
        "colab": {
          "base_uri": "https://localhost:8080/"
        },
        "id": "Q7McApr2IWqs",
        "outputId": "ed648d3f-d87f-4df2-e87b-7b978829338a"
      },
      "execution_count": null,
      "outputs": [
        {
          "output_type": "stream",
          "name": "stdout",
          "text": [
            "________________________________________________________________________________\n",
            "\n",
            "                     Seja bem vindo ao curso de Python da DNC\n",
            "________________________________________________________________________________\n"
          ]
        }
      ]
    },
    {
      "cell_type": "code",
      "source": [
        "print('-'*80)\n",
        "print()\n",
        "print(' '*20, 'Seja bem vindo ao curso de Python da DNC' )\n",
        "print()\n",
        "print('-'*80)"
      ],
      "metadata": {
        "id": "JGVIwFtzCM6X",
        "colab": {
          "base_uri": "https://localhost:8080/"
        },
        "outputId": "bc1a399a-cb15-42b6-b7e4-b60d3b1f7d30"
      },
      "execution_count": null,
      "outputs": [
        {
          "output_type": "stream",
          "name": "stdout",
          "text": [
            "--------------------------------------------------------------------------------\n",
            "\n",
            "                     Seja bem vindo ao curso de Python da DNC\n",
            "\n",
            "--------------------------------------------------------------------------------\n"
          ]
        }
      ]
    },
    {
      "cell_type": "code",
      "source": [
        "print('+-'*80)\n",
        "print()\n",
        "print(' '*40, 'Seja bem vindo ao curso de Python da DNC' )\n",
        "print()\n",
        "print('+-'*80)"
      ],
      "metadata": {
        "colab": {
          "base_uri": "https://localhost:8080/"
        },
        "id": "uSZcsjwYErFW",
        "outputId": "0b3c83cc-1f35-48bd-fedf-7dfad457ef26"
      },
      "execution_count": null,
      "outputs": [
        {
          "output_type": "stream",
          "name": "stdout",
          "text": [
            "+-+-+-+-+-+-+-+-+-+-+-+-+-+-+-+-+-+-+-+-+-+-+-+-+-+-+-+-+-+-+-+-+-+-+-+-+-+-+-+-+-+-+-+-+-+-+-+-+-+-+-+-+-+-+-+-+-+-+-+-+-+-+-+-+-+-+-+-+-+-+-+-+-+-+-+-+-+-+-+-\n",
            "\n",
            "                                         Seja bem vindo ao curso de Python da DNC\n",
            "\n",
            "+-+-+-+-+-+-+-+-+-+-+-+-+-+-+-+-+-+-+-+-+-+-+-+-+-+-+-+-+-+-+-+-+-+-+-+-+-+-+-+-+-+-+-+-+-+-+-+-+-+-+-+-+-+-+-+-+-+-+-+-+-+-+-+-+-+-+-+-+-+-+-+-+-+-+-+-+-+-+-+-\n"
          ]
        }
      ]
    },
    {
      "cell_type": "code",
      "source": [
        "#ordem de prescedência aritmética\n",
        "\n",
        "#1.Parênteses:()\n",
        "#2.Potência:**\n",
        "#3.multiplicação, divisão, resto, divisão inteira:*,/,%,//.\n",
        "#4.soma,subtração: +,-\n",
        "\n",
        "#Exercícicos.\n",
        "#Para as contas abaixo use as variáveis.\n",
        "#a=5\n",
        "#b=7\n",
        "#c=3.45\n",
        "#d=5.50\n",
        "\n",
        "#Declarando variáveis\n",
        "\n",
        "a = 5\n",
        "b = 7\n",
        "c = 3.45\n",
        "d = 5.50\n",
        "\n",
        "#quanto é a+b*d?\n",
        "\n",
        "print(a + b * d)\n",
        "\n",
        "#quanto é (a + b) * d?\n",
        "\n",
        "print((a + b) * d)\n",
        "\n",
        "#quanto é : b** a * c?\n",
        "\n",
        "print(b** a * c)\n",
        "\n",
        "#quanto é: b**(a*c) ?\n",
        "\n",
        "print(b**(a * c))\n",
        "\n",
        "\n",
        "\n",
        "\n",
        "\n",
        "\n"
      ],
      "metadata": {
        "colab": {
          "base_uri": "https://localhost:8080/"
        },
        "id": "giy5A5emFUSC",
        "outputId": "9e3c2642-e40d-44f6-9a70-1eab9a2c76d1"
      },
      "execution_count": null,
      "outputs": [
        {
          "output_type": "stream",
          "name": "stdout",
          "text": [
            "43.5\n",
            "66.0\n",
            "57984.15\n",
            "378391341587299.8\n"
          ]
        }
      ]
    },
    {
      "cell_type": "code",
      "source": [],
      "metadata": {
        "id": "ZCCtgCSaPCl2"
      },
      "execution_count": null,
      "outputs": []
    },
    {
      "cell_type": "code",
      "source": [
        "#Problema 1\n",
        "\n",
        "#Fui a uma hamburgueria e comprei 2 lanches por 10,90 cada,\n",
        "#3 refrigerantes por 4,50 cada e 1 batata por 8,45. Pergunta-se:\n",
        "\n",
        "#1. qual o valor total da conta?\n",
        "\n",
        "#declarando variáveis\n",
        "\n",
        "valorLanche = 10.90\n",
        "valorRefrigerante = 4.50 \n",
        "valorBatata = 8.45\n",
        "\n",
        "print(2*valorLanche + 3*valorRefrigerante + valorBatata   )\n",
        "\n",
        "valorLanche = 10.90\n",
        "qtdlanche = 2\n",
        "valorRefrigerante = 4.50 \n",
        "qtdrefrigerante = 3\n",
        "valorBatata = 8.45\n",
        "qtdBatata = 1\n",
        "\n",
        "\n",
        "print( valorLanche * qtdlanche + valorRefrigerante * qtdrefrigerante + valorBatata * qtdBatata )\n",
        "\n",
        "contaTotal = valorLanche * qtdlanche + valorRefrigerante * qtdrefrigerante + valorBatata * qtdBatata \n",
        "\n",
        "print(' O valor total da compra é:R$ ', contaTotal)\n",
        "\n",
        "# Quantas notas de 10 reais eu utilizei na compra?\n",
        "\n",
        "print(contaTotal/10)\n",
        "print(contaTotal//10)\n",
        "\n",
        "nota10qtd = contaTotal//10\n",
        "\n",
        "valorfaltante = contaTotal - nota10qtd * 10\n",
        "print(valorfaltante)\n",
        "\n",
        "#Resposta\n",
        "\n",
        "print('Usei',nota10qtd, 'notas de 10 reais')\n",
        "type(nota10qtd)\n",
        "print(int(nota10qtd))\n",
        "type(nota10qtd)\n",
        "print(nota10qtd)\n",
        "\n",
        "print('Usei',nota10qtd, 'notas de 10 reais')\n",
        "\n",
        "#Quantidade de notas de 5 que utilizei?\n",
        "\n",
        "notade5qtd = valorfaltante//5+1\n",
        "valorfaltante = valorfaltante - notade5qtd * 5\n",
        "print('usei',notade5qtd, 'notas de 5 reais')\n",
        "\n",
        "\n",
        "print(valorfaltante)\n",
        "\n",
        "#resposta\n",
        "\n",
        "print('usei',notade5qtd, 'notas de 5 reais')\n",
        "\n",
        "\n",
        "#Quanto voltou de troco em notas?\n",
        "\n",
        "# Só existem notas de 2 reais abaixo de notas de 5 reais.\n",
        "\n",
        "nota2qtd = (-valorfaltante) // 2\n",
        "valorfaltante = valorfaltante + nota2qtd * 2\n",
        "\n",
        "print(nota2qtd)\n",
        "print(valorfaltante)\n",
        "\n",
        "#resposta\n",
        "print('recebi',nota2qtd, 'notas de 2 reais')\n",
        "print('recebi',int(nota2qtd), 'notas de 2 reais')\n",
        "\n",
        "#Quanto recebi de troco em moedas?\n",
        "\n",
        "# O troco será somente em moedas, pois em nota não será possível. \n",
        "\n",
        "moedaValor = 0 - valorfaltante\n",
        "valorfaltante = moedaValor + valorfaltante\n",
        "\n",
        "print(moedaValor)\n",
        "print(valorfaltante)\n",
        "\n",
        "#resposta\n",
        "\n",
        "print('recebi',(moedaValor),'de troco em moedas.')\n",
        "\n",
        "# Transformação de variáveis\n",
        "\n",
        "#Para transformar para strings: str()\n",
        "#Para transformar para inteiro: int()\n",
        "#Para transformar para real: float()\n",
        "\n",
        "#Vamos utilizar as seguintes variáveis.\n",
        "\n",
        "# a = 1.857\n",
        "# b = '4'\n",
        "# c = True\n",
        "# d = False\n",
        "# e = 'tex34'\n",
        "\n",
        "#Declarando variáveis\n",
        "a = 1.857\n",
        "b = '4'\n",
        "c = True\n",
        "d = False\n",
        "e = 'tex34'\n",
        "\n",
        "# transforme as vriáveis acima em int.\n",
        "\n",
        "int(a)\n",
        "int(b)\n",
        "int(c)\n",
        "int(d)\n",
        "#variável e não é possível a conversão.\n",
        "\n",
        "#transforme as variáveis para float.\n",
        "\n",
        "float(a)\n",
        "float(b)\n",
        "float(c)\n",
        "float(d)\n",
        "#variavel e não é possível a transformação.\n",
        "\n",
        "print(type(a))\n",
        "print(type(float(a)))\n",
        "\n",
        "print(type(b))\n",
        "print(type(float(b)))\n",
        "\n",
        "# transforme as variáveis para string\n",
        "# mude a variável b para 2.758\n",
        "\n",
        "b = 2.758\n",
        "\n",
        "str(a)\n",
        "str(b)\n",
        "str(c)\n",
        "str(d)\n",
        "str(e)\n",
        "\n",
        "\n",
        "\n",
        "\n",
        "  "
      ],
      "metadata": {
        "colab": {
          "base_uri": "https://localhost:8080/",
          "height": 452
        },
        "id": "01bgfOh7NnFM",
        "outputId": "a3205a5c-5da0-4f3a-f92e-7ed74e38ba47"
      },
      "execution_count": null,
      "outputs": [
        {
          "output_type": "stream",
          "name": "stdout",
          "text": [
            "43.75\n",
            "43.75\n",
            " O valor total da compra é:R$  43.75\n",
            "4.375\n",
            "4.0\n",
            "3.75\n",
            "Usei 4.0 notas de 10 reais\n",
            "4\n",
            "4.0\n",
            "Usei 4.0 notas de 10 reais\n",
            "usei 1.0 notas de 5 reais\n",
            "-1.25\n",
            "usei 1.0 notas de 5 reais\n",
            "0.0\n",
            "-1.25\n",
            "recebi 0.0 notas de 2 reais\n",
            "recebi 0 notas de 2 reais\n",
            "1.25\n",
            "0.0\n",
            "recebi 1.25 de troco em moedas.\n",
            "<class 'float'>\n",
            "<class 'float'>\n",
            "<class 'str'>\n",
            "<class 'float'>\n"
          ]
        },
        {
          "output_type": "execute_result",
          "data": {
            "text/plain": [
              "'tex34'"
            ],
            "application/vnd.google.colaboratory.intrinsic+json": {
              "type": "string"
            }
          },
          "metadata": {},
          "execution_count": 70
        }
      ]
    },
    {
      "cell_type": "code",
      "source": [
        "# Impressão personalizada\n",
        "#print()com.format()\n",
        "\n",
        "# print comum:\n",
        "lanchePreco = 10.9\n",
        "batataPreco = 8.45\n",
        "print('você pediu um lanche de R$', lanchePreco, 'e uma batata de R$',batataPreco, 'totalizando: R$', lanchePreco + batataPreco)\n",
        "#erro"
      ],
      "metadata": {
        "colab": {
          "base_uri": "https://localhost:8080/"
        },
        "id": "GgePPGX-HRo9",
        "outputId": "b45e689d-859e-45e0-fee1-259d8e429fcc"
      },
      "execution_count": null,
      "outputs": [
        {
          "output_type": "stream",
          "name": "stdout",
          "text": [
            "você pediu um lanche de R$ 10.9 e uma batata de R$ 8.45 totalizando: R$ 19.35\n"
          ]
        }
      ]
    },
    {
      "cell_type": "code",
      "source": [
        "lanchePreco = 10.9\n",
        "batataPreco = 8.45\n",
        "total = lanchePreco + batataPreco\n",
        "print('você pediu um lanche de: R$ {} e uma batata de: R${} totalizando: R$ {}'.format(lanchePreco,batataPreco,total))\n"
      ],
      "metadata": {
        "colab": {
          "base_uri": "https://localhost:8080/"
        },
        "id": "DvDiK4vEM8oS",
        "outputId": "197a553a-9106-44e5-bbc1-39c45dc18043"
      },
      "execution_count": null,
      "outputs": [
        {
          "output_type": "stream",
          "name": "stdout",
          "text": [
            "você pediu um lanche de: R$ 10.9 e uma batata de: R$8.45 totalizando: R$ 19.35\n"
          ]
        }
      ]
    },
    {
      "cell_type": "code",
      "source": [
        "#Personalizando a máscara\n",
        "\n",
        "#Dentro da máscara temos: {0:10.2f}\n",
        "\n",
        "# | 0 -> posição que a variável aparece dentro do .format().[Pode ser deixado em branco.]\n",
        "# | : -> separador a partir deles começamos as formatações\n",
        "# | 10 -> separamos 10 casas caracteres dentro do print para mostrarmos o número. \n",
        "# | . -> a partir do ponto, estamos formatando os valores após a vírgula decimal.\n",
        "# | 2 -> quantidade de casas decimais\n",
        "# | f -> f para flout ou d para inteiro. \n",
        "\n",
        "# Exemplo: \n",
        "\n",
        "# Plote as variáveis abaixo \n",
        "\n",
        "a = 245\n",
        "b = 2.835895\n",
        "\n",
        "print('| {} | e | {} |'.format(a,b))\n",
        "\n",
        "print('| {0:10} | e | {1:10.3f} |'.format(a,b))\n"
      ],
      "metadata": {
        "colab": {
          "base_uri": "https://localhost:8080/"
        },
        "id": "tCvBlEnDO2-w",
        "outputId": "96d49f32-471d-4349-dbd2-027d0f957d08"
      },
      "execution_count": null,
      "outputs": [
        {
          "output_type": "stream",
          "name": "stdout",
          "text": [
            "| 245 | e | 2.835895 |\n",
            "|        245 | e |      2.836 |\n"
          ]
        }
      ]
    },
    {
      "cell_type": "code",
      "source": [],
      "metadata": {
        "id": "NuUswsuaWxBI"
      },
      "execution_count": null,
      "outputs": []
    },
    {
      "cell_type": "code",
      "source": [
        "N1 = 7\n",
        "N2 = 5 \n",
        "\n",
        "N1 = input(' quantos gols o Brasil levou da Alemanha?')\n",
        "print('você respondeu que o Brasil levou',N1, 'gol(s) da Alemanha.')\n",
        "\n",
        "N2 = input(' quantas copas do Mundo o Brasil já venceu?')\n",
        "print('você respondeu que o Brasil venceu',N2, 'Copa(s) do mundo.')\n",
        "\n",
        "print(N1 + N2)"
      ],
      "metadata": {
        "colab": {
          "base_uri": "https://localhost:8080/"
        },
        "id": "BVmocKvIXU66",
        "outputId": "3d9618dd-59e1-4b2c-d470-ddb9a8848d1b"
      },
      "execution_count": null,
      "outputs": [
        {
          "output_type": "stream",
          "name": "stdout",
          "text": [
            " quantos gols o Brasil levou da Alemanha?7\n",
            "você respondeu que o Brasil levou 7 gol(s) da Alemanha.\n",
            " quantas copas do Mundo o Brasil já venceu?5\n",
            "você respondeu que o Brasil venceu 5 Copa(s) do mundo.\n",
            "75\n"
          ]
        }
      ]
    },
    {
      "cell_type": "code",
      "source": [
        "print (7 + 5)\n",
        "print (N1 + N2)\n",
        "print (7 + 5)\n",
        "print (7 - 5)\n",
        "print(7 * 5)"
      ],
      "metadata": {
        "colab": {
          "base_uri": "https://localhost:8080/"
        },
        "id": "5GMAAFNPaff0",
        "outputId": "f843e91f-b3e7-40ee-9546-4093e767920a"
      },
      "execution_count": null,
      "outputs": [
        {
          "output_type": "stream",
          "name": "stdout",
          "text": [
            "12\n",
            "75\n",
            "12\n",
            "2\n",
            "35\n"
          ]
        }
      ]
    },
    {
      "cell_type": "code",
      "source": [
        "N1 = 7\n",
        "N2 = 5\n",
        "adição = N1 + N2\n",
        "print(adição)\n",
        "subtração = N1 - N2\n",
        "print(subtração)\n",
        "multiplicação = N1 * N2\n",
        "print(multiplicação)\n",
        "Divisão = N1/N2\n",
        "print(Divisão)\n",
        "resto = N1%N2\n",
        "print(resto)\n",
        "exponência = N1 ** N2\n",
        "print(exponência)\n",
        "teste = N1*5\n",
        "print(teste)"
      ],
      "metadata": {
        "colab": {
          "base_uri": "https://localhost:8080/"
        },
        "id": "4YVOjlCAb1uC",
        "outputId": "4c4c2028-8999-4ad4-b512-7e22a1f65dfb"
      },
      "execution_count": null,
      "outputs": [
        {
          "output_type": "stream",
          "name": "stdout",
          "text": [
            "12\n",
            "2\n",
            "35\n",
            "1.4\n",
            "2\n",
            "16807\n",
            "35\n"
          ]
        }
      ]
    },
    {
      "cell_type": "code",
      "source": [
        "N = ()\n",
        "N0= N*0\n",
        "N1= N*1\n",
        "N2= N*2\n",
        "N3= N*3\n",
        "N4= N*4\n",
        "N5= N*5\n",
        "N6= N*6\n",
        "N7= N*7\n",
        "N8= N*8\n",
        "N9= N*9\n",
        "N10= N*10\n",
        "\n",
        "N = input('digite um número inteiro:')\n",
        "print('você escolheu o número:',N)\n",
        "\n",
        "int(N)\n",
        "\n",
        "print('Tabuada:')\n",
        "\n",
        "print('----------------------------------------')\n",
        "print(N,'* 0 =',N0)\n",
        "print(N,'* 1 =',N1)\n",
        "print(N,'* 2 =',N2)\n",
        "print(N,'* 3 =',N3)\n",
        "print(N,'* 4 =',N4)\n",
        "print(N,'* 5 =',N5)\n",
        "print(N,'* 6 =',N6)\n",
        "print(N,'* 7 =',N7)\n",
        "print(N,'* 8 =',N8)\n",
        "print(N,'* 9 =',N9)\n",
        "print(N,'* 10 =',N10)\n",
        "\n",
        "\n"
      ],
      "metadata": {
        "colab": {
          "base_uri": "https://localhost:8080/"
        },
        "id": "eG00lM7CfBOI",
        "outputId": "2fcd7bd4-cc61-428e-d3c7-301b99558ed9"
      },
      "execution_count": null,
      "outputs": [
        {
          "output_type": "stream",
          "name": "stdout",
          "text": [
            "digite um número inteiro:2\n",
            "você escolheu o número: 2\n",
            "Tabuada:\n",
            "----------------------------------------\n",
            "2 * 0 = ()\n",
            "2 * 1 = ()\n",
            "2 * 2 = ()\n",
            "2 * 3 = ()\n",
            "2 * 4 = ()\n",
            "2 * 5 = ()\n",
            "2 * 6 = ()\n",
            "2 * 7 = ()\n",
            "2 * 8 = ()\n",
            "2 * 9 = ()\n",
            "2 * 10 = ()\n"
          ]
        }
      ]
    },
    {
      "cell_type": "code",
      "source": [
        "N = ()\n",
        "N0= (N*0)\n",
        "N1= (N*1)\n",
        "N2= (N*2)\n",
        "N3= (N*3)\n",
        "N4= (N*4)\n",
        "N5= (N*5)\n",
        "N6= (N*6)\n",
        "N7= (N*7)\n",
        "N8= (N*8)\n",
        "N9= (N*9)\n",
        "N10= (N*10)\n",
        "\n",
        "N = ()\n",
        "N0= N*0\n",
        "N1= N*1\n",
        "N2= N*2\n",
        "N3= N*3\n",
        "N4= N*4\n",
        "N5= N*5\n",
        "N6= N*6\n",
        "N7= N*7\n",
        "N8= N*8\n",
        "N9= N*9\n",
        "N10= N*10\n"
      ],
      "metadata": {
        "colab": {
          "base_uri": "https://localhost:8080/"
        },
        "id": "bt25iIiQlMsv",
        "outputId": "2410a6fb-9b4c-4d04-dabc-258ea1323454"
      },
      "execution_count": null,
      "outputs": [
        {
          "output_type": "stream",
          "name": "stdout",
          "text": [
            "digite um número inteiro:10\n",
            "você escolheu o número: 10\n",
            "Tabuada:\n",
            "----------------------------------------\n",
            "10 * 0 = ()\n",
            "10 * 1 = ()\n",
            "10 * 2 = ()\n",
            "10 * 3 = ()\n",
            "10 * 4 = ()\n",
            "10 * 5 = ()\n",
            "10 * 6 = ()\n",
            "10 * 7 = ()\n",
            "10 * 8 = ()\n",
            "10 * 9 = ()\n",
            "10 * 10 = ()\n"
          ]
        }
      ]
    },
    {
      "cell_type": "code",
      "source": [
        "N = 10\n",
        "N0= 10*0\n",
        "N1= 10*1\n",
        "N2= 10*2\n",
        "N3= 10*3\n",
        "N4= 10*4\n",
        "N5= 10*5\n",
        "N6= 10*6\n",
        "N7= 10*7\n",
        "N8= 10*8\n",
        "N9= 10*9\n",
        "N10= 10*10\n",
        "\n",
        "N = input('digite um número inteiro:')\n",
        "\n",
        "int(N)\n",
        "\n",
        "\n",
        "print('Tabuada  ----------------------------------------')\n",
        "print(N,'* 0 = {}'.format(N0))\n",
        "print(N,'* 1 = {}'.format(N1))\n",
        "print(N,'* 2 = {}'.format(N2))\n",
        "print(N,'* 3 = {}'.format(N3))\n",
        "print(N,'* 4 = {}'.format(N4))\n",
        "print(N,'* 5 = {}'.format(N5))\n",
        "print(N,'* 6 = {}'.format(N6))\n",
        "print(N,'* 7 = {}'.format(N7))\n",
        "print(N,'* 8 = {}'.format(N8))\n",
        "print(N,'* 9 = {}'.format(N9))\n",
        "print(N,'* 10 = {}'.format(N10))\n",
        "\n"
      ],
      "metadata": {
        "colab": {
          "base_uri": "https://localhost:8080/"
        },
        "id": "PEZSEiqanfSD",
        "outputId": "49300871-ed05-4377-b395-ab8ca6ccf68b"
      },
      "execution_count": null,
      "outputs": [
        {
          "output_type": "stream",
          "name": "stdout",
          "text": [
            "digite um número inteiro:56\n",
            "Tabuada  ----------------------------------------\n",
            "56 * 0 = 0\n",
            "56 * 1 = 10\n",
            "56 * 2 = 20\n",
            "56 * 3 = 30\n",
            "56 * 4 = 40\n",
            "56 * 5 = 50\n",
            "56 * 6 = 60\n",
            "56 * 7 = 70\n",
            "56 * 8 = 80\n",
            "56 * 9 = 90\n",
            "56 * 10 = 100\n"
          ]
        }
      ]
    },
    {
      "cell_type": "code",
      "source": [
        "N = 10\n",
        "N0= 10*0\n",
        "N1= 10*1\n",
        "N2= 10*2\n",
        "N3= 10*3\n",
        "N4= 10*4\n",
        "N5= 10*5\n",
        "N6= 10*6\n",
        "N7= 10*7\n",
        "N8= 10*8\n",
        "N9= 10*9\n",
        "N10= 10*10\n",
        "\n",
        "\n",
        "N = input('digite um número inteiro:')\n",
        "print('você escolheu o número:',N)\n",
        "\n",
        "print('Tabuada:')\n",
        "\n",
        "\n",
        "print('----------------------------------------')\n",
        "print(N,'* 0 = {}'.format(N0))\n",
        "print(N,'* 1 = {}'.format(N1))\n",
        "print(N,'* 2 = {}'.format(N2))\n",
        "print(N,'* 3 = {}'.format(N3))\n",
        "print(N,'* 4 = {}'.format(N4))\n",
        "print(N,'* 5 = {}'.format(N5))\n",
        "print(N,'* 6 = {}'.format(N6))\n",
        "print(N,'* 7 = {}'.format(N7))\n",
        "print(N,'* 8 = {}'.format(N8))\n",
        "print(N,'* 9 = {}'.format(N9))\n",
        "print(N,'* 10 = {}'.format(N10))\n",
        "\n"
      ],
      "metadata": {
        "colab": {
          "base_uri": "https://localhost:8080/"
        },
        "id": "fojBIR4NuPit",
        "outputId": "28d19578-200d-4716-acbe-49c6d22cfb32"
      },
      "execution_count": null,
      "outputs": [
        {
          "output_type": "stream",
          "name": "stdout",
          "text": [
            "digite um número inteiro:10\n",
            "você escolheu o número: 10\n",
            "Tabuada:\n",
            "----------------------------------------\n",
            "10 * 0 = 0\n",
            "10 * 1 = 10\n",
            "10 * 2 = 20\n",
            "10 * 3 = 30\n",
            "10 * 4 = 40\n",
            "10 * 5 = 50\n",
            "10 * 6 = 60\n",
            "10 * 7 = 70\n",
            "10 * 8 = 80\n",
            "10 * 9 = 90\n",
            "10 * 10 = 100\n"
          ]
        }
      ]
    },
    {
      "cell_type": "code",
      "source": [
        "N = ()\n",
        "N1 = N*1\n",
        "N = 2\n",
        "N1 = N*1\n",
        "\n",
        "print(N1)"
      ],
      "metadata": {
        "colab": {
          "base_uri": "https://localhost:8080/"
        },
        "id": "BYlLn1gRsMKD",
        "outputId": "b13f9112-3247-4ccb-bbe3-bd17249edc9f"
      },
      "execution_count": null,
      "outputs": [
        {
          "output_type": "stream",
          "name": "stdout",
          "text": [
            "2\n"
          ]
        }
      ]
    },
    {
      "cell_type": "code",
      "source": [
        "\n",
        "#Erro"
      ],
      "metadata": {
        "id": "WtX4lhMDzMA6"
      },
      "execution_count": null,
      "outputs": []
    },
    {
      "cell_type": "code",
      "source": [
        "N = ()\n",
        "N = input('digite um número:')\n",
        "print(N)\n",
        "N11 = N * 8\n",
        "print(N11)"
      ],
      "metadata": {
        "colab": {
          "base_uri": "https://localhost:8080/"
        },
        "id": "n36lp5Du1mm6",
        "outputId": "72bfceea-8b5b-4822-f07d-1ba6470422ad"
      },
      "execution_count": null,
      "outputs": [
        {
          "output_type": "stream",
          "name": "stdout",
          "text": [
            "digite um número:2\n",
            "2\n",
            "22222222\n"
          ]
        }
      ]
    },
    {
      "cell_type": "code",
      "source": [
        "N = 10\n",
        "N0= 10*0\n",
        "N1= 10*1\n",
        "N2= 10*2\n",
        "N3= 10*3\n",
        "N4= 10*4\n",
        "N5= 10*5\n",
        "N6= 10*6\n",
        "N7= 10*7\n",
        "N8= 10*8\n",
        "N9= 10*9\n",
        "N10= 10*10\n",
        "\n",
        "\n",
        "N = input('digite um número inteiro:')\n",
        "print('você escolheu o número:',N)\n",
        "\n",
        "int()\n",
        "\n",
        "print('Tabuada:')\n",
        "\n",
        "\n",
        "print('----------------------------------------')\n",
        "print(N,'* 0 = {}'.format(N0))\n",
        "print(N,'* 1 = {}'.format(N1))\n",
        "print(N,'* 2 = {}'.format(N2))\n",
        "print(N,'* 3 = {}'.format(N3))\n",
        "print(N,'* 4 = {}'.format(N4))\n",
        "print(N,'* 5 = {}'.format(N5))\n",
        "print(N,'* 6 = {}'.format(N6))\n",
        "print(N,'* 7 = {}'.format(N7))\n",
        "print(N,'* 8 = {}'.format(N8))\n",
        "print(N,'* 9 = {}'.format(N9))\n",
        "print(N,'* 10 = {}'.format(N10))\n"
      ],
      "metadata": {
        "colab": {
          "base_uri": "https://localhost:8080/"
        },
        "id": "U2-rN3QZmPOC",
        "outputId": "0a211a56-07ab-4538-af2d-adc9b3a8d269"
      },
      "execution_count": null,
      "outputs": [
        {
          "output_type": "stream",
          "name": "stdout",
          "text": [
            "digite um número inteiro:10\n",
            "você escolheu o número: 10\n",
            "Tabuada:\n",
            "----------------------------------------\n",
            "10 * 0 = 0\n",
            "10 * 1 = 10\n",
            "10 * 2 = 20\n",
            "10 * 3 = 30\n",
            "10 * 4 = 40\n",
            "10 * 5 = 50\n",
            "10 * 6 = 60\n",
            "10 * 7 = 70\n",
            "10 * 8 = 80\n",
            "10 * 9 = 90\n",
            "10 * 10 = 100\n"
          ]
        }
      ]
    },
    {
      "cell_type": "code",
      "source": [],
      "metadata": {
        "id": "0gjG84_DnnLx"
      },
      "execution_count": null,
      "outputs": []
    },
    {
      "cell_type": "code",
      "source": [],
      "metadata": {
        "id": "6QuySqRRnnH-"
      },
      "execution_count": null,
      "outputs": []
    },
    {
      "cell_type": "code",
      "source": [
        "N = 10\n",
        "N0= N*0\n",
        "N1= N*1\n",
        "N2= N*2\n",
        "N3= N*3\n",
        "N4= N*4\n",
        "N5= N*5\n",
        "N6= N*6\n",
        "N7= N*7\n",
        "N8= N*8\n",
        "N9= N*9\n",
        "N10= N*10\n",
        "\n",
        "N = input('digite um número inteiro:')\n",
        "print('você escolheu o número:',N)\n",
        "\n",
        "int(N)\n",
        " \n",
        "print('----------------------------------------')\n",
        "print(N,'* 0 = {}'.format(N0))\n",
        "print(N,'* 1 = {}'.format(N1))\n",
        "print(N,'* 2 = {}'.format(N2))\n",
        "print(N,'* 3 = {}'.format(N3))\n",
        "print(N,'* 4 = {}'.format(N4))\n",
        "print(N,'* 5 = {}'.format(N5))\n",
        "print(N,'* 6 = {}'.format(N6))\n",
        "print(N,'* 7 = {}'.format(N7))\n",
        "print(N,'* 8 = {}'.format(N8))\n",
        "print(N,'* 9 = {}'.format(N9))\n",
        "print(N,'* 10 = {}'.format(N10))\n"
      ],
      "metadata": {
        "colab": {
          "base_uri": "https://localhost:8080/"
        },
        "id": "m0wB2u_gnmpS",
        "outputId": "f659f8c9-0062-48c9-a58d-736700d60e30"
      },
      "execution_count": null,
      "outputs": [
        {
          "output_type": "stream",
          "name": "stdout",
          "text": [
            "digite um número inteiro:10\n",
            "você escolheu o número: 10\n",
            "----------------------------------------\n",
            "10 * 0 = 0\n",
            "10 * 1 = 10\n",
            "10 * 2 = 20\n",
            "10 * 3 = 30\n",
            "10 * 4 = 40\n",
            "10 * 5 = 50\n",
            "10 * 6 = 60\n",
            "10 * 7 = 70\n",
            "10 * 8 = 80\n",
            "10 * 9 = 90\n",
            "10 * 10 = 100\n"
          ]
        }
      ]
    },
    {
      "cell_type": "code",
      "source": [
        "N = 10\n",
        "N0= N*0\n",
        "N1= N*1\n",
        "N2= N*2\n",
        "N3= N*3\n",
        "N4= N*4\n",
        "N5= N*5\n",
        "N6= N*6\n",
        "N7= N*7\n",
        "N8= N*8\n",
        "N9= N*9\n",
        "N10= N*10\n",
        "\n",
        "int(N)\n",
        " \n",
        "print('-p---------------------------------------')\n",
        "print(N,'* 0 = {}'.format(N0))\n",
        "print(N,'* 1 = {}'.format(N1))\n",
        "print(N,'* 2 = {}'.format(N2))\n",
        "print(N,'* 3 = {}'.format(N3))\n",
        "print(N,'* 4 = {}'.format(N4))\n",
        "print(N,'* 5 = {}'.format(N5))\n",
        "print(N,'* 6 = {}'.format(N6))\n",
        "print(N,'* 7 = {}'.format(N7))\n",
        "print(N,'* 8 = {}'.format(N8))\n",
        "print(N,'* 9 = {}'.format(N9))\n",
        "print(N,'* 10 = {}'.format(N10))\n",
        "\n",
        "\n",
        " \n",
        "\n",
        "\n"
      ],
      "metadata": {
        "colab": {
          "base_uri": "https://localhost:8080/"
        },
        "id": "nFljpd7DpFhT",
        "outputId": "1f548dca-bf1e-462c-fa9f-e547504748ba"
      },
      "execution_count": null,
      "outputs": [
        {
          "output_type": "stream",
          "name": "stdout",
          "text": [
            "digite um número inteiro:10\n",
            "você escolheu o número: 10\n",
            "----------------------------------------\n",
            "10 * 0 = 0\n",
            "10 * 1 = 10\n",
            "10 * 2 = 20\n",
            "10 * 3 = 30\n",
            "10 * 4 = 40\n",
            "10 * 5 = 50\n",
            "10 * 6 = 60\n",
            "10 * 7 = 70\n",
            "10 * 8 = 80\n",
            "10 * 9 = 90\n",
            "10 * 10 = 100\n"
          ]
        }
      ]
    },
    {
      "cell_type": "code",
      "source": [
        "Km = 200\n",
        "Lt = 12\n",
        "Resultado = Km/Lt\n",
        "\n",
        "Km = input('Quantos quilômetros você andou com seu carro?:')\n",
        "Lt = input('Quantos litros seu carro andou?:')\n",
        "print(' O seu carro consumiu {0:10.2F} Km/lt'.format(Resultado))"
      ],
      "metadata": {
        "colab": {
          "base_uri": "https://localhost:8080/"
        },
        "id": "FT93nYIbq_fF",
        "outputId": "f399200b-8caf-4221-c419-5914645c399b"
      },
      "execution_count": null,
      "outputs": [
        {
          "output_type": "stream",
          "name": "stdout",
          "text": [
            "Quantos quilômetros você andou com seu carro?:200\n",
            "Quantos litros seu carro andou?:12\n",
            " O seu carro consumiu      16.67 Km/lt\n"
          ]
        }
      ]
    },
    {
      "cell_type": "code",
      "source": [
        "N = ()\n",
        "N = int(input('Digite um número inteiro:'))\n",
        "\n",
        "N0= N*0\n",
        "N1= N*1\n",
        "N2= N*2\n",
        "N3= N*3\n",
        "N4= N*4\n",
        "N5= N*5\n",
        "N6= N*6\n",
        "N7= N*7\n",
        "N8= N*8\n",
        "N9= N*9\n",
        "N10= N*10\n",
        "\n",
        "print('-p---------------------------------------')\n",
        "print(N,'* 0 = {}'.format(N0))\n",
        "print(N,'* 1 = {}'.format(N1))\n",
        "print(N,'* 2 = {}'.format(N2))\n",
        "print(N,'* 3 = {}'.format(N3))\n",
        "print(N,'* 4 = {}'.format(N4))\n",
        "print(N,'* 5 = {}'.format(N5))\n",
        "print(N,'* 6 = {}'.format(N6))\n",
        "print(N,'* 7 = {}'.format(N7))\n",
        "print(N,'* 8 = {}'.format(N8))\n",
        "print(N,'* 9 = {}'.format(N9))\n",
        "print(N,'* 10 = {}'.format(N10))\n",
        "\n",
        "\n"
      ],
      "metadata": {
        "id": "TVYouRJF6uHv",
        "colab": {
          "base_uri": "https://localhost:8080/"
        },
        "outputId": "5353697f-a937-42ec-df0a-3c337cb68bdd"
      },
      "execution_count": null,
      "outputs": [
        {
          "output_type": "stream",
          "name": "stdout",
          "text": [
            "Digite um número inteiro:14\n",
            "-p---------------------------------------\n",
            "14 * 0 = 0\n",
            "14 * 1 = 14\n",
            "14 * 2 = 28\n",
            "14 * 3 = 42\n",
            "14 * 4 = 56\n",
            "14 * 5 = 70\n",
            "14 * 6 = 84\n",
            "14 * 7 = 98\n",
            "14 * 8 = 112\n",
            "14 * 9 = 126\n",
            "14 * 10 = 140\n"
          ]
        }
      ]
    },
    {
      "cell_type": "code",
      "source": [
        "Km = ()\n",
        "Lt = ()\n",
        "Km = int(input('Quantos quilômetros seu carro percorreu?'))\n",
        "Lt = int(input('Quantos litros de combustível seu carro consumiu?'))\n",
        "Resultado = Km/Lt\n",
        "print(' O seu carro consumiu {0:10.2F} Km/lt'.format(Resultado))\n",
        "\n"
      ],
      "metadata": {
        "colab": {
          "base_uri": "https://localhost:8080/"
        },
        "id": "jrAjIatL8VtU",
        "outputId": "23588658-5ad1-4840-a582-18355f7bf70a"
      },
      "execution_count": null,
      "outputs": [
        {
          "output_type": "stream",
          "name": "stdout",
          "text": [
            "Quantos quilômetros seu carro percorreu?40\n",
            "Quantos litros de combustível seu carro consumiu?3\n",
            " O seu carro consumiu      13.33 Km/lt\n"
          ]
        }
      ]
    },
    {
      "cell_type": "code",
      "source": [
        "#Declarando variáveis:\n",
        "a = 7\n",
        "b = 2\n",
        "\n",
        "#a == b\n",
        "a == b\n"
      ],
      "metadata": {
        "id": "hpBTETpdOdjZ",
        "colab": {
          "base_uri": "https://localhost:8080/"
        },
        "outputId": "af27c5e6-8786-4b2d-ed5f-cf0c04587f14"
      },
      "execution_count": null,
      "outputs": [
        {
          "output_type": "execute_result",
          "data": {
            "text/plain": [
              "False"
            ]
          },
          "metadata": {},
          "execution_count": 5
        }
      ]
    },
    {
      "cell_type": "code",
      "source": [
        "# a!= b\n",
        "a != b"
      ],
      "metadata": {
        "colab": {
          "base_uri": "https://localhost:8080/"
        },
        "id": "bJgAodWPgJrQ",
        "outputId": "20d491da-a40c-4c97-a968-6ad4c29b740d"
      },
      "execution_count": null,
      "outputs": [
        {
          "output_type": "execute_result",
          "data": {
            "text/plain": [
              "True"
            ]
          },
          "metadata": {},
          "execution_count": 9
        }
      ]
    },
    {
      "cell_type": "code",
      "source": [
        "# a > b\n",
        "a > b"
      ],
      "metadata": {
        "colab": {
          "base_uri": "https://localhost:8080/"
        },
        "id": "z8K7_mAAgc1O",
        "outputId": "a769c1c3-465e-4741-f58c-83765c78cb6e"
      },
      "execution_count": null,
      "outputs": [
        {
          "output_type": "execute_result",
          "data": {
            "text/plain": [
              "True"
            ]
          },
          "metadata": {},
          "execution_count": 10
        }
      ]
    },
    {
      "cell_type": "code",
      "source": [
        "# a >= b\n",
        "a >= b"
      ],
      "metadata": {
        "colab": {
          "base_uri": "https://localhost:8080/"
        },
        "id": "zJaMfbF-gssj",
        "outputId": "20140b00-715d-4619-dd2e-edf5d74f36f6"
      },
      "execution_count": null,
      "outputs": [
        {
          "output_type": "execute_result",
          "data": {
            "text/plain": [
              "True"
            ]
          },
          "metadata": {},
          "execution_count": 11
        }
      ]
    },
    {
      "cell_type": "code",
      "source": [
        "# a < b\n",
        "a < b"
      ],
      "metadata": {
        "colab": {
          "base_uri": "https://localhost:8080/"
        },
        "id": "ngI1hvQLg0dM",
        "outputId": "9aa656d5-4409-4e40-cc3f-b3c1d4ba29bf"
      },
      "execution_count": null,
      "outputs": [
        {
          "output_type": "execute_result",
          "data": {
            "text/plain": [
              "False"
            ]
          },
          "metadata": {},
          "execution_count": 12
        }
      ]
    },
    {
      "cell_type": "code",
      "source": [
        "# a <= b\n",
        "a <= b"
      ],
      "metadata": {
        "colab": {
          "base_uri": "https://localhost:8080/"
        },
        "id": "_xSfUvCGg-K-",
        "outputId": "fbf12b08-bf36-45b2-fc7a-c54e03e38900"
      },
      "execution_count": null,
      "outputs": [
        {
          "output_type": "execute_result",
          "data": {
            "text/plain": [
              "False"
            ]
          },
          "metadata": {},
          "execution_count": 13
        }
      ]
    },
    {
      "cell_type": "code",
      "source": [
        "# Exercícios de comparadores \n",
        "\n",
        "#Pedindo inputs\n",
        "c = float(input('Digite um número:'))\n",
        "d = float(input(' Digite outro número:'))\n",
        "\n",
        "comparacao = c == d\n",
        "\n",
        "#Imprimindo comparação\n",
        "print('A variável c é igual a variável d: {}'.format(comparacao))"
      ],
      "metadata": {
        "colab": {
          "base_uri": "https://localhost:8080/"
        },
        "id": "4ZNCDkAImTyh",
        "outputId": "0e0e79e8-aefc-4b74-ec0b-337278407295"
      },
      "execution_count": null,
      "outputs": [
        {
          "output_type": "stream",
          "name": "stdout",
          "text": [
            "Digite um número:7\n",
            " Digite outro número:3\n",
            "A variável c é igual a variável d: False\n"
          ]
        }
      ]
    },
    {
      "cell_type": "code",
      "source": [
        "# compare se a variável 1 é maior que a variável 2.\n",
        "\n",
        "comparacao = c >= d\n",
        "#Imprimindo comparação\n",
        "print('A variável a é maior que a variável b:{}'.format(comparacao))"
      ],
      "metadata": {
        "colab": {
          "base_uri": "https://localhost:8080/"
        },
        "id": "KFFeJIzMpg1D",
        "outputId": "e16e7d12-be27-4f11-d515-31c605a2a2e5"
      },
      "execution_count": null,
      "outputs": [
        {
          "output_type": "stream",
          "name": "stdout",
          "text": [
            "A variável a é maior que a variável b:True\n"
          ]
        }
      ]
    },
    {
      "cell_type": "code",
      "source": [
        "# dado o preço do lanche 10.90 e da batata 5.40. Calcule quanto irá sair a conta do usuário. \n",
        "# O usuário deve inserir a quantidade de lanche que ele quer e a quantidade de batatas.\n",
        "# Finalmente peça para o usuário informar quanto dinheiro tem na carteira e verifique se ele irá pagara a conta.\n",
        "\n",
        "lanchePreco = 10.90\n",
        "batataPreco = 5.40\n",
        "lancheQtd = float(input('Quantos lanches?'))\n",
        "batataQtd = float(input('Quantas batatas?'))\n",
        "dinheiroTotal = float(input('Quanto dinheiro você tem?'))\n",
        "# Calculando preço total\n",
        "custoTotal = lanchePreco * lancheQtd + batataPreco * batataQtd\n",
        "comparacao = dinheiroTotal >= custoTotal\n",
        "print(custoTotal)\n",
        "# Imprimindo resposta\n",
        "print('A sua compra total ficou:R${:.2f}'.format(custoTotal))\n",
        "print('você possui dinheiro o suficiente para pagar:{}'.format(comparacao))"
      ],
      "metadata": {
        "colab": {
          "base_uri": "https://localhost:8080/"
        },
        "id": "br98a9pirzwV",
        "outputId": "72335ac6-cacd-4db1-cdee-39dd0c032fb8"
      },
      "execution_count": null,
      "outputs": [
        {
          "output_type": "stream",
          "name": "stdout",
          "text": [
            "Quantos lanches?5\n",
            "Quantas batatas?3\n",
            "Quanto dinheiro você tem?50\n",
            "70.7\n",
            "A sua compra total ficou:R$70.70\n",
            "você possui dinheiro o suficiente para pagar:False\n"
          ]
        }
      ]
    },
    {
      "cell_type": "code",
      "source": [
        "# Condicional simples if - else.\n",
        "# As condicionais simples possuem apenas dois caminhos para se seguir: o caminho verdadeiro e o falso.\n",
        "#Após fazer a condição pelo if o programa vai seguir caminhos diferentes.\n",
        "\n",
        "# Estrutura do if - else \n",
        "\n",
        "#if condição\n",
        "#Bloco verdadeiro\n",
        "\n",
        "#else\n",
        "#Bloco falso\n",
        "\n",
        "# Pontos de atenção:\n",
        "# .Não esqueça dos ':'\n",
        "# .Não esqueça da identação.\n",
        "\n",
        "# exemplo True - False\n",
        "if True:\n",
        "  print('Bloco da verdade')\n",
        "else:\n",
        "  print('Bloco False')\n",
        "print('estou fora do bloco')\n",
        "\n",
        "\n",
        "\n"
      ],
      "metadata": {
        "colab": {
          "base_uri": "https://localhost:8080/"
        },
        "id": "xuv0g8myEgxz",
        "outputId": "c0184a58-9120-4186-9cf8-10a5da2191c1"
      },
      "execution_count": null,
      "outputs": [
        {
          "output_type": "stream",
          "name": "stdout",
          "text": [
            "Bloco da verdade\n",
            "estou fora do bloco\n"
          ]
        }
      ]
    },
    {
      "cell_type": "code",
      "source": [
        "# Exemplo 1\n",
        "\n",
        "# Dado as variáveis:\n",
        "#a = 2\n",
        "#b = 3\n",
        "# comparesse a == b e imprima uma mensagem de resultado.\n",
        "\n",
        "#declarando as variáveis\n",
        "a = 2\n",
        "b = 3\n",
        "#desenhando o if\n",
        "if a == b:\n",
        "  print('A variável a, que vale {} é igual a variável b, que vale {}'.format(a,b))\n",
        "else:\n",
        "  print(' a variável a, que vale {} é difrente da variável b, que vale {}'.format(a,b))\n",
        "print('Fim da comparação.')"
      ],
      "metadata": {
        "colab": {
          "base_uri": "https://localhost:8080/"
        },
        "id": "HqYJsnR6J9tc",
        "outputId": "4ca3cf87-a67f-46e0-81c7-4b7c946b5da2"
      },
      "execution_count": null,
      "outputs": [
        {
          "output_type": "stream",
          "name": "stdout",
          "text": [
            " a variável a, que vale 2 é difrente da variável b, que vale 3\n",
            "Fim da comparação.\n"
          ]
        }
      ]
    },
    {
      "cell_type": "code",
      "source": [
        "# Agora...mude a variável:\n",
        "#b = 2\n",
        "#e execute o mesmo código anterior.\n",
        "\n",
        "b = 2\n",
        "if a == b:\n",
        "  print('A variável a, que vale {} é igual a variável b, que vale {}'.format(a,b))\n",
        "else:\n",
        "  print(' a variável a, que vale {} é difrente da variável b, que vale {}'.format(a,b))\n",
        "print('Fim da comparação.')"
      ],
      "metadata": {
        "colab": {
          "base_uri": "https://localhost:8080/"
        },
        "id": "CP48bSk1QI3S",
        "outputId": "0d6dba59-b4b4-4eca-a24d-125a575f38df"
      },
      "execution_count": null,
      "outputs": [
        {
          "output_type": "stream",
          "name": "stdout",
          "text": [
            "A variável a, que vale 2 é igual a variável b, que vale 2\n",
            "Fim da comparação.\n"
          ]
        }
      ]
    },
    {
      "cell_type": "code",
      "source": [
        "# Exemplo 2 \n",
        "#1. Faça um programa que pede pra um usuário digitar 2 números e:\n",
        "# . Se num1 >= num2 então multiplique o num2 por 5\n",
        "# . Caso contrário, multiplique o num1 por 5.\n",
        "\n",
        "# Pedindo inputs\n",
        "Num1 = float(input(' Digite um número:'))\n",
        "Num2 = float(input('Digite um número:'))\n",
        "\n",
        "#Fazendo if\n",
        "\n",
        "if Num1 >= Num2:\n",
        "  print('Num1 é maior ou igual a Num2')\n",
        "  Num2 = Num2*5\n",
        "else:\n",
        "  print('Num2 é maior que o Num1')\n",
        "  Num1 = Num1*5\n",
        "print('Num1 = {} e Num2 = {}'.format(Num1,Num2))\n"
      ],
      "metadata": {
        "colab": {
          "base_uri": "https://localhost:8080/"
        },
        "id": "FvYJWCQ-RMr7",
        "outputId": "f10bc3e3-f4b0-49d8-8103-bf031de7af2a"
      },
      "execution_count": null,
      "outputs": [
        {
          "output_type": "stream",
          "name": "stdout",
          "text": [
            " Digite um número:2\n",
            "Digite um número:5\n",
            "Num2 é maior que o Num1\n",
            "Num1 = 10.0 e Num2 = 5.0\n"
          ]
        }
      ]
    },
    {
      "cell_type": "code",
      "source": [
        "#condições alinhadas if - elif - else\n",
        "\n",
        "# Esses condicionais são utilizados somente quando não temos somente dois casos(True e False).\n",
        "# Mas sim quando temos vários casos.\n",
        "\n",
        "#if condiçaõ 1:\n",
        "\n",
        " #Bloco condição 1 vrdadeiro \n",
        "\n",
        "#elif condição 2:\n",
        " #Bloco condição 2 verdadeiro.\n",
        "\n",
        "#else:\n",
        " #Bloco falso.\n",
        "\n",
        "# Exemplo\n",
        "\n",
        "# dada as variáveis:\n",
        "\n",
        "#a = 2 \n",
        "#b = 3\n",
        "# Compare e mostre para o usuário se uma é igual a outra,ou se uma é maior que a outra. E neste caso qual é o maior.\n",
        "\n",
        "# Declarando variáveis:\n",
        "\n",
        "a = 4\n",
        "b = 3\n",
        "\n",
        "# Mostrando o if - elif - else:\n",
        "\n",
        "if a == b:\n",
        "  print('a é igual a b')\n",
        "elif a < b:\n",
        "  print('a é menor que b')\n",
        "else:\n",
        "  print('A é maior do que  B.')\n",
        "print('Fim.')\n",
        "\n",
        "\n",
        "\n"
      ],
      "metadata": {
        "colab": {
          "base_uri": "https://localhost:8080/"
        },
        "id": "Od7GL4ewGFwl",
        "outputId": "903ba3d3-0f06-4e56-cf66-880fbb246725"
      },
      "execution_count": null,
      "outputs": [
        {
          "output_type": "stream",
          "name": "stdout",
          "text": [
            "A é maior do que  B.\n",
            "Fim.\n"
          ]
        }
      ]
    },
    {
      "cell_type": "code",
      "source": [
        "# Agora faça um programa onde o usuário poderá digitar os dois números e você fará essas comparações.\n",
        "\n",
        "# Declarando variáveis:\n",
        "\n",
        "a = float(input('Digite um número:'))\n",
        "b = float(input('Digite outro número:'))\n",
        "\n",
        "if a == b:\n",
        "  print('  a é igual o b')\n",
        "elif  a < b:\n",
        "  print(' a é menor que o b') \n",
        "else:\n",
        "  print(' a é maior que o b')\n",
        "print('Fim.')"
      ],
      "metadata": {
        "colab": {
          "base_uri": "https://localhost:8080/"
        },
        "id": "fzbZ9xqvLTlf",
        "outputId": "5cd0701a-d552-4e78-de29-faa8a0849727"
      },
      "execution_count": null,
      "outputs": [
        {
          "output_type": "stream",
          "name": "stdout",
          "text": [
            "Digite um número:54.8\n",
            "Digite outro número:36.9\n",
            " a é maior que o b\n",
            "Fim.\n"
          ]
        }
      ]
    },
    {
      "cell_type": "code",
      "source": [
        "# Exercício 3\n",
        "\n",
        "# Faça um programa que o usuário irá digitar a vontade que ele está de comer algo.\n",
        "\n",
        "# Caso esse input seja:\n",
        "\n",
        "#. Lanche = então imprima: Vá ao Mequi.\n",
        "#. Pizza = então imprima: Vá ao Hut.\n",
        "#. Mexicano = então imprima: Vá ao Bell.\n",
        "#. Caso contrário = então imprima: Tente novamnte.\n",
        "\n",
        "\n",
        "vontade = input(' O que você quer comer?')\n",
        "if vontade == 'Lanche':\n",
        "  print('Vá ao Mequi.')\n",
        "elif vontade == 'Pizza':\n",
        "  print('Vá ao Hut.')\n",
        "elif vontade == 'Mexicano':\n",
        "  print('Vá ao Bell.')\n",
        "else:\n",
        "  print('Tente novamente.')\n",
        "print('Fim do programa.')"
      ],
      "metadata": {
        "colab": {
          "base_uri": "https://localhost:8080/"
        },
        "id": "7Wf2S5Rp1WxE",
        "outputId": "3eab9792-13eb-4825-e6b0-158629d92a81"
      },
      "execution_count": null,
      "outputs": [
        {
          "output_type": "stream",
          "name": "stdout",
          "text": [
            " O que você quer comer?Japonês \n",
            "Tente novamente.\n",
            "Fim do programa.\n"
          ]
        }
      ]
    },
    {
      "cell_type": "code",
      "source": [
        "# Operadores lógicos.\n",
        "\n",
        "#Os operadores lógicos são usados quando precisamos de multiplas condições em 1 só if.\n",
        "\n",
        "# and: ambas as condições precisam ser satisfeitas simultaneamente. \n",
        "\n",
        "# or: pelo menos uma condição precisa ser satisfeita.\n",
        "\n",
        "# True and True: True\n",
        "# True and False: False\n",
        "# True or False: True\n",
        "# False or True: True\n",
        "# False or False: False\n",
        "\n",
        "#Exemplo 1\n",
        "#Se eu tiver mais de 20 reais e o preço do lanche for menor que 10 reais, então eu compro o lanche.\n",
        "\n",
        "lanchePreco = float(input('Qual é o preço do lanche?'))\n",
        "Saldo = float(input('Quanto dinheiro você tem?'))\n",
        "\n",
        "if Saldo >= 20 and lanchePreco < 10:\n",
        "  print('Comprar o lanche.')\n",
        "else: \n",
        "  print('Não comprar o lanche.')"
      ],
      "metadata": {
        "colab": {
          "base_uri": "https://localhost:8080/"
        },
        "id": "12ud1-sJ7zk4",
        "outputId": "99416fe2-3149-4ca6-fed6-480f76bdce35"
      },
      "execution_count": null,
      "outputs": [
        {
          "output_type": "stream",
          "name": "stdout",
          "text": [
            "Qual é o preço do lanche?12\n",
            "Quanto dinheiro você tem?50\n",
            "Não comprar o lanche.\n"
          ]
        }
      ]
    },
    {
      "cell_type": "code",
      "source": [
        "# Exemplo 2\n",
        "# Se você tiver média nas notas maior que 7 ou nota na prova final maior que 7 você está aprovado. \n",
        "media = float(input('Qual é a sua média de notas?'))\n",
        "mediaFinal = float(input('Qual é a sua média final?'))\n",
        "\n",
        "if media > 7 or mediaFinal > 7:\n",
        "  print('Aprovado.')\n",
        "else:\n",
        "  print('Reprovado.')"
      ],
      "metadata": {
        "colab": {
          "base_uri": "https://localhost:8080/"
        },
        "id": "jFmj4FrEBUxy",
        "outputId": "90078bac-44eb-4bed-b37d-172a87c7f80b"
      },
      "execution_count": null,
      "outputs": [
        {
          "output_type": "stream",
          "name": "stdout",
          "text": [
            "Qual é a sua média de notas?5\n",
            "Qual é a sua média final?6\n",
            "Reprovado.\n"
          ]
        }
      ]
    },
    {
      "cell_type": "code",
      "source": [
        "# Verificando variáveis.\n",
        "# Esta funcionalidade é muito usada para testar e saber se podemos converter variáveis dadas pelo usuário.\n",
        "\n",
        "#.isnumeric(): o input é numérico.\n",
        "#.isalpha(): o input é texto.\n",
        "#.isalnum(): o input é texto e numérico.\n",
        "\n",
        "# Exemplo\n",
        "# Peça para o usuário digitar alguma coisa e verifique o que é.\n",
        "\n",
        "entrada = input('Digite algo:')\n",
        "\n",
        "éNum = entrada.isnumeric()\n",
        "éTex = entrada.isalpha()\n",
        "éNumTex = entrada.isalnum()\n",
        "print(éNum)\n",
        "print(éTex)\n",
        "print(éNumTex)"
      ],
      "metadata": {
        "colab": {
          "base_uri": "https://localhost:8080/"
        },
        "id": "2wh_Wy7bGIU8",
        "outputId": "e7b8d212-5497-4491-bf03-b2aaafdfcc68"
      },
      "execution_count": null,
      "outputs": [
        {
          "output_type": "stream",
          "name": "stdout",
          "text": [
            "Digite algo:12\n",
            "True\n",
            "False\n",
            "True\n"
          ]
        }
      ]
    },
    {
      "cell_type": "code",
      "source": [
        "entrada = input('digite algo:')\n",
        "Número = entrada.isnumeric()\n",
        "\n",
        "if Número:\n",
        "  print('Esse input é um número.')\n",
        "else:\n",
        "  print('Esse input não é um número, tente novamente.')\n",
        "print('Fim.')"
      ],
      "metadata": {
        "colab": {
          "base_uri": "https://localhost:8080/"
        },
        "id": "Dek7-r0ER169",
        "outputId": "0d426685-338d-444c-bbb7-a85c345c5f78"
      },
      "execution_count": null,
      "outputs": [
        {
          "output_type": "stream",
          "name": "stdout",
          "text": [
            "digite algo:12\n",
            "Esse input é um número.\n",
            "Fim.\n"
          ]
        }
      ]
    },
    {
      "cell_type": "code",
      "source": [
        "entrada = float(input('digite um número par:'))\n",
        "par = entrada % 2\n",
        "\n",
        "if par == 0:\n",
        "  print('o número é par.')\n",
        "else:\n",
        "  print(' o número é impar, tente novamente.')\n",
        "print('Fim.')"
      ],
      "metadata": {
        "colab": {
          "base_uri": "https://localhost:8080/"
        },
        "id": "0azKydxzWHTX",
        "outputId": "560402f3-3822-4cd0-e9de-bc756d59660f"
      },
      "execution_count": null,
      "outputs": [
        {
          "output_type": "stream",
          "name": "stdout",
          "text": [
            "digite um número par:39\n",
            " o número é impar, tente novamente.\n",
            "Fim.\n"
          ]
        }
      ]
    },
    {
      "cell_type": "code",
      "source": [
        "entrada = int(input('Digite um número inteiro:'))\n",
        "entrada2 = int(input('Digite outro número inteiro:'))\n",
        "\n",
        "Div = entrada % entrada2\n",
        "if Div == 0:\n",
        "  print('Os números são divisíveis')\n",
        "else: \n",
        "  print(' Os números não são divisíveis.')\n",
        "print('Fim.')"
      ],
      "metadata": {
        "colab": {
          "base_uri": "https://localhost:8080/"
        },
        "id": "4ogmkxQDap08",
        "outputId": "08c6d3d1-55a7-4e1d-b34f-afd49599da3f"
      },
      "execution_count": null,
      "outputs": [
        {
          "output_type": "stream",
          "name": "stdout",
          "text": [
            "Digite um número inteiro:44\n",
            "Digite outro número inteiro:10\n",
            " Os números não são divisíveis.\n",
            "Fim.\n"
          ]
        }
      ]
    },
    {
      "cell_type": "code",
      "source": [
        "entrada = float(input('Digite um número:'))\n",
        "entrada2 = float(input('Digite outro número'))\n",
        "Operação = input( ' Escolha a operação: Soma, Subtração, Divisão, Multiplicação, Potência.')\n",
        "\n",
        "Soma = entrada + entrada2\n",
        "Subtração = entrada - entrada2\n",
        "Divisão = entrada / entrada2\n",
        "Multiplicação = entrada * entrada2\n",
        "Potência = entrada ** entrada2\n",
        "\n",
        "\n",
        "if Operação == 'Soma':\n",
        "  print('O num 1 + Num 2 =' ,Soma)\n",
        "elif Operação == 'Subtração':\n",
        "  print('O Num 1 - Num 2 =' ,Subtração) \n",
        "elif Operação == 'Divisão':\n",
        "  print('O Num 1 / Num 2 =' ,Divisão)\n",
        "elif Operação == 'Multiplicação':\n",
        "  print('O Num 1 x Num 2 =' ,Multiplicação)\n",
        "elif Operação == 'Potência':\n",
        "  print('O Num 1 elevado ao Num 2 =' ,Potência)\n",
        "else:\n",
        "  ('Erro')"
      ],
      "metadata": {
        "colab": {
          "base_uri": "https://localhost:8080/"
        },
        "id": "RYYcAVKOdpWc",
        "outputId": "27250804-7b3a-4c98-9d5e-1554b07a7a97"
      },
      "execution_count": null,
      "outputs": [
        {
          "output_type": "stream",
          "name": "stdout",
          "text": [
            "Digite um número:5\n",
            "Digite outro número10\n",
            " Escolha a operação: Soma, Subtração, Divisão, Multiplicação, Potência.Multiplicação\n",
            "O Num 1 x Num 2 = 50.0\n"
          ]
        }
      ]
    },
    {
      "cell_type": "code",
      "source": [
        "nome = input(' Diga seu nome:')\n",
        "diaNasc = int(input('Digite o dia de seu nascimento:'))\n",
        "mesNasc = int(input('Digite o mês de seu nascimento:'))\n",
        "anoNasc = int(input('Digite o ano de seu nascimento:'))\n",
        "\n",
        "if anoNasc <= 2004 and mesNasc <= 12: \n",
        "  print('Você é maior de idade e pode comprar bebida.')\n",
        "else:\n",
        "  print(' Você é menor de idade e não pode comprar bebida.')\n"
      ],
      "metadata": {
        "colab": {
          "base_uri": "https://localhost:8080/"
        },
        "id": "7u_gu8egiF4i",
        "outputId": "2c547b28-dc5b-4df0-b43d-612250e19e2f"
      },
      "execution_count": null,
      "outputs": [
        {
          "output_type": "stream",
          "name": "stdout",
          "text": [
            " Diga seu nome:Bruna\n",
            "Digite o dia de seu nascimento:20\n",
            "Digite o mês de seu nascimento:02\n",
            "Digite o ano de seu nascimento:1997\n",
            "Você é maior de idade e pode comprar bebida.\n"
          ]
        }
      ]
    },
    {
      "cell_type": "code",
      "source": [
        "# Exercício 2\n",
        "\n",
        "nota1 = float(input('Digite a sua primeira nota:'))\n",
        "nota2 = float(input('Digite a sua segunda nota:'))\n",
        "nota3 = float(input('Digite a sua terceira nota:'))\n",
        "\n",
        "mediaFinal = (nota1 + nota2 + nota3) / 3\n",
        "print('{:.2f}'.format(mediaFinal))\n",
        "\n",
        "if mediaFinal >= 80.0:\n",
        "  print('Aprovado')\n",
        "else:\n",
        "  print('Reprovado')\n",
        "print('Fim.')\n"
      ],
      "metadata": {
        "colab": {
          "base_uri": "https://localhost:8080/"
        },
        "id": "L_m1ixkUKivW",
        "outputId": "f5c230e0-97ce-4996-f63b-1261489ffb81"
      },
      "execution_count": null,
      "outputs": [
        {
          "output_type": "stream",
          "name": "stdout",
          "text": [
            "Digite a sua primeira nota:85\n",
            "Digite a sua segunda nota:89\n",
            "Digite a sua terceira nota:92\n",
            "88.67\n",
            "Aprovado\n",
            "Fim.\n"
          ]
        }
      ]
    },
    {
      "cell_type": "code",
      "source": [
        "altura = float(input('Digite altura do paciente:'))\n",
        "par = altura % 2\n",
        "if par == 0:\n",
        "  print('A altura que foi digitada {} cm, é um número par.'.format(altura))\n",
        "else:\n",
        "  print('A altura que foi digitada é {} cm,e é um número ímpar.'.format(altura))\n",
        "print('Fim.')"
      ],
      "metadata": {
        "colab": {
          "base_uri": "https://localhost:8080/"
        },
        "id": "TnVSBjoQNuo3",
        "outputId": "62a46463-b113-45b5-a247-c4007f3ad2fa"
      },
      "execution_count": null,
      "outputs": [
        {
          "output_type": "stream",
          "name": "stdout",
          "text": [
            "Digite altura do paciente:183\n",
            "A altura que foi digitada é 183.0 cm,e é um número ímpar.\n",
            "Fim.\n"
          ]
        }
      ]
    },
    {
      "cell_type": "code",
      "source": [
        "diaDoAno = int(input('Digite a quantidade de dias no ano:'))\n",
        "\n",
        "if diaDoAno >= 1 and diaDoAno <= 90:\n",
        "  print('Primeiro Trimestre.')\n",
        "elif diaDoAno >= 91 and diaDoAno <= 181:\n",
        "  print('Segundo semestre.')\n",
        "elif diaDoAno >= 182 and diaDoAno <= 272:\n",
        "  print('Terceiro semestre.')\n",
        "else: \n",
        "  print('Quarto semestre.')\n",
        "print('Fim.')\n",
        "  "
      ],
      "metadata": {
        "colab": {
          "base_uri": "https://localhost:8080/"
        },
        "id": "AYuFljufRR-3",
        "outputId": "2de7dd2d-6235-4850-f652-081c0576c4d1"
      },
      "execution_count": null,
      "outputs": [
        {
          "output_type": "stream",
          "name": "stdout",
          "text": [
            "Digite a quantidade de dias no ano:184\n",
            "Terceiro semestre.\n",
            "Fim.\n"
          ]
        }
      ]
    },
    {
      "cell_type": "code",
      "source": [
        "num1 = float(input('Digite um número:'))\n",
        "num2 = float(input('Digite um número:'))\n",
        "num3 = float(input('Digite um número:'))\n",
        "\n",
        "num1M1 = num1 > num2\n",
        "num1M2 = num1 > num3\n",
        "num2M1 = num2 > num1\n",
        "num2M2 = num2 > num3\n",
        "num3M1 = num3 > num1\n",
        "num3M2 = num3 > num2\n",
        "empate1 = num1 == num2 > num3\n",
        "empate2 = num1 == num3 > num2\n",
        "empate3 = num2 == num3 > num1\n",
        "\n",
        "if num1M1 and num1M2:\n",
        "  print(num1, 'é o maior.')\n",
        "elif num2M1 and num2M2:\n",
        "  print(num2, 'é o maior.')\n",
        "elif num3M1 and num3M2:\n",
        "  print(num3, 'é o maior.')\n",
        "elif empate1:\n",
        "  print(num1, 'e', num2, 'são os maiores números.')\n",
        "elif empate2:\n",
        "  print(num1, 'e', num3, 'são os maiores números.')\n",
        "elif empate3:\n",
        "  print(num2, 'e', num3, 'são os maiores números.')\n",
        "else:\n",
        "  print('tente novamente.')\n",
        "print('Fim.')\n",
        "\n",
        "  "
      ],
      "metadata": {
        "colab": {
          "base_uri": "https://localhost:8080/"
        },
        "id": "R4kj87xOrA6u",
        "outputId": "56f1b243-66ed-4405-acf1-e4ea622581dc"
      },
      "execution_count": null,
      "outputs": [
        {
          "output_type": "stream",
          "name": "stdout",
          "text": [
            "Digite um número:2.54\n",
            "Digite um número:2.55\n",
            "Digite um número:2.56\n",
            "2.56 é o maior.\n",
            "Fim.\n"
          ]
        }
      ]
    },
    {
      "cell_type": "code",
      "source": [
        "# Repetições (Loops)\n",
        "\n",
        "# As repetições são usadas para executarmos alguma ação por várias vezes seguidas.\n",
        "\n",
        "# for\n",
        "\n",
        "# O for é utilizado quando queremos executar uma ação em uma determinada quantidade de vezes.\n",
        "\n",
        "# Estrutura for:\n",
        "\n",
        "# passo = range(ini,fim)\n",
        "# for i in passo:\n",
        "#   print('Bloco de repetição')\n",
        "\n",
        "# Temos que determinar um início e um fim para o for, que irá determinar a quantidade de vezes que a ação repetida será feita.\n",
        "\n",
        "# Exemplo 1\n",
        "# Imprima 'olá' 5 vezes seguidas.\n",
        "\n",
        "# definindo passo:\n",
        "passo = range(1,5)\n",
        "# usando o for:\n",
        "for i in passo:\n",
        "  print('Olá')\n",
        "# Irá imprimir somente quatro vezes o olá, pois nesse formato irá desconsiderar o último número.\n",
        "\n"
      ],
      "metadata": {
        "colab": {
          "base_uri": "https://localhost:8080/"
        },
        "id": "o4KulpKzcbn7",
        "outputId": "58a1936e-0498-4afb-90ea-2c41767da839"
      },
      "execution_count": null,
      "outputs": [
        {
          "output_type": "stream",
          "name": "stdout",
          "text": [
            "Olá\n",
            "Olá\n",
            "Olá\n",
            "Olá\n"
          ]
        }
      ]
    },
    {
      "cell_type": "code",
      "source": [
        "# Refazer programa, olá 5 vezes:\n",
        "passo = range(1,5+1)\n",
        "for i in passo:\n",
        "  print('olá')"
      ],
      "metadata": {
        "colab": {
          "base_uri": "https://localhost:8080/"
        },
        "id": "lO9oWEh_g2bI",
        "outputId": "684d9d34-601f-46cf-8806-20ec8598ed4d"
      },
      "execution_count": null,
      "outputs": [
        {
          "output_type": "stream",
          "name": "stdout",
          "text": [
            "olá\n",
            "olá\n",
            "olá\n",
            "olá\n",
            "olá\n"
          ]
        }
      ]
    },
    {
      "cell_type": "code",
      "source": [
        "passo = range(1,5+1)\n",
        "for i in passo:\n",
        "  print('i = {} - olá.'.format(i))\n",
        "\n",
        "  # Então para somar cinco vezes é comum somar 1 no ponto final.\n",
        "\n",
        "  "
      ],
      "metadata": {
        "colab": {
          "base_uri": "https://localhost:8080/"
        },
        "id": "pcdJkIa5h1hp",
        "outputId": "30b97f19-6b68-4c14-ccf7-aef16cc4e93b"
      },
      "execution_count": null,
      "outputs": [
        {
          "output_type": "stream",
          "name": "stdout",
          "text": [
            "i = 1 - olá.\n",
            "i = 2 - olá.\n",
            "i = 3 - olá.\n",
            "i = 4 - olá.\n",
            "i = 5 - olá.\n"
          ]
        }
      ]
    },
    {
      "cell_type": "code",
      "source": [
        "# Exemplo 2 \n",
        "# Ler um livro de 20 páginas.\n",
        "\n",
        "passo = range(1,20+1)\n",
        "for i in passo:\n",
        "  print('Leia a página: {}'.format(i))\n",
        "print('Fim da leitura.')\n"
      ],
      "metadata": {
        "colab": {
          "base_uri": "https://localhost:8080/"
        },
        "id": "miUIrECijDPv",
        "outputId": "f51b0458-a352-464d-f0ab-35355549cead"
      },
      "execution_count": null,
      "outputs": [
        {
          "output_type": "stream",
          "name": "stdout",
          "text": [
            "Leia a página: 1\n",
            "Leia a página: 2\n",
            "Leia a página: 3\n",
            "Leia a página: 4\n",
            "Leia a página: 5\n",
            "Leia a página: 6\n",
            "Leia a página: 7\n",
            "Leia a página: 8\n",
            "Leia a página: 9\n",
            "Leia a página: 10\n",
            "Leia a página: 11\n",
            "Leia a página: 12\n",
            "Leia a página: 13\n",
            "Leia a página: 14\n",
            "Leia a página: 15\n",
            "Leia a página: 16\n",
            "Leia a página: 17\n",
            "Leia a página: 18\n",
            "Leia a página: 19\n",
            "Leia a página: 20\n",
            "Fim da leitura.\n"
          ]
        }
      ]
    },
    {
      "cell_type": "code",
      "source": [
        "# Exemplo 3\n",
        "# Some 5 números digitados pelo usuário.\n",
        "\n",
        "passo = range(1,5+1)\n",
        "\n",
        "soma = 0\n",
        "for i in passo:\n",
        "  n = int(input('Digite um valor:'))\n",
        "  soma = soma + n\n",
        "print('A soma total é de: {}'.format(soma))\n",
        "\n",
        "\n",
        "\n",
        "\n"
      ],
      "metadata": {
        "colab": {
          "base_uri": "https://localhost:8080/"
        },
        "id": "k5WmQXznuPS0",
        "outputId": "b92d4cae-ce0e-4d5a-82cf-720a200086cd"
      },
      "execution_count": null,
      "outputs": [
        {
          "output_type": "stream",
          "name": "stdout",
          "text": [
            "Digite um valor:5\n",
            "Digite um valor:3\n",
            "Digite um valor:5\n",
            "Digite um valor:2\n",
            "Digite um valor:2\n",
            "A soma total é de: 17\n"
          ]
        }
      ]
    },
    {
      "cell_type": "code",
      "source": [
        "# Modificano o range:\n",
        "\n",
        "# O range tradicional vai aumentando de um a um dentro do for.\n",
        "# Porém podemos confugura-lo para a maneira que quisermos.\n",
        "\n",
        "# Estrutura do passo.\n",
        "\n",
        "# range(ini,fim,passo)\n",
        "\n",
        "#.início: número inicial do range.\n",
        "#.fim: número final do range.\n",
        "#.passo: de quanto em quanto o valor será incrementado.\n",
        "\n",
        "# Exemplo 1.\n",
        "\n",
        "#range(0,10,2)\n",
        "\n",
        "passo = range(0,10,2)\n",
        "for i in passo:\n",
        "  print(i)\n",
        "print('Fim.')\n"
      ],
      "metadata": {
        "id": "M4kPLCOfx80Q",
        "colab": {
          "base_uri": "https://localhost:8080/"
        },
        "outputId": "7a07e2eb-18e2-46d8-ccc9-3d4ccb9952cb"
      },
      "execution_count": null,
      "outputs": [
        {
          "output_type": "stream",
          "name": "stdout",
          "text": [
            "0\n",
            "2\n",
            "4\n",
            "6\n",
            "8\n",
            "Fim.\n"
          ]
        }
      ]
    },
    {
      "cell_type": "code",
      "source": [
        "# Exemplo2.\n",
        "#range(10,1,-1)\n",
        "\n",
        "passo = range(10,1,-1)\n",
        "for i in passo:\n",
        "  print(i)\n",
        "print('Fim.')"
      ],
      "metadata": {
        "colab": {
          "base_uri": "https://localhost:8080/"
        },
        "id": "BlqmupGn1ZfU",
        "outputId": "809133f0-9470-4694-e6ef-456aba899ab9"
      },
      "execution_count": null,
      "outputs": [
        {
          "output_type": "stream",
          "name": "stdout",
          "text": [
            "10\n",
            "9\n",
            "8\n",
            "7\n",
            "6\n",
            "5\n",
            "4\n",
            "3\n",
            "2\n",
            "Fim.\n"
          ]
        }
      ]
    },
    {
      "cell_type": "code",
      "source": [
        "passo = range(10,1-1,-1)\n",
        "for i in passo:\n",
        "  print(i)\n",
        "print('Fim.')"
      ],
      "metadata": {
        "colab": {
          "base_uri": "https://localhost:8080/"
        },
        "id": "dc16Z_c42wV3",
        "outputId": "7436625f-db83-4255-c682-0a132afbf1f6"
      },
      "execution_count": null,
      "outputs": [
        {
          "output_type": "stream",
          "name": "stdout",
          "text": [
            "10\n",
            "9\n",
            "8\n",
            "7\n",
            "6\n",
            "5\n",
            "4\n",
            "3\n",
            "2\n",
            "1\n",
            "Fim.\n"
          ]
        }
      ]
    },
    {
      "cell_type": "code",
      "source": [
        "passo = range(10,1-2,-1)\n",
        "for i in passo:\n",
        "  print(i)\n",
        "print('Fim.')"
      ],
      "metadata": {
        "colab": {
          "base_uri": "https://localhost:8080/"
        },
        "id": "6yA3Xxxu23ax",
        "outputId": "ac8bd56e-1580-4174-aa98-3203c9caf7f0"
      },
      "execution_count": null,
      "outputs": [
        {
          "output_type": "stream",
          "name": "stdout",
          "text": [
            "10\n",
            "9\n",
            "8\n",
            "7\n",
            "6\n",
            "5\n",
            "4\n",
            "3\n",
            "2\n",
            "1\n",
            "0\n",
            "Fim.\n"
          ]
        }
      ]
    },
    {
      "cell_type": "code",
      "source": [
        "# Exercício 1\n",
        "# Some os números ímpares consecutivos começanco em um e terminando em 9.\n",
        "\n",
        "passo = range(1,9+1,2)\n",
        "soma = 0\n",
        "\n",
        "for i in passo:\n",
        "  soma = soma + i\n",
        "print('A soma total é:{}'.format(soma))\n"
      ],
      "metadata": {
        "colab": {
          "base_uri": "https://localhost:8080/"
        },
        "id": "YCQ2FLuD3aJV",
        "outputId": "f0bc9432-ee3a-4710-ba63-d0997e8ab519"
      },
      "execution_count": null,
      "outputs": [
        {
          "output_type": "stream",
          "name": "stdout",
          "text": [
            "A soma total é:25\n"
          ]
        }
      ]
    },
    {
      "cell_type": "code",
      "source": [
        "passo = range(1,9+1,2)\n",
        "soma = 0\n",
        "\n",
        "for i in passo:\n",
        "  soma = soma + i\n",
        "  print('i = {} e a soma é igual a: {}'.format(i,soma))\n",
        "print('A soma total é:{}'.format(soma))"
      ],
      "metadata": {
        "colab": {
          "base_uri": "https://localhost:8080/"
        },
        "id": "gBBjjKvQ6LWW",
        "outputId": "f9989674-e754-47d8-c031-c1c496ff7722"
      },
      "execution_count": null,
      "outputs": [
        {
          "output_type": "stream",
          "name": "stdout",
          "text": [
            "i = 1 e a soma é igual a: 1\n",
            "i = 3 e a soma é igual a: 4\n",
            "i = 5 e a soma é igual a: 9\n",
            "i = 7 e a soma é igual a: 16\n",
            "i = 9 e a soma é igual a: 25\n",
            "A soma total é:25\n"
          ]
        }
      ]
    },
    {
      "cell_type": "code",
      "source": [
        "# Calculos incrementais\n",
        "\n",
        "# Em python, assim como em outras linguagens de programação, existe uma maneira simplificada de fazer calculos incrementais.\n",
        "\n",
        "# Estrutura dos calculos incrementais.\n",
        "\n",
        "# soma = soma + 1 = soma += 1\n",
        "# soma = soma + 5 = soma += 5\n",
        "# soma = soma - 1 = soma -= 1\n",
        "# soma = soma - 5 = soma -= 5\n",
        "# soma = soma * 2 = soma *= 2\n",
        "\n",
        "# Resumo\n",
        "# anterior += incremento\n",
        "# anterior -= incremento\n",
        "# anterior *= incremento\n",
        "# anterior /= incremento\n",
        "\n",
        "# Exemplo 1\n",
        "# começando pelo número 1, some 1 a ele por 10 vezes consecutivas.\n",
        "\n",
        "\n",
        "passo = range(1,10+1)\n",
        "soma = 1\n",
        "for i in passo:\n",
        "  soma += 1\n",
        "  print(' o i é {} e a soma é {}'.format(i,soma))\n",
        "print(soma)\n",
        "\n"
      ],
      "metadata": {
        "colab": {
          "base_uri": "https://localhost:8080/"
        },
        "id": "Kupl3vsP6HT7",
        "outputId": "e8820298-ae4e-45a2-c30c-c10a469572bf"
      },
      "execution_count": null,
      "outputs": [
        {
          "output_type": "stream",
          "name": "stdout",
          "text": [
            " o i é 1 e a soma é 2\n",
            " o i é 2 e a soma é 3\n",
            " o i é 3 e a soma é 4\n",
            " o i é 4 e a soma é 5\n",
            " o i é 5 e a soma é 6\n",
            " o i é 6 e a soma é 7\n",
            " o i é 7 e a soma é 8\n",
            " o i é 8 e a soma é 9\n",
            " o i é 9 e a soma é 10\n",
            " o i é 10 e a soma é 11\n",
            "11\n"
          ]
        }
      ]
    },
    {
      "cell_type": "code",
      "source": [
        "# Exercício 2\n",
        "# Começando pelo número 2, multiplique por 2 a ele 9 vezes consecutivas.\n",
        "\n",
        "mult = 1\n",
        "passo = range(1,9+1)\n",
        "for i in passo: \n",
        "  mult *= 2\n",
        "  print('i = {}, mult = {}'.format(i,mult))\n",
        "  \n"
      ],
      "metadata": {
        "colab": {
          "base_uri": "https://localhost:8080/"
        },
        "id": "Izetn6j1_JTG",
        "outputId": "b2850f76-99dd-454a-88df-a62da8128dd7"
      },
      "execution_count": null,
      "outputs": [
        {
          "output_type": "stream",
          "name": "stdout",
          "text": [
            "i = 1, mult = 2\n",
            "i = 2, mult = 4\n",
            "i = 3, mult = 8\n",
            "i = 4, mult = 16\n",
            "i = 5, mult = 32\n",
            "i = 6, mult = 64\n",
            "i = 7, mult = 128\n",
            "i = 8, mult = 256\n",
            "i = 9, mult = 512\n"
          ]
        }
      ]
    },
    {
      "cell_type": "code",
      "source": [
        "  # Exercício 1\n",
        "# Tire a média de 3 números digitados pelo usuário.\n",
        "\n",
        "passo = range(1,3+1)\n",
        "soma = 0\n",
        "for i in passo:\n",
        "  n = float(input(' Digite o {}º número: '.format(i)))\n",
        "  soma += n \n",
        "  print( ' i = {}, soma = {}'.format(i,soma))\n",
        "media = soma/i\n",
        "print(' A média é de :{}'.format(media))"
      ],
      "metadata": {
        "colab": {
          "base_uri": "https://localhost:8080/"
        },
        "id": "k3G2W_QZCM0s",
        "outputId": "b93cfe2f-dd90-4291-d015-04edc0eb74df"
      },
      "execution_count": null,
      "outputs": [
        {
          "output_type": "stream",
          "name": "stdout",
          "text": [
            " Digite o 1º número: 3\n",
            " i = 1, soma = 3.0\n",
            " Digite o 2º número: 3\n",
            " i = 2, soma = 6.0\n",
            " Digite o 3º número: 3\n",
            " i = 3, soma = 9.0\n",
            " A média é de :3.0\n"
          ]
        }
      ]
    },
    {
      "cell_type": "code",
      "source": [
        "# Exercício 2\n",
        "# Pergunte ao usuário de quantos números ele quer tirar a média.\n",
        "# Tire a média desses números.\n",
        "\n",
        "qtd = int(input('De quantos números vc quer fazer uma média?'))\n",
        "passo = range(1,qtd+1)\n",
        "soma = 0\n",
        "\n",
        "for i in passo:\n",
        "  n = float(input(' Digite o {}º número: '.format(i)))\n",
        "  soma += n \n",
        "  print( ' i = {}, soma = {}'.format(i,soma))\n",
        "media = soma/i\n",
        "print(' A média é de :{}'.format(media))\n",
        "\n",
        "  \n"
      ],
      "metadata": {
        "colab": {
          "base_uri": "https://localhost:8080/"
        },
        "id": "qq_Le-0PGlc8",
        "outputId": "5de5b6bd-2f0b-48bf-d24d-f72aad8134ed"
      },
      "execution_count": null,
      "outputs": [
        {
          "output_type": "stream",
          "name": "stdout",
          "text": [
            "De quantos números vc quer fazer uma média?3\n",
            " Digite o 1º número: 3\n",
            " i = 1, soma = 3.0\n",
            " Digite o 2º número: 4\n",
            " i = 2, soma = 7.0\n",
            " Digite o 3º número: 5\n",
            " i = 3, soma = 12.0\n",
            " A média é de :4.0\n"
          ]
        }
      ]
    },
    {
      "cell_type": "code",
      "source": [
        "# While \n",
        "\n",
        "# Como já vimos, o for é uma estrutura de repetição que possui um começo e um fim bem determinados.\n",
        "#Quando não sabemos onde termina um loop, precisamos usar outro método.\n",
        "\n",
        "# O While será utilizado até a sua condição inicial não ser mais verdade.\n",
        "\n",
        "# Estrutura:\n",
        "\n",
        "# while true:\n",
        "    #print('execute uma ação')\n",
        "\n",
        "# Devido a essa estrutura, precisamos ter uma variável de controle e ela precisa ser modificada dentro do loop\n",
        "#Isso para não ficarmos em um loop infinito.\n",
        "\n",
        "#fim = False\n",
        "#while fim == False \n",
        "  #print('execute uma ação')\n",
        "  #fim = bool(input('Terminou))\n",
        "#print('fim')\n",
        "\n",
        "# Exemplo 1\n",
        "# Quero ler o capitulo de um livro, mas não sei quantas páginas possui este capitulo.\n",
        "\n",
        "\n",
        "fim = 'n'\n",
        "while fim == 'n':\n",
        "  print('leia a página.')\n",
        "  fim = input('Terminou o capitulo, responda s ou n?')\n",
        "print('Fim.')\n",
        "\n",
        "\n"
      ],
      "metadata": {
        "colab": {
          "base_uri": "https://localhost:8080/"
        },
        "id": "_dzOjHjm_NUb",
        "outputId": "a326f4a0-eecb-45fe-c54c-e6b7c40fb858"
      },
      "execution_count": null,
      "outputs": [
        {
          "output_type": "stream",
          "name": "stdout",
          "text": [
            "leia a página.\n",
            "Terminou o capitulo, responda s ou n?n\n",
            "leia a página.\n",
            "Terminou o capitulo, responda s ou n?n\n",
            "leia a página.\n",
            "Terminou o capitulo, responda s ou n?s\n",
            "Fim.\n"
          ]
        }
      ]
    },
    {
      "cell_type": "code",
      "source": [
        "# Exemplo 2\n",
        "\n",
        "# Começando pelo número 1, some 1 a ele por 10 vezes consecutivas.\n",
        "\n",
        "soma = 1\n",
        "i = 1\n",
        "\n",
        "while i < 10:\n",
        "  i += 1\n",
        "  soma += 1\n",
        "  print(soma)\n"
      ],
      "metadata": {
        "colab": {
          "base_uri": "https://localhost:8080/"
        },
        "id": "NGUYlz2sITqd",
        "outputId": "903bc9c9-7b56-426f-ad7b-ff8db57ff6d0"
      },
      "execution_count": null,
      "outputs": [
        {
          "output_type": "stream",
          "name": "stdout",
          "text": [
            "2\n",
            "3\n",
            "4\n",
            "5\n",
            "6\n",
            "7\n",
            "8\n",
            "9\n",
            "10\n"
          ]
        }
      ]
    },
    {
      "cell_type": "code",
      "source": [
        "# Exercício 1\n",
        "# Some números digitados pelo usuário até a soma ultrapassar 20.\n",
        "\n",
        "soma = 0\n",
        "while soma < 20:\n",
        "  n = int(input('Digite um número:'))\n",
        "  soma += n\n",
        "\n",
        "print(soma)\n",
        "print('Fim.')\n"
      ],
      "metadata": {
        "colab": {
          "base_uri": "https://localhost:8080/"
        },
        "id": "pFJ3oQYiKG6z",
        "outputId": "edf1c591-d0af-4596-d574-198f5ee9ddfe"
      },
      "execution_count": null,
      "outputs": [
        {
          "output_type": "stream",
          "name": "stdout",
          "text": [
            "Digite um número:5\n",
            "Digite um número:5\n",
            "Digite um número:5\n",
            "Digite um número:6\n",
            "21\n",
            "Fim.\n"
          ]
        }
      ]
    },
    {
      "cell_type": "code",
      "source": [
        "# break\n",
        "\n",
        "# O comando break é utilizado para sairmos de um loop em qualquer momento. Ele é utilizado quando:\n",
        "\n",
        "# Já atingimos o objetivo.\n",
        "# O usuário pediu para parar o loop.\n",
        "\n",
        "# Já que ele sempre finaliza o looping no exato ponto que ele estava, ele geralmente é utilizado junto com o comando if\n",
        "#Para testar se precisarmos ou não precisamos ou não parar o looping.\n",
        "\n",
        "# Exemplo de looping infinito.\n",
        "\n",
        "# Some os números que o usuário digitar.\n",
        "\n",
        "soma = 0\n",
        "\n",
        "while True:\n",
        "  n = float(input('Digite um valor:'))\n",
        "  soma += n\n",
        "print(soma)\n"
      ],
      "metadata": {
        "id": "f4hLWi8jNGeE",
        "colab": {
          "base_uri": "https://localhost:8080/",
          "height": 415
        },
        "outputId": "caba50f8-2d4f-42c2-f099-a4b5d64b251f"
      },
      "execution_count": null,
      "outputs": [
        {
          "name": "stdout",
          "output_type": "stream",
          "text": [
            "Digite um valor:5\n",
            "Digite um valor:7\n"
          ]
        },
        {
          "output_type": "error",
          "ename": "KeyboardInterrupt",
          "evalue": "ignored",
          "traceback": [
            "\u001b[0;31m---------------------------------------------------------------------------\u001b[0m",
            "\u001b[0;31mKeyboardInterrupt\u001b[0m                         Traceback (most recent call last)",
            "\u001b[0;32m<ipython-input-26-d334819e4894>\u001b[0m in \u001b[0;36m<module>\u001b[0;34m\u001b[0m\n\u001b[1;32m     16\u001b[0m \u001b[0;34m\u001b[0m\u001b[0m\n\u001b[1;32m     17\u001b[0m \u001b[0;32mwhile\u001b[0m \u001b[0;32mTrue\u001b[0m\u001b[0;34m:\u001b[0m\u001b[0;34m\u001b[0m\u001b[0;34m\u001b[0m\u001b[0m\n\u001b[0;32m---> 18\u001b[0;31m   \u001b[0mn\u001b[0m \u001b[0;34m=\u001b[0m \u001b[0mfloat\u001b[0m\u001b[0;34m(\u001b[0m\u001b[0minput\u001b[0m\u001b[0;34m(\u001b[0m\u001b[0;34m'Digite um valor:'\u001b[0m\u001b[0;34m)\u001b[0m\u001b[0;34m)\u001b[0m\u001b[0;34m\u001b[0m\u001b[0;34m\u001b[0m\u001b[0m\n\u001b[0m\u001b[1;32m     19\u001b[0m   \u001b[0msoma\u001b[0m \u001b[0;34m+=\u001b[0m \u001b[0mn\u001b[0m\u001b[0;34m\u001b[0m\u001b[0;34m\u001b[0m\u001b[0m\n\u001b[1;32m     20\u001b[0m \u001b[0mprint\u001b[0m\u001b[0;34m(\u001b[0m\u001b[0msoma\u001b[0m\u001b[0;34m)\u001b[0m\u001b[0;34m\u001b[0m\u001b[0;34m\u001b[0m\u001b[0m\n",
            "\u001b[0;32m/usr/local/lib/python3.8/dist-packages/ipykernel/kernelbase.py\u001b[0m in \u001b[0;36mraw_input\u001b[0;34m(self, prompt)\u001b[0m\n\u001b[1;32m    858\u001b[0m                 \u001b[0;34m\"raw_input was called, but this frontend does not support input requests.\"\u001b[0m\u001b[0;34m\u001b[0m\u001b[0;34m\u001b[0m\u001b[0m\n\u001b[1;32m    859\u001b[0m             )\n\u001b[0;32m--> 860\u001b[0;31m         return self._input_request(str(prompt),\n\u001b[0m\u001b[1;32m    861\u001b[0m             \u001b[0mself\u001b[0m\u001b[0;34m.\u001b[0m\u001b[0m_parent_ident\u001b[0m\u001b[0;34m,\u001b[0m\u001b[0;34m\u001b[0m\u001b[0;34m\u001b[0m\u001b[0m\n\u001b[1;32m    862\u001b[0m             \u001b[0mself\u001b[0m\u001b[0;34m.\u001b[0m\u001b[0m_parent_header\u001b[0m\u001b[0;34m,\u001b[0m\u001b[0;34m\u001b[0m\u001b[0;34m\u001b[0m\u001b[0m\n",
            "\u001b[0;32m/usr/local/lib/python3.8/dist-packages/ipykernel/kernelbase.py\u001b[0m in \u001b[0;36m_input_request\u001b[0;34m(self, prompt, ident, parent, password)\u001b[0m\n\u001b[1;32m    902\u001b[0m             \u001b[0;32mexcept\u001b[0m \u001b[0mKeyboardInterrupt\u001b[0m\u001b[0;34m:\u001b[0m\u001b[0;34m\u001b[0m\u001b[0;34m\u001b[0m\u001b[0m\n\u001b[1;32m    903\u001b[0m                 \u001b[0;31m# re-raise KeyboardInterrupt, to truncate traceback\u001b[0m\u001b[0;34m\u001b[0m\u001b[0;34m\u001b[0m\u001b[0;34m\u001b[0m\u001b[0m\n\u001b[0;32m--> 904\u001b[0;31m                 \u001b[0;32mraise\u001b[0m \u001b[0mKeyboardInterrupt\u001b[0m\u001b[0;34m(\u001b[0m\u001b[0;34m\"Interrupted by user\"\u001b[0m\u001b[0;34m)\u001b[0m \u001b[0;32mfrom\u001b[0m \u001b[0;32mNone\u001b[0m\u001b[0;34m\u001b[0m\u001b[0;34m\u001b[0m\u001b[0m\n\u001b[0m\u001b[1;32m    905\u001b[0m             \u001b[0;32mexcept\u001b[0m \u001b[0mException\u001b[0m \u001b[0;32mas\u001b[0m \u001b[0me\u001b[0m\u001b[0;34m:\u001b[0m\u001b[0;34m\u001b[0m\u001b[0;34m\u001b[0m\u001b[0m\n\u001b[1;32m    906\u001b[0m                 \u001b[0mself\u001b[0m\u001b[0;34m.\u001b[0m\u001b[0mlog\u001b[0m\u001b[0;34m.\u001b[0m\u001b[0mwarning\u001b[0m\u001b[0;34m(\u001b[0m\u001b[0;34m\"Invalid Message:\"\u001b[0m\u001b[0;34m,\u001b[0m \u001b[0mexc_info\u001b[0m\u001b[0;34m=\u001b[0m\u001b[0;32mTrue\u001b[0m\u001b[0;34m)\u001b[0m\u001b[0;34m\u001b[0m\u001b[0;34m\u001b[0m\u001b[0m\n",
            "\u001b[0;31mKeyboardInterrupt\u001b[0m: Interrupted by user"
          ]
        }
      ]
    },
    {
      "cell_type": "code",
      "source": [
        "# Exemplo de loop infinito corrigido:\n",
        "# Some os números que o usuário digitar até ele pedir para parar.\n",
        "\n",
        "soma = 0\n",
        "\n",
        "while True:\n",
        "  n = float(input('Digite um valor:'))\n",
        "  soma += n\n",
        "  continua = input(' Você quer proceguir?(s/n)')\n",
        "  if continua == 'n':\n",
        "   break\n",
        "  print('Depois do break.') # somente para mostrar que o loop é interrompido a qualquer tempo.\n",
        "\n",
        "print(soma)\n"
      ],
      "metadata": {
        "colab": {
          "base_uri": "https://localhost:8080/"
        },
        "id": "iZC9Ur5MRg9h",
        "outputId": "a9d3e4d2-1e45-4cb0-fe2e-dbe602f90a29"
      },
      "execution_count": null,
      "outputs": [
        {
          "output_type": "stream",
          "name": "stdout",
          "text": [
            "Digite um valor:6\n",
            " Você quer proceguir?(s/n)s\n",
            "Depois do break.\n",
            "Digite um valor:7\n",
            " Você quer proceguir?(s/n)s\n",
            "Depois do break.\n",
            "Digite um valor:8\n",
            " Você quer proceguir?(s/n)s\n",
            "Depois do break.\n",
            "Digite um valor:10\n",
            " Você quer proceguir?(s/n)s\n",
            "Depois do break.\n",
            "Digite um valor:-5\n",
            " Você quer proceguir?(s/n)s\n",
            "Depois do break.\n",
            "Digite um valor:12\n",
            " Você quer proceguir?(s/n)n\n",
            "38.0\n"
          ]
        }
      ]
    },
    {
      "cell_type": "code",
      "source": [
        "# erro"
      ],
      "metadata": {
        "id": "YUJ5PhmjX3me"
      },
      "execution_count": null,
      "outputs": []
    },
    {
      "cell_type": "code",
      "source": [
        "while True:\n",
        "  num = input('Digite um número:')\n",
        "  if num.isnumeric() == True:\n",
        "    print('Você digitou um número válido.')\n",
        "    break\n",
        "  print('Você não digitou um número válido.')\n",
        "print('Fim.')\n"
      ],
      "metadata": {
        "colab": {
          "base_uri": "https://localhost:8080/"
        },
        "id": "d1oHvbkVgYJD",
        "outputId": "922df2b9-e591-42ff-d553-f93b29a5abda"
      },
      "execution_count": null,
      "outputs": [
        {
          "output_type": "stream",
          "name": "stdout",
          "text": [
            "Digite um número:g\n",
            "Você não digitou um número válido.\n",
            "Digite um número:h\n",
            "Você não digitou um número válido.\n",
            "Digite um número:5\n",
            "Você digitou um número válido.\n",
            "Fim.\n"
          ]
        }
      ]
    },
    {
      "cell_type": "code",
      "source": [
        "# Exemplo 2\n",
        "# Faça um programa que calcula a média de valores digitados. Até o usuário pedir para parar.\n",
        "\n",
        "  \n",
        "soma = 0\n",
        "i = 0\n",
        "\n",
        "while True:\n",
        "  i += 1\n",
        "  num = float(input('Digite um número:'))\n",
        "  soma += num\n",
        "  continua = input('você quer continuar?(s/n)')\n",
        "  if continua == 'n':\n",
        "    break\n",
        "media = soma/i\n",
        "print('Você digitou {} números e a média é de {}'.format(i,media))\n",
        "print('Fim.')\n",
        "\n"
      ],
      "metadata": {
        "colab": {
          "base_uri": "https://localhost:8080/"
        },
        "id": "bvQMY1fPlOfV",
        "outputId": "ed4bc208-31ff-48a5-fcb9-aca97d11c717"
      },
      "execution_count": null,
      "outputs": [
        {
          "output_type": "stream",
          "name": "stdout",
          "text": [
            "Digite um número:3\n",
            "você quer continuar?(s/n)s\n",
            "Digite um número:4\n",
            "você quer continuar?(s/n)s\n",
            "Digite um número:5\n",
            "você quer continuar?(s/n)n\n",
            "Você digitou 3 números e a média é de 4.0\n",
            "Fim.\n"
          ]
        }
      ]
    },
    {
      "cell_type": "code",
      "source": [
        "passo = range(0, 50+1)\n",
        "n = int(input(\"digite\"))\n",
        "mult = ()\n",
        "\n",
        "for i in passo:\n",
        "  mult = n * i\n",
        "  print(n, 'x', i, '=',mult)\n",
        "print('Fim.')\n",
        "\n",
        "\n",
        "  \n",
        "  \n",
        "\n"
      ],
      "metadata": {
        "colab": {
          "base_uri": "https://localhost:8080/"
        },
        "id": "hvvlqOg5AOlR",
        "outputId": "888c684b-0702-4f48-e1db-fd748f0432dd"
      },
      "execution_count": null,
      "outputs": [
        {
          "output_type": "stream",
          "name": "stdout",
          "text": [
            "digite6\n",
            "6 x 0 = 0\n",
            "6 x 1 = 6\n",
            "6 x 2 = 12\n",
            "6 x 3 = 18\n",
            "6 x 4 = 24\n",
            "6 x 5 = 30\n",
            "6 x 6 = 36\n",
            "6 x 7 = 42\n",
            "6 x 8 = 48\n",
            "6 x 9 = 54\n",
            "6 x 10 = 60\n",
            "6 x 11 = 66\n",
            "6 x 12 = 72\n",
            "6 x 13 = 78\n",
            "6 x 14 = 84\n",
            "6 x 15 = 90\n",
            "6 x 16 = 96\n",
            "6 x 17 = 102\n",
            "6 x 18 = 108\n",
            "6 x 19 = 114\n",
            "6 x 20 = 120\n",
            "6 x 21 = 126\n",
            "6 x 22 = 132\n",
            "6 x 23 = 138\n",
            "6 x 24 = 144\n",
            "6 x 25 = 150\n",
            "6 x 26 = 156\n",
            "6 x 27 = 162\n",
            "6 x 28 = 168\n",
            "6 x 29 = 174\n",
            "6 x 30 = 180\n",
            "6 x 31 = 186\n",
            "6 x 32 = 192\n",
            "6 x 33 = 198\n",
            "6 x 34 = 204\n",
            "6 x 35 = 210\n",
            "6 x 36 = 216\n",
            "6 x 37 = 222\n",
            "6 x 38 = 228\n",
            "6 x 39 = 234\n",
            "6 x 40 = 240\n",
            "6 x 41 = 246\n",
            "6 x 42 = 252\n",
            "6 x 43 = 258\n",
            "6 x 44 = 264\n",
            "6 x 45 = 270\n",
            "6 x 46 = 276\n",
            "6 x 47 = 282\n",
            "6 x 48 = 288\n",
            "6 x 49 = 294\n",
            "6 x 50 = 300\n",
            "Fim.\n"
          ]
        }
      ]
    },
    {
      "cell_type": "code",
      "source": [
        "passo = range(1,10+1)\n",
        "soma = 0\n",
        "maior = 0\n",
        "menor = 0\n",
        "i = 1\n",
        "for i in passo:\n",
        "  n = float(input(' Digite o {}º número: '.format(i)))\n",
        "  soma += n\n",
        "media = soma/i\n",
        "if i == 1:\n",
        "  menor = n\n",
        "else:\n",
        "  if n > maior:\n",
        "    maior = n \n",
        "  if n < menor:\n",
        "    menor = n\n",
        "  i += 1\n",
        "print( ' i = {},soma = {}'.format(i,soma))\n",
        "print(' O maior valor foi {} e o menor {}'.format(maior,menor))\n",
        "print(' A média é de :{}'.format(media))\n"
      ],
      "metadata": {
        "colab": {
          "base_uri": "https://localhost:8080/"
        },
        "id": "gaVgXKfsJp6t",
        "outputId": "f01b101c-15b7-45c7-aa7c-378dbad97ca1"
      },
      "execution_count": null,
      "outputs": [
        {
          "output_type": "stream",
          "name": "stdout",
          "text": [
            " Digite o 1º número: 30\n",
            " Digite o 2º número: 12\n",
            " Digite o 3º número: 14\n",
            " Digite o 4º número: 12\n",
            " Digite o 5º número: 27\n",
            " Digite o 6º número: 39\n",
            " Digite o 7º número: 21\n",
            " Digite o 8º número: 12\n",
            " Digite o 9º número: 13\n",
            " Digite o 10º número: 2\n",
            " i = 11,soma = 182.0\n",
            " O maior valor foi 2.0 e o menor 0\n",
            " A média é de :18.2\n"
          ]
        }
      ]
    },
    {
      "cell_type": "code",
      "source": [
        "lista = []\n",
        "\n",
        "contador = 1\n",
        "menor = 0.0\n",
        "maior = 0.0 \n",
        "media = 0.0\n",
        "\n",
        "while contador <= 10:\n",
        "  numeroDigitado = input('digite o' + str(contador)+ 'º número:')\n",
        "  lista.append(float(numeroDigitado))\n",
        "  num = float(numeroDigitado)\n",
        "  if contador == 1:\n",
        "    menor = num \n",
        "  if num < menor:\n",
        "    menor = num\n",
        "  if num > maior:\n",
        "    maior = num\n",
        "  contador += 1\n",
        "\n",
        "soma = 0.0 \n",
        "for valor in lista:\n",
        "  soma += valor\n",
        "media = soma/len(lista)\n",
        "\n",
        "print('o menor número é: ', str(menor))\n",
        "print('o maior número é: ', str(maior))\n",
        "print('a média é: ', str(media))\n"
      ],
      "metadata": {
        "colab": {
          "base_uri": "https://localhost:8080/"
        },
        "id": "OTVhH4yVHPXb",
        "outputId": "cae5df47-0eaf-4438-9760-ac6e3ebdbc78"
      },
      "execution_count": null,
      "outputs": [
        {
          "output_type": "stream",
          "name": "stdout",
          "text": [
            "digite o1º número:10\n",
            "digite o2º número:30\n",
            "digite o3º número:11\n",
            "digite o4º número:22\n",
            "digite o5º número:5\n",
            "digite o6º número:5\n",
            "digite o7º número:8\n",
            "digite o8º número:12\n",
            "digite o9º número:10\n",
            "digite o10º número:2\n",
            "o menor número é:  2.0\n",
            "o maior número é:  30.0\n",
            "a média é:  11.5\n"
          ]
        }
      ]
    },
    {
      "cell_type": "code",
      "source": [
        "\n",
        "\n",
        "n = int(input('Digite um número:'))\n",
        "\n",
        "t1 = 0\n",
        "t2 = 1 \n",
        "print('{},{}'.format(t1,t2), end = '')\n",
        "cont = 3\n",
        "while cont <= n:\n",
        "  t3 = t1 + t2\n",
        "  print(',{}'.format(t3), end = '')\n",
        "  t1 = t2\n",
        "  t2 = t3\n",
        "  cont += 1\n",
        "print(',Fim.')\n",
        "\n",
        "\n"
      ],
      "metadata": {
        "colab": {
          "base_uri": "https://localhost:8080/"
        },
        "id": "R43BppVjP9KV",
        "outputId": "8dd57de0-10f3-455c-da79-ae0bb85671f3"
      },
      "execution_count": null,
      "outputs": [
        {
          "output_type": "stream",
          "name": "stdout",
          "text": [
            "Digite um número:12\n",
            "0,1,1,2,3,5,8,13,21,34,55,89,Fim.\n"
          ]
        }
      ]
    },
    {
      "cell_type": "code",
      "source": [
        "# Tuplas\n",
        "\n",
        "# São variáveis compostas imutáveis.\n",
        "\n",
        "# Estrutura da Tupla:\n",
        "\n",
        "# As variáveis comuns conseguem armazenar apenas um valor de cada vez.\n",
        "# Já as tuplas conseguem armazenar diversos valores dentro de uma só variável.\n",
        "# Elas são úteis para o programador não precisar declarar infinitas variáveis.\n",
        "# Para declarar uma tupla, basta colocar todos os valores entre parênteses e separados por vírgula.\n",
        "\n",
        "# tupla = ('Var1, 'Var2', 'Var3')\n",
        "\n",
        "# Exemplo 1\n",
        "\n",
        "# Defina uma tupla com 3 strings e use o print para ver como ela se apresenta.\n",
        "\n",
        "# Definindo uma tupla:\n",
        "\n",
        "t1 = ('Lanche', 'Batata', 'Refri')\n",
        "\n",
        "# Imprimindo a tupla:\n",
        "\n",
        "print(t1)"
      ],
      "metadata": {
        "colab": {
          "base_uri": "https://localhost:8080/"
        },
        "id": "j-z80VhWDZHk",
        "outputId": "5fa6bbaa-28a3-4735-e1a9-74207c99d720"
      },
      "execution_count": null,
      "outputs": [
        {
          "output_type": "stream",
          "name": "stdout",
          "text": [
            "('Lanche', 'Batata', 'Refri')\n"
          ]
        }
      ]
    },
    {
      "cell_type": "code",
      "source": [
        "# Exemplo 2\n",
        "\n",
        "# Agora defina outra tupla com valores numéricos.\n",
        "\n",
        "# Declarando tupla:\n",
        "t2= (1, 3, 5, 7)\n",
        "\n",
        "# Iprimindo tupla:\n",
        "print(t2)"
      ],
      "metadata": {
        "colab": {
          "base_uri": "https://localhost:8080/"
        },
        "id": "zSuAsiwXGBeM",
        "outputId": "5464afa2-8d39-4a48-89fa-d6872319bea2"
      },
      "execution_count": null,
      "outputs": [
        {
          "output_type": "stream",
          "name": "stdout",
          "text": [
            "(1, 3, 5, 7)\n"
          ]
        }
      ]
    },
    {
      "cell_type": "code",
      "source": [
        "# Exemplo 3\n",
        "# Agora defina outra tupla com diversos tipos de dados inclusos.\n",
        "\n",
        "# Defina a tupla:\n",
        "t3=('Lanche', 10.9, 3, True)\n",
        "#Imprimindo a tupla:\n",
        "print(t3)"
      ],
      "metadata": {
        "colab": {
          "base_uri": "https://localhost:8080/"
        },
        "id": "9VI796UNGzfV",
        "outputId": "63a0dbdf-3167-4e53-da9d-617f6e44c5b5"
      },
      "execution_count": null,
      "outputs": [
        {
          "output_type": "stream",
          "name": "stdout",
          "text": [
            "('Lanche', 10.9, 3, True)\n"
          ]
        }
      ]
    },
    {
      "cell_type": "code",
      "source": [
        "# Acessando valores\n",
        "\n",
        "# Para acessar os valores das tuplas, basta colocar o índice da tupla desejado entre colchetes.\n",
        "# Cada valor dentro da tupla fica salvo como um índice que começa em 0 e vai aumentando de 1 em 1 até o último termo da tupla.\n",
        "\n",
        "# Então para a tupla abaixo:\n",
        "\n",
        "#     [0] [1] [2] [3]\n",
        "# t2 =(1,  3,  5,  7)\n",
        "\n",
        "# Os termos dela são:\n",
        "\n",
        "#t2[0] == 1\n",
        "#t2[1] == 3\n",
        "#t2[2] == 5\n",
        "#t2[3] == 7\n",
        "\n",
        "# exemplo 1 \n",
        "# Para a tupla acima. Tente imprimir cada um de seus valores.\n",
        "\n",
        "# Imprimindo\n",
        "print(t2[0])\n",
        "print(t2[1])\n",
        "print(t2[2])\n",
        "print(t2[3])"
      ],
      "metadata": {
        "colab": {
          "base_uri": "https://localhost:8080/"
        },
        "id": "9WQKJGIbI9mT",
        "outputId": "2b030a59-1d90-439c-d8aa-9dea232bf26e"
      },
      "execution_count": null,
      "outputs": [
        {
          "output_type": "stream",
          "name": "stdout",
          "text": [
            "1\n",
            "3\n",
            "5\n",
            "7\n"
          ]
        }
      ]
    },
    {
      "cell_type": "code",
      "source": [
        "# calculo com elementos de uma tupla\n",
        "\n",
        "print(t2[0] + t2[1])"
      ],
      "metadata": {
        "colab": {
          "base_uri": "https://localhost:8080/"
        },
        "id": "Q20gPr-lMRWV",
        "outputId": "3bda2227-ace8-4327-ff7e-1b21f794d26a"
      },
      "execution_count": null,
      "outputs": [
        {
          "output_type": "stream",
          "name": "stdout",
          "text": [
            "4\n"
          ]
        }
      ]
    },
    {
      "cell_type": "code",
      "source": [
        "# Exemplo 2\n",
        "# Imprima a soma de cada valor dessa tupla.\n",
        "\n",
        "# Somando:\n",
        "\n",
        "soma = t2[0] + t2[1] + t2[2] + t2[3]\n",
        "\n",
        "# Impriindo:\n",
        "print(soma)"
      ],
      "metadata": {
        "colab": {
          "base_uri": "https://localhost:8080/"
        },
        "id": "hsYXAngUMq_e",
        "outputId": "e2102980-2839-4f0c-ce1d-7f1f9dbef9c2"
      },
      "execution_count": null,
      "outputs": [
        {
          "output_type": "stream",
          "name": "stdout",
          "text": [
            "16\n"
          ]
        }
      ]
    },
    {
      "cell_type": "code",
      "source": [
        "# Acessando múltiplos valores:\n",
        "# Também é possível acessar mais de um valor ao mesmo tempo, colocando nos colchetes de onde até onde você quer acessar.\n",
        "\n",
        "t2[0:2] # são os dois primeiros valores dessa tupla.\n"
      ],
      "metadata": {
        "colab": {
          "base_uri": "https://localhost:8080/"
        },
        "id": "Q0N71Fu-7SN8",
        "outputId": "e801491d-a982-4a1e-c82b-84bed5e54931"
      },
      "execution_count": null,
      "outputs": [
        {
          "output_type": "execute_result",
          "data": {
            "text/plain": [
              "(1, 3)"
            ]
          },
          "metadata": {},
          "execution_count": 6
        }
      ]
    },
    {
      "cell_type": "code",
      "source": [
        "t2[2:4] # são o terceiro e o quarto valores dessa tupla.\n"
      ],
      "metadata": {
        "colab": {
          "base_uri": "https://localhost:8080/"
        },
        "id": "AznDgXvg9026",
        "outputId": "57bd1621-36a8-459e-da42-a6c082f97221"
      },
      "execution_count": null,
      "outputs": [
        {
          "output_type": "execute_result",
          "data": {
            "text/plain": [
              "(5, 7)"
            ]
          },
          "metadata": {},
          "execution_count": 7
        }
      ]
    },
    {
      "cell_type": "code",
      "source": [
        "t2[:3] # são os 3 primeiros valores dessa tupla.\n"
      ],
      "metadata": {
        "colab": {
          "base_uri": "https://localhost:8080/"
        },
        "id": "ODeXV4vr98vc",
        "outputId": "2201e749-ba3f-4a44-b942-2dce73490a95"
      },
      "execution_count": null,
      "outputs": [
        {
          "output_type": "execute_result",
          "data": {
            "text/plain": [
              "(1, 3, 5)"
            ]
          },
          "metadata": {},
          "execution_count": 8
        }
      ]
    },
    {
      "cell_type": "code",
      "source": [
        "t2[2:] # é o terceiro e o último valor dessa tupla.\n"
      ],
      "metadata": {
        "colab": {
          "base_uri": "https://localhost:8080/"
        },
        "id": "us5V_dg--FJJ",
        "outputId": "49bdf9b8-14e6-4f12-c36c-d7f696ec0aa7"
      },
      "execution_count": null,
      "outputs": [
        {
          "output_type": "execute_result",
          "data": {
            "text/plain": [
              "(5, 7)"
            ]
          },
          "metadata": {},
          "execution_count": 9
        }
      ]
    },
    {
      "cell_type": "code",
      "source": [
        "t2[-1] # é o último valor dessa tupla.\n",
        "\n",
        "# Lembre-se que como no range, o último valor dentro do colchete não é acessado."
      ],
      "metadata": {
        "colab": {
          "base_uri": "https://localhost:8080/"
        },
        "id": "ZVPhQ1e4-WEq",
        "outputId": "30fdbd8c-00af-4de8-b164-05a6b294735b"
      },
      "execution_count": null,
      "outputs": [
        {
          "output_type": "execute_result",
          "data": {
            "text/plain": [
              "7"
            ]
          },
          "metadata": {},
          "execution_count": 10
        }
      ]
    },
    {
      "cell_type": "code",
      "source": [
        "# Exemplo 3 \n",
        "# Vamos testar os ítens acima.\n",
        "\n",
        "# Imprimindo valores.\n",
        "\n",
        "print(t2[0:2]) # são os dois primeiros valores dessa tupla.\n",
        "print(t2[2:4]) # são o terceiro e o quarto valores dessa tupla.\n",
        "print(t2[:3]) # são os 3 primeiros valores dessa tupla.\n",
        "print(t2[2:]) # é o terceiro e o último valor dessa tupla.\n",
        "print(t2[-1]) # é o último valor dessa tupla."
      ],
      "metadata": {
        "colab": {
          "base_uri": "https://localhost:8080/"
        },
        "id": "D5YPNwHn-0Me",
        "outputId": "b95a7abf-c346-44ac-caf7-74e65cb7cb95"
      },
      "execution_count": null,
      "outputs": [
        {
          "output_type": "stream",
          "name": "stdout",
          "text": [
            "(1, 3)\n",
            "(5, 7)\n",
            "(1, 3, 5)\n",
            "(5, 7)\n",
            "7\n"
          ]
        }
      ]
    },
    {
      "cell_type": "code",
      "source": [
        "# Tipo de tuplas e suas propriedades.\n",
        "# As tuplas são imutáveis, ou seja, a partir do momento que ela é declarada, ela não pode mais mudar de valores.\n",
        "\n",
        "# Exemplo \n",
        "# Defina uma tupla:\n",
        "# t2= (1,3,5,7)\n",
        "# E depois tente mudar o seu terceiro valor para 8.\n",
        "\n",
        "# Definindo tupla\n",
        "\n",
        "#Modificando seu valor.\n",
        "t2[2] = 8\n",
        "print(t2[2])"
      ],
      "metadata": {
        "colab": {
          "base_uri": "https://localhost:8080/",
          "height": 217
        },
        "id": "2nhEAzo-BS6X",
        "outputId": "e8631163-ab76-42d4-b9a4-66b1d9981204"
      },
      "execution_count": null,
      "outputs": [
        {
          "output_type": "error",
          "ename": "TypeError",
          "evalue": "ignored",
          "traceback": [
            "\u001b[0;31m---------------------------------------------------------------------------\u001b[0m",
            "\u001b[0;31mTypeError\u001b[0m                                 Traceback (most recent call last)",
            "\u001b[0;32m<ipython-input-13-c1ba748727ef>\u001b[0m in \u001b[0;36m<module>\u001b[0;34m\u001b[0m\n\u001b[1;32m     10\u001b[0m \u001b[0;34m\u001b[0m\u001b[0m\n\u001b[1;32m     11\u001b[0m \u001b[0;31m#Modificando seu valor.\u001b[0m\u001b[0;34m\u001b[0m\u001b[0;34m\u001b[0m\u001b[0;34m\u001b[0m\u001b[0m\n\u001b[0;32m---> 12\u001b[0;31m \u001b[0mt2\u001b[0m\u001b[0;34m[\u001b[0m\u001b[0;36m2\u001b[0m\u001b[0;34m]\u001b[0m \u001b[0;34m=\u001b[0m \u001b[0;36m8\u001b[0m\u001b[0;34m\u001b[0m\u001b[0;34m\u001b[0m\u001b[0m\n\u001b[0m\u001b[1;32m     13\u001b[0m \u001b[0mprint\u001b[0m\u001b[0;34m(\u001b[0m\u001b[0mt2\u001b[0m\u001b[0;34m[\u001b[0m\u001b[0;36m2\u001b[0m\u001b[0;34m]\u001b[0m\u001b[0;34m)\u001b[0m\u001b[0;34m\u001b[0m\u001b[0;34m\u001b[0m\u001b[0m\n",
            "\u001b[0;31mTypeError\u001b[0m: 'tuple' object does not support item assignment"
          ]
        }
      ]
    },
    {
      "cell_type": "code",
      "source": [
        "# ERRO: a tupla não suporta receber nenhuma outra informação.\n",
        "# Repare no erro. Realmente não é possível mudar o seu valor.\n",
        "# Então para que iremos usá-la? \n",
        "\n",
        "# Como ela é dfinida no início do programa e não pode ser modificada, a tupla é muito usada como variável de segurança.\n",
        "# Para evitar modificações acidentais durante a execução de programas complexos.\n",
        "\n",
        "# Tipo de tuplas e de seus valores\n",
        "\n",
        "# A tupla possui o próprio tipo: tuple. Porém os valores de cada um de seus termos permanecem com o tipo original.\n",
        "# Se pegarmos diversos valores dentro da tupla, ele será listdo como tupla ainda.\n",
        "\n",
        "# Exemplo 2\n",
        "# Verifique o tipo das variáveis.\n",
        "\n",
        "# t3\n",
        "# t3[0]\n",
        "# t3[1]\n",
        "# t3[2]\n",
        "# t3[0:2]\n",
        "# t3[1:]"
      ],
      "metadata": {
        "id": "tclyeUstDG4I"
      },
      "execution_count": null,
      "outputs": []
    },
    {
      "cell_type": "code",
      "source": [
        "# Imprimindo as variáveis e seus tipos.\n",
        "print(t3)\n",
        "print(type(t3))\n",
        "print(t3[0])\n",
        "print(type(t3[0]))\n",
        "print(t3[1])\n",
        "print(type(t3[1]))\n",
        "print(t3[2])\n",
        "print(type(t3[2]))\n",
        "print(t3[-1])\n",
        "print(type(t3[-1]))\n",
        "print(t3[0:2])\n",
        "print(type(t3[0:2]))\n",
        "print(t3[1:])\n",
        "print(type(t3[1:]))"
      ],
      "metadata": {
        "colab": {
          "base_uri": "https://localhost:8080/"
        },
        "id": "4onUKGqkIjev",
        "outputId": "f0dab55c-dfb4-4d7f-bdd9-29916ac9cc5e"
      },
      "execution_count": null,
      "outputs": [
        {
          "output_type": "stream",
          "name": "stdout",
          "text": [
            "('Lanche', 10.9, 3, True)\n",
            "<class 'tuple'>\n",
            "Lanche\n",
            "<class 'str'>\n",
            "10.9\n",
            "<class 'float'>\n",
            "3\n",
            "<class 'int'>\n",
            "True\n",
            "<class 'bool'>\n",
            "('Lanche', 10.9)\n",
            "<class 'tuple'>\n",
            "(10.9, 3, True)\n",
            "<class 'tuple'>\n"
          ]
        }
      ]
    },
    {
      "cell_type": "code",
      "source": [
        "# Funções com tuplas \n",
        "#len(t1): quantidade de termos\n",
        "#sorted(t1): ordenar\n",
        "#t1.count(valor): contar a quantidade de valor.\n",
        "#t1.index(valor): achar a primeira posição da variável valor.\n",
        "#t1.index(valor,pos): achar valor a partir da posição.\n",
        "# t1 + t2: concatenar tuplas.\n",
        "\n",
        "# Exemplo 3\n",
        "\n",
        "# Utilizando as tuplas abaixo\n",
        "\n",
        "#t1 = ('Lanche', 'Batata', 'Refri')\n",
        "#t2 = (0, 6, 4, 2, 8, 6, 4)\n",
        "#t3 = (1, 3, 3, 5, 3, 5, 7)\n",
        "\n",
        "# Faça \n",
        "\n",
        "# Calcule o tamanho das tuplas t1 e t2\n",
        "# Imprima as tuplas ordenadas t1 e t2, e depois reemprima- as.\n",
        "# Conte quantas vezes aparece o valor 3 na t3.\n",
        "# Procure onde aparece o valor 'Refri' na t1.\n",
        "# Procure valor 5 na t3 após o quarto termo.\n",
        "# Concatene as tuplas t2 e t3.\n",
        "\n",
        "# Declarando as tuplas.\n",
        "\n",
        "t1 = ('Lanche', 'Batata', 'Refri')\n",
        "t2 = (0, 6, 4, 2, 8, 6, 4)\n",
        "t3 = (1, 3, 3, 5, 3, 5, 7)\n",
        "\n",
        "# Tamanho da tupla t1 e t2\n",
        "t1 + t2\n",
        "print(len(t1 + t2))\n",
        "print(len(t1))\n",
        "print(len(t2))\n",
        "\n"
      ],
      "metadata": {
        "colab": {
          "base_uri": "https://localhost:8080/"
        },
        "id": "hku2ScHxUX5U",
        "outputId": "e5159e4d-12d6-45e5-8603-9ecc5410b1db"
      },
      "execution_count": null,
      "outputs": [
        {
          "output_type": "stream",
          "name": "stdout",
          "text": [
            "10\n",
            "3\n",
            "7\n"
          ]
        }
      ]
    },
    {
      "cell_type": "code",
      "source": [
        "# Imprimir de maneira ordenada t1 e t2\n",
        "print(sorted(t1))\n",
        "print(sorted(t2))\n",
        "print(t1)\n",
        "print(t2)\n",
        "type(sorted(t2))\n"
      ],
      "metadata": {
        "colab": {
          "base_uri": "https://localhost:8080/"
        },
        "id": "dJv6xNVCY_eB",
        "outputId": "647e0838-5b78-438f-f75e-ce249aae54ee"
      },
      "execution_count": null,
      "outputs": [
        {
          "output_type": "stream",
          "name": "stdout",
          "text": [
            "['Batata', 'Lanche', 'Refri']\n",
            "[0, 2, 4, 4, 6, 6, 8]\n",
            "('Lanche', 'Batata', 'Refri')\n",
            "(0, 6, 4, 2, 8, 6, 4)\n"
          ]
        },
        {
          "output_type": "execute_result",
          "data": {
            "text/plain": [
              "list"
            ]
          },
          "metadata": {},
          "execution_count": 30
        }
      ]
    },
    {
      "cell_type": "code",
      "source": [
        "# Conte quantas vezes aparece o valor 3 na tupla t3.\n",
        "print(t3.count(3))\n",
        "print(t3)"
      ],
      "metadata": {
        "colab": {
          "base_uri": "https://localhost:8080/"
        },
        "id": "MN8tbXWFa3vx",
        "outputId": "b397c679-e140-4e98-ca85-98c34a486448"
      },
      "execution_count": null,
      "outputs": [
        {
          "output_type": "stream",
          "name": "stdout",
          "text": [
            "3\n",
            "(1, 3, 3, 5, 3, 5, 7)\n"
          ]
        }
      ]
    },
    {
      "cell_type": "code",
      "source": [
        "# Procure onde aparece o valor 'Refri' em t1.\n",
        "print(t1.index('Refri'))\n",
        "print(t1)"
      ],
      "metadata": {
        "colab": {
          "base_uri": "https://localhost:8080/"
        },
        "id": "byD-t3jBJFYZ",
        "outputId": "91d1a804-be78-4df3-a361-2ffc319d99da"
      },
      "execution_count": null,
      "outputs": [
        {
          "output_type": "stream",
          "name": "stdout",
          "text": [
            "2\n",
            "('Lanche', 'Batata', 'Refri')\n"
          ]
        }
      ]
    },
    {
      "cell_type": "code",
      "source": [
        "print(t1)\n",
        "pos = t1.index('Refri')\n",
        "print(pos)"
      ],
      "metadata": {
        "colab": {
          "base_uri": "https://localhost:8080/"
        },
        "id": "sltVZO5eK_Ko",
        "outputId": "5f3b3060-c15f-4df6-c2f7-e28b66a13878"
      },
      "execution_count": null,
      "outputs": [
        {
          "output_type": "stream",
          "name": "stdout",
          "text": [
            "('Lanche', 'Batata', 'Refri')\n",
            "2\n"
          ]
        }
      ]
    },
    {
      "cell_type": "code",
      "source": [
        "# Procure o valor 5 na minha tupla t3 após o quarto termo.\n",
        "print(t3.index(5,4))\n",
        "print(t3)"
      ],
      "metadata": {
        "colab": {
          "base_uri": "https://localhost:8080/"
        },
        "id": "zm20NadVMuiC",
        "outputId": "9df2249f-1dc9-4442-c3ca-462302865c15"
      },
      "execution_count": null,
      "outputs": [
        {
          "output_type": "stream",
          "name": "stdout",
          "text": [
            "5\n",
            "(1, 3, 3, 5, 3, 5, 7)\n"
          ]
        }
      ]
    },
    {
      "cell_type": "code",
      "source": [
        "print(t3)\n",
        "pos = (t3.index(5,4))\n",
        "print(pos)"
      ],
      "metadata": {
        "colab": {
          "base_uri": "https://localhost:8080/"
        },
        "id": "WbT70DeYNZ5R",
        "outputId": "7261ad95-6787-4d3d-a85f-2740fd4ed9fe"
      },
      "execution_count": null,
      "outputs": [
        {
          "output_type": "stream",
          "name": "stdout",
          "text": [
            "(1, 3, 3, 5, 3, 5, 7)\n",
            "5\n"
          ]
        }
      ]
    },
    {
      "cell_type": "code",
      "source": [
        "# Concatenar t2 e t3\n",
        "\n",
        "print( t2 + t3)\n",
        "\n",
        "\n",
        "#Concatene as tuplas t3 e t2\n",
        "\n",
        "print( t3 + t2)"
      ],
      "metadata": {
        "colab": {
          "base_uri": "https://localhost:8080/"
        },
        "id": "_uj5HDBcN9UJ",
        "outputId": "09d59c67-bef5-4e3b-d27e-5ddf241c9491"
      },
      "execution_count": null,
      "outputs": [
        {
          "output_type": "stream",
          "name": "stdout",
          "text": [
            "(0, 6, 4, 2, 8, 6, 4, 1, 3, 3, 5, 3, 5, 7)\n",
            "(1, 3, 3, 5, 3, 5, 7, 0, 6, 4, 2, 8, 6, 4)\n"
          ]
        }
      ]
    },
    {
      "cell_type": "code",
      "source": [
        "# Olhando este último exemplo, aparece a dúvida: e se eu quisesse somar os termos das tuplas? E multiplicar?\n",
        "# Para isso teremos que juntar com o conceito das aulas de repetições.\n",
        "\n",
        "# Tuplas dentro de For\n",
        "# As tuplas possuem vários valores, assim com o range. Portanto podemos rodar um looping de for com os valores diretos de uma lista.\n",
        "\n",
        "# Estrutura\n",
        "# A partir do momento que a tupla está definida, podemos rodar o for utilizando:\n",
        "\n",
        "# for i in tupla:\n",
        "\n",
        "# Quando utilizamos esse comando, em cada passo do loop, a variável de controle i vai valer cada iten da tupla, até percorremos toda a tupla.\n",
        "\n",
        "# Exemplo 1 \n",
        "# Dado a tupla\n",
        "# t1 = ('Lanche', 'Refri', 'Batata)\n",
        "\n",
        "t1 = ('Lanche', 'Refri', 'Batata')\n",
        "\n",
        "for i in t1:\n",
        "  print('Temos no nosso cardápio: {}'.format(i))\n",
        "\n",
        "print('Fim do cardápio.')\n"
      ],
      "metadata": {
        "colab": {
          "base_uri": "https://localhost:8080/"
        },
        "id": "Ai9vblOSOvp2",
        "outputId": "a76f78c5-4c93-4b47-a0ab-bc14fe5a5de9"
      },
      "execution_count": null,
      "outputs": [
        {
          "output_type": "stream",
          "name": "stdout",
          "text": [
            "Temos no nosso cardápio: Lanche\n",
            "Temos no nosso cardápio: Refri\n",
            "Temos no nosso cardápio: Batata\n",
            "Fim do cardápio.\n"
          ]
        }
      ]
    },
    {
      "cell_type": "code",
      "source": [
        "# Exemplo 2\n",
        "\n",
        "# Dado a tupla t2, some todos os seus valores.\n",
        "print(t2)\n",
        "soma = 0\n",
        "\n",
        "for i in t2:\n",
        "  soma += i\n",
        "  print('i = {} e a soma é {}'.format(i, soma))\n",
        "\n",
        "\n",
        "print(soma)"
      ],
      "metadata": {
        "colab": {
          "base_uri": "https://localhost:8080/"
        },
        "id": "rbm6kG1HTuDC",
        "outputId": "8e1ff830-e27f-451a-d453-4e395db505af"
      },
      "execution_count": null,
      "outputs": [
        {
          "output_type": "stream",
          "name": "stdout",
          "text": [
            "(0, 6, 4, 2, 8, 6, 4)\n",
            "i = 0 e a soma é 0\n",
            "i = 6 e a soma é 6\n",
            "i = 4 e a soma é 10\n",
            "i = 2 e a soma é 12\n",
            "i = 8 e a soma é 20\n",
            "i = 6 e a soma é 26\n",
            "i = 4 e a soma é 30\n",
            "30\n"
          ]
        }
      ]
    },
    {
      "cell_type": "code",
      "source": [
        "# Observe que nos exemplos acima, nós nem precisamos saber qual era o tamanho da tupla para o programa rodar.\n",
        "# Mas e se precisarmos saber qual é o índice de cada valor dentro do loop? Para isso usaremos o Enumerate()\n",
        "\n",
        "# Enumerate()\n",
        "\n",
        "# Quando usamos essa função dentro da declaração de um for, ela vai mostrar tanto o valor da variável de controle quanto também o índice dela.\n",
        "#Só precisamos fazer um pequeno ajuste na síntaxe:\n",
        "\n",
        "# for índice, valor in enumerate(t1):\n",
        "\n",
        "# Exemplo 1 \n",
        "\n",
        "# Plote os ítens da tupla t1, mostrando seus índices como se fosse um cardápio.\n",
        "\n",
        "print(t1)\n",
        "\n",
        "for indice, valor in enumerate(t1):\n",
        "  print('para índice = {} nós temos o valor = {}'.format(indice,valor))\n",
        "  \n",
        "\n"
      ],
      "metadata": {
        "colab": {
          "base_uri": "https://localhost:8080/"
        },
        "id": "DhiLr5J4V3KT",
        "outputId": "48462a86-48df-49e6-965b-e0aa55882503"
      },
      "execution_count": null,
      "outputs": [
        {
          "output_type": "stream",
          "name": "stdout",
          "text": [
            "('Lanche', 'Refri', 'Batata')\n",
            "para índice = 0 nós temos o valor = Lanche\n",
            "para índice = 1 nós temos o valor = Refri\n",
            "para índice = 2 nós temos o valor = Batata\n"
          ]
        }
      ]
    },
    {
      "cell_type": "code",
      "source": [
        "# Exercícios 1\n",
        "\n",
        "# Dado a tupla abaixo:\n",
        "\n",
        "# t1 = ('Doce', 'Churrasco', 'Bala', 'Tapioca', 'Pizza', 'Feijão', 'Arroz', 'Açai', 'Paçoca', 'Acarajé', 'Pamonha', 'Dobradinha', 'Rapadura')\n",
        "\n",
        "# Faça um programa que:\n",
        "# O usuário digita uma comida  e esse programa diz em qual posição do cardápio este item esta.\n",
        "# Printe os ítens em ordem alfabeta para o usuário. \n",
        "\n",
        "t1 = ('Doce', 'Churrasco', 'Bala', 'Tapioca', 'Pizza', 'Feijão', 'Arroz', 'Açai', 'Paçoca', 'Acarajé', 'Pamonha', 'Dobradinha', 'Rapadura')\n",
        "print(t1)\n",
        "comida = input(str('Digite o que você quer comer:'))\n",
        "index = t1.index(comida)\n",
        "print(' Você digitou {} que esta na posição {} do cardápio'.format(comida, index))\n",
        "print(sorted(t1))\n",
        "\n",
        "\n",
        "\n",
        "\n",
        "\n",
        "\n"
      ],
      "metadata": {
        "colab": {
          "base_uri": "https://localhost:8080/"
        },
        "id": "Xw47m3fKbNOE",
        "outputId": "2539154c-1418-41fb-e870-8a210bc5a95e"
      },
      "execution_count": null,
      "outputs": [
        {
          "output_type": "stream",
          "name": "stdout",
          "text": [
            "('Doce', 'Churrasco', 'Bala', 'Tapioca', 'Pizza', 'Feijão', 'Arroz', 'Açai', 'Paçoca', 'Acarajé', 'Pamonha', 'Dobradinha', 'Rapadura')\n",
            "Digite o que você quer comer:Churrasco\n",
            " Você digitou Churrasco que esta na posição 1 do cardápio\n",
            "['Acarajé', 'Arroz', 'Açai', 'Bala', 'Churrasco', 'Dobradinha', 'Doce', 'Feijão', 'Pamonha', 'Paçoca', 'Pizza', 'Rapadura', 'Tapioca']\n"
          ]
        }
      ]
    },
    {
      "cell_type": "code",
      "source": [
        "# Exercício 2\n",
        "\n",
        "# Dada a tupla abaixo\n",
        "\n",
        "# t1 = ('Doce', 2.3, 'Bala', 0.15, 'Pizza', 28.9, 'Arroz', 4.5, 'Paçoca', 0.5, 'Pamonha', 5.4)\n",
        "\n",
        "# Os dados estão organizados de forma que tem o valor do produto e logo após o seu preço. Faça um programa que:\n",
        "\n",
        "# Mostre o cardápio de forma organizada.\n",
        "\n",
        "t1 = ('Doce', 2.3, 'Bala', 0.15, 'Pizza', 28.9, 'Arroz', 4.5, 'Paçoca', 0.5, 'Pamonha', 5.4)\n",
        "\n",
        "print('-'*66)\n",
        "print()\n",
        "print('-'*28,'Cardápio','-'*28)\n",
        "print()\n",
        "print('-'*66)\n",
        "print(t1[0],'.'*51,':R$',t1[1])\n",
        "print(t1[2],'.'*51, ':R$',t1[3])\n",
        "print(t1[4],'.'*50,':R$',t1[5])\n",
        "print(t1[6],'.'*50,':R$',t1[7])\n",
        "print(t1[8],'.'*49,':R$',t1[9])\n",
        "print(t1[10],'.'*48,':R$',t1[11])\n",
        "print('-'*66)\n",
        "\n",
        "\n"
      ],
      "metadata": {
        "colab": {
          "base_uri": "https://localhost:8080/"
        },
        "id": "Ac23-zoloazq",
        "outputId": "6887cdae-4fb9-4695-a210-57f2c7b049f3"
      },
      "execution_count": null,
      "outputs": [
        {
          "output_type": "stream",
          "name": "stdout",
          "text": [
            "------------------------------------------------------------------\n",
            "\n",
            "---------------------------- Cardápio ----------------------------\n",
            "\n",
            "------------------------------------------------------------------\n",
            "Doce ................................................... :R$ 2.3\n",
            "Bala ................................................... :R$ 0.15\n",
            "Pizza .................................................. :R$ 28.9\n",
            "Arroz .................................................. :R$ 4.5\n",
            "Paçoca ................................................. :R$ 0.5\n",
            "Pamonha ................................................ :R$ 5.4\n",
            "------------------------------------------------------------------\n"
          ]
        }
      ]
    },
    {
      "cell_type": "code",
      "source": [
        "# Exercício 3\n",
        "# Dada a mesma tupla do exercício anterior faça um programa que:\n",
        "# O usuário vizualiza o cardápio e escolhe qual item ele quer comprar. A seguir pergunta se ele quer algo mais.\n",
        "#Caso ele queira, vai somando todos os pedidos em uma variável soma.\n",
        "# No final printe para o usuário o valor total da conta.\n",
        "\n",
        "t1 = ('Doce', 2.3, 'Bala', 0.15, 'Pizza', 28.9, 'Arroz', 4.5, 'Paçoca', 0.5, 'Pamonha', 5.4)\n",
        "\n",
        "print('-'*66)\n",
        "print()\n",
        "print('-'*28,'Cardápio','-'*28)\n",
        "print()\n",
        "print('-'*66)\n",
        "print(t1[0],'.'*51,':R$',t1[1])\n",
        "print(t1[2],'.'*51, ':R$',t1[3])\n",
        "print(t1[4],'.'*50,':R$',t1[5])\n",
        "print(t1[6],'.'*50,':R$',t1[7])\n",
        "print(t1[8],'.'*49,':R$',t1[9])\n",
        "print(t1[10],'.'*48,':R$',t1[11])\n",
        "print('-'*66)\n",
        "\n",
        "soma = 0\n",
        "\n",
        "\n",
        "for produto in t1: \n",
        "  produto = input('O que você escolhe?')\n",
        "  continua = input(' Deseja mais alguma coisa (S/N)')\n",
        "  posicao = t1.index(produto)\n",
        "  posicao = posicao + 1\n",
        "  soma += t1[posicao]\n",
        "  if continua == 'S':\n",
        "    print(soma)\n",
        "    print('O Valor total de sua conta foi: {:.2f}'.format(soma))\n",
        "\n",
        "  elif continua == 'N':\n",
        "   print('Você finalizou seu pedido.')\n",
        "   print('O valor total de sua compra foi: R$ {:.2f}'.format(soma))\n",
        "   break\n",
        "\n",
        "\n",
        "print('Fim.')"
      ],
      "metadata": {
        "colab": {
          "base_uri": "https://localhost:8080/"
        },
        "id": "0g6X5fAcJ1Jt",
        "outputId": "d3cbb8d4-d539-4024-9c0f-66f8327fd054"
      },
      "execution_count": null,
      "outputs": [
        {
          "output_type": "stream",
          "name": "stdout",
          "text": [
            "------------------------------------------------------------------\n",
            "\n",
            "---------------------------- Cardápio ----------------------------\n",
            "\n",
            "------------------------------------------------------------------\n",
            "Doce ................................................... :R$ 2.3\n",
            "Bala ................................................... :R$ 0.15\n",
            "Pizza .................................................. :R$ 28.9\n",
            "Arroz .................................................. :R$ 4.5\n",
            "Paçoca ................................................. :R$ 0.5\n",
            "Pamonha ................................................ :R$ 5.4\n",
            "------------------------------------------------------------------\n",
            "O que você escolhe?Doce\n",
            " Deseja mais alguma coisa (S/N)S\n",
            "2.3\n",
            "O Valor total de sua conta foi: 2.30\n",
            "O que você escolhe?Bala\n",
            " Deseja mais alguma coisa (S/N)S\n",
            "2.4499999999999997\n",
            "O Valor total de sua conta foi: 2.45\n",
            "O que você escolhe?Paçoca\n",
            " Deseja mais alguma coisa (S/N)N\n",
            "Você finalizou seu pedido.\n",
            "O valor total de sua compra foi: R$ 2.95\n",
            "Fim.\n"
          ]
        }
      ]
    },
    {
      "cell_type": "code",
      "source": [
        "# Listas \n",
        "# São variáveis compostas mutáveis.\n",
        "\n",
        "# São declaradas entre colchetes []\n",
        "\n",
        "# Lista = ['Var1', 'Var2', 'Var3']\n",
        "\n",
        "# Assim como as tuplas, elas também aceitam qualquer tipoo de dado.\n",
        "\n",
        "# Similiaridades entre listas e tuplas:\n",
        "# Usam as mesmas funções.\n",
        "\n",
        "#Fatiamento: [0], [0:2], [:3], [3:], [-1]\n",
        "# Métodos: .index(), .count()\n",
        "# Funções: len(), sorted()\n",
        "# Concatenar: lista3 = lista1 + lista2\n",
        "# Lista dentro do for: for i in lista e for i, v in enumerate(lista):\n",
        "\n",
        "\n",
        "# Funções e métodos para listas\n",
        "\n",
        "#lista[posição] = novoValor\n",
        "#lista[intervalo] = novaLista\n",
        "\n",
        "# Exemplo 1\n",
        "\n",
        "# Dada a lista abaixo\n",
        "# l1 = [2, 6, 4, 5, 7]\n",
        "\n",
        "# Troque o terceiro termo por 3\n",
        "# Troque os dois primeiros termos por 0 e 1 respectivamente\n",
        "\n",
        "# Dclarando lista\n",
        "l1 = [2, 6, 4, 5, 7]\n",
        "print(l1)\n",
        "\n",
        "# Troque o terceiro termo por 3\n",
        "l1[2] = 3\n",
        "print(l1)\n",
        "\n",
        "# Troque os dois primeiros termos por 0 e 1 respectivamente\n",
        "l1[0:2] = [0,1]\n",
        "print(l1)"
      ],
      "metadata": {
        "colab": {
          "base_uri": "https://localhost:8080/"
        },
        "id": "Xy8Wkpxa45B_",
        "outputId": "69e094e2-afe3-42d2-9118-5d6d9638996f"
      },
      "execution_count": null,
      "outputs": [
        {
          "output_type": "stream",
          "name": "stdout",
          "text": [
            "[2, 6, 4, 5, 7]\n",
            "[2, 6, 3, 5, 7]\n",
            "[0, 1, 3, 5, 7]\n"
          ]
        }
      ]
    },
    {
      "cell_type": "code",
      "source": [
        "# Adicionando termos\n",
        "\n",
        "# lista.append(valor)\n",
        "# lista.insert(posição, valor)\n",
        "\n",
        "# Exemplo 2 \n",
        "# Dada a lista abaixo\n",
        "# l1 = [0, 1, 3, 5, 7]\n",
        "\n",
        "# Insira 7 para o último valor\n",
        "# Insira 4 na quarta posição\n",
        "\n",
        "# Declarando lista\n",
        "l1 = [0, 1, 3, 5, 7]\n",
        "print(l1)\n",
        "#Inserindo valores\n",
        "# Insira 7 para o último valor\n",
        "\n",
        "l1.append(7)\n",
        "print(l1)\n",
        "\n",
        "# Insira 4 na quarta posição\n",
        "l1.insert(3,4)\n",
        "print(l1)\n",
        "\n",
        "# Repare que usando o insert() o método insere na posição desejada e desloca todos os outros valores na lista da direita"
      ],
      "metadata": {
        "colab": {
          "base_uri": "https://localhost:8080/"
        },
        "id": "rVWjqDaw9WkD",
        "outputId": "22ae8b6a-b79b-41f9-fde4-9386f549b490"
      },
      "execution_count": null,
      "outputs": [
        {
          "output_type": "stream",
          "name": "stdout",
          "text": [
            "[0, 1, 3, 5, 7]\n",
            "[0, 1, 3, 5, 7, 7]\n",
            "[0, 1, 3, 4, 5, 7, 7]\n"
          ]
        }
      ]
    },
    {
      "cell_type": "code",
      "source": [
        "# Deletando termos\n",
        "\n",
        "# del lista[posição]\n",
        "# var = lista.pop(pos)\n",
        "# lista.remove(valor)\n",
        "\n",
        "# Exemplo 3\n",
        "# Dada a lista abaixo\n",
        "# l1 = [0, 1, 3, 4, 5, 7, 7]\n",
        "\n",
        "#Declarando lista\n",
        "l1 = [0, 1, 3, 4, 5, 7, 7]\n",
        "print(l1)\n",
        "\n",
        "# Deletando valores \n",
        "# Delete o quarto ítem usando o del\n",
        "\n",
        "del l1[3]\n",
        "print(l1)\n",
        "\n",
        "# delete o terceiro ítem usando o .pop e salve na variável deletado\n",
        "\n",
        "deletado = l1.pop(2)\n",
        "print(l1, '-', deletado)\n",
        "\n",
        "#Delete o primeiro valor 7 que aparecer na lista\n",
        "l1.remove(7)\n",
        "print(l1)\n"
      ],
      "metadata": {
        "colab": {
          "base_uri": "https://localhost:8080/"
        },
        "id": "6q9en0SZCDVf",
        "outputId": "1e8bd7f9-eb4c-4368-b674-0e381b9291d6"
      },
      "execution_count": null,
      "outputs": [
        {
          "output_type": "stream",
          "name": "stdout",
          "text": [
            "[0, 1, 3, 4, 5, 7, 7]\n",
            "[0, 1, 3, 5, 7, 7]\n",
            "[0, 1, 5, 7, 7] - 3\n",
            "[0, 1, 5, 7]\n"
          ]
        }
      ]
    },
    {
      "cell_type": "code",
      "source": [
        "# if com lista\n",
        "\n",
        "# Também podemos usar o if de uma forma simplificada na lista para verificarmos se algum valor existe dentro da lista.\n",
        "\n",
        "# if valor in lista:\n",
        "      #lista.remove(valor)\n",
        "\n",
        "# Como o exemplo acima mostra, ela é muito comum de ser usada para verificar se algum valor está dentro da lista antes de deletá-lo.\n",
        "\n",
        "# Exercício 1\n",
        "\n",
        "# Dada a lista abaixo\n",
        "# l2 = [3, 2, 5, 0, 0, 8, 3, 8, 8, 4, 0, 9, 7, 8, 9, 3, 6, 0, 1]\n",
        "\n",
        "#1. Conte a quantidade de termos que a lista possui e imprima\n",
        "#2. Delete todos os 0 da lista e imprima-a\n",
        "#3. Conte a quantidade de termos da lista\n",
        "\n",
        "# Declarando a lista\n",
        "l2 = [3, 2, 5, 0, 0, 8, 3, 8, 8, 4, 0, 9, 7, 8, 9, 3, 6, 0, 1]\n",
        "print(l2)\n",
        "#Contando a lista\n",
        "qtdOriginal = len(l2)\n",
        "print(qtdOriginal)\n",
        "\n",
        "#Deletando os valores\n",
        "# Delete todos os 0 da lista e imprima-a\n",
        "\n",
        "for i in l2:\n",
        "  if 0 in l2:\n",
        "    l2.remove(0)\n",
        "print(l2)\n",
        "\n",
        "# Contando a lista final\n",
        "qtdFinal = len(l2)\n",
        "print(qtdFinal)"
      ],
      "metadata": {
        "colab": {
          "base_uri": "https://localhost:8080/"
        },
        "id": "tGDODXLuFlOF",
        "outputId": "1a54e487-f51b-47b3-fba5-713f61429226"
      },
      "execution_count": null,
      "outputs": [
        {
          "output_type": "stream",
          "name": "stdout",
          "text": [
            "[3, 2, 5, 0, 0, 8, 3, 8, 8, 4, 0, 9, 7, 8, 9, 3, 6, 0, 1]\n",
            "19\n",
            "[3, 2, 5, 8, 3, 8, 8, 4, 9, 7, 8, 9, 3, 6, 1]\n",
            "15\n"
          ]
        }
      ]
    },
    {
      "cell_type": "code",
      "source": [
        "# Ordenando lista\n",
        "# Existem 2 maneiras de ordenar. Uma delas é uma função e a outra é um método.\n",
        "\n",
        "#sorted(lista)\n",
        "#lista.sort()\n",
        "#lista.sort(reverse = True)\n",
        "\n",
        "# Exemplo 4\n",
        "# Dada a lista abaixo\n",
        "#l1 = [0, 3, 1, 7, 5, 7, 4]\n",
        "\n",
        "# Ordene a lista usando o sorted e salve na variável sort1.\n",
        "# Ordene a lista com o .sorted e salve na variável sort2.\n",
        "# Compare os resultados\n",
        "# Faça a ordenação inversa\n",
        "\n",
        "# Declarando lista\n",
        "l1 = [0, 3, 1, 7, 5, 7, 4]\n",
        "print(l1)\n",
        "\n",
        "# Ordenando a lista\n",
        "# Ordene a lista usando o sorted e salve na variável sort1.\n",
        "sorted(l1)\n",
        "sort1 = sorted(l1)\n",
        "print(sort1)\n",
        "\n",
        "# Ordene a lista com o .sorted e salve na variável sort2.\n",
        "\n",
        "sort2 = l1.sort()\n",
        "print(sort2)\n",
        "print(l1)\n",
        "\n",
        "# Ordenação inversa\n",
        "l1.sort(reverse = True)\n",
        "print(l1)\n"
      ],
      "metadata": {
        "id": "t3ndgll9LoJJ",
        "colab": {
          "base_uri": "https://localhost:8080/"
        },
        "outputId": "21913278-3342-45e7-ef26-d4173d300bb7"
      },
      "execution_count": null,
      "outputs": [
        {
          "output_type": "stream",
          "name": "stdout",
          "text": [
            "[0, 3, 1, 7, 5, 7, 4]\n",
            "[0, 1, 3, 4, 5, 7, 7]\n",
            "None\n",
            "[0, 1, 3, 4, 5, 7, 7]\n",
            "[7, 7, 5, 4, 3, 1, 0]\n"
          ]
        }
      ]
    },
    {
      "cell_type": "code",
      "source": [
        "# Declarando listas \n",
        "\n",
        "# É muito comum declararmos listas em branco para que o usuário possa inserir os valores e/ou possamos puxar os valores de algum banco de dados.\n",
        "\n",
        "# Declarando listas em branco\n",
        "\n",
        "#lista = []\n",
        "#lista = list()\n",
        "\n",
        "# Após a declaração é possível ir adicionando os valores com o .append() que já vimos anteriormente\n",
        "\n",
        "#Exemplo 5\n",
        "\n",
        "# Crie uma lista vazia e peça para o usuário inserir 5 números dentro dela.\n",
        "\n",
        "# Declarando a lista\n",
        "\n",
        "lista1 = []\n",
        "print(lista1)\n",
        "\n",
        "for i in range(1,6):\n",
        "  lista1.append(float(input('Digite o {}º número:'.format(i))))\n",
        "\n",
        "print(lista1)"
      ],
      "metadata": {
        "colab": {
          "base_uri": "https://localhost:8080/"
        },
        "id": "YRVLpOnq9b1P",
        "outputId": "927bec49-acae-48d9-c975-b8ed535f73b3"
      },
      "execution_count": null,
      "outputs": [
        {
          "output_type": "stream",
          "name": "stdout",
          "text": [
            "[]\n",
            "Digite o 1º número:1\n",
            "Digite o 2º número:3\n",
            "Digite o 3º número:5\n",
            "Digite o 4º número:7\n",
            "Digite o 5º número:9\n",
            "[1.0, 3.0, 5.0, 7.0, 9.0]\n"
          ]
        }
      ]
    },
    {
      "cell_type": "code",
      "source": [
        "# Declarando listas com o Range\n",
        "\n",
        "# lista = list(range(inicio,fim,passo))\n",
        "\n",
        "# Para cálculo e análises matemáticas, é muito comum precisarmos criar uma lista de números com um passo conhecido como análise e até gráficos.\n",
        "#Gerar esses números com o comando acima se torna bem siples.\n",
        "\n",
        "# Exemplo 6\n",
        "\n",
        "# Crie uma lista de 0 a 10 com passo de 0.1\n",
        "\n",
        "# Criando a lista\n",
        "eixox = list(range(0,100,1))\n",
        "print(eixox)\n",
        "\n",
        "\n",
        "for i in eixox:\n",
        " # eixox[i] = eixox[i] / 10\n",
        " eixox[i] /= 10\n",
        "\n",
        "print(eixox)"
      ],
      "metadata": {
        "colab": {
          "base_uri": "https://localhost:8080/"
        },
        "id": "Ffr3WDnaTN41",
        "outputId": "67a2bd91-8dab-4b73-ec42-7a7c8f97c977"
      },
      "execution_count": null,
      "outputs": [
        {
          "output_type": "stream",
          "name": "stdout",
          "text": [
            "[0, 1, 2, 3, 4, 5, 6, 7, 8, 9, 10, 11, 12, 13, 14, 15, 16, 17, 18, 19, 20, 21, 22, 23, 24, 25, 26, 27, 28, 29, 30, 31, 32, 33, 34, 35, 36, 37, 38, 39, 40, 41, 42, 43, 44, 45, 46, 47, 48, 49, 50, 51, 52, 53, 54, 55, 56, 57, 58, 59, 60, 61, 62, 63, 64, 65, 66, 67, 68, 69, 70, 71, 72, 73, 74, 75, 76, 77, 78, 79, 80, 81, 82, 83, 84, 85, 86, 87, 88, 89, 90, 91, 92, 93, 94, 95, 96, 97, 98, 99]\n",
            "[0.0, 0.1, 0.2, 0.3, 0.4, 0.5, 0.6, 0.7, 0.8, 0.9, 1.0, 1.1, 1.2, 1.3, 1.4, 1.5, 1.6, 1.7, 1.8, 1.9, 2.0, 2.1, 2.2, 2.3, 2.4, 2.5, 2.6, 2.7, 2.8, 2.9, 3.0, 3.1, 3.2, 3.3, 3.4, 3.5, 3.6, 3.7, 3.8, 3.9, 4.0, 4.1, 4.2, 4.3, 4.4, 4.5, 4.6, 4.7, 4.8, 4.9, 5.0, 5.1, 5.2, 5.3, 5.4, 5.5, 5.6, 5.7, 5.8, 5.9, 6.0, 6.1, 6.2, 6.3, 6.4, 6.5, 6.6, 6.7, 6.8, 6.9, 7.0, 7.1, 7.2, 7.3, 7.4, 7.5, 7.6, 7.7, 7.8, 7.9, 8.0, 8.1, 8.2, 8.3, 8.4, 8.5, 8.6, 8.7, 8.8, 8.9, 9.0, 9.1, 9.2, 9.3, 9.4, 9.5, 9.6, 9.7, 9.8, 9.9]\n"
          ]
        }
      ]
    },
    {
      "cell_type": "code",
      "source": [
        "# Copiando e clonando listas\n",
        "\n",
        "# Quando declaramos uma nova variável e igualamos a uma lista, ela na verdade vira um clone da lista original. \n",
        "#Qualquer modificação em uma das duas irá impactar as duas.\n",
        "\n",
        "# Exemplo 7 \n",
        "\n",
        "# Crie uma lista\n",
        "\n",
        "# l1 = [0, 2, 6, 4, 8, 1, 3]\n",
        "\n",
        "# Em seguida faça \n",
        "\n",
        "# l2 = l1\n",
        "\n",
        "# Delete o último termo da lista l2 e imprima o resultado \n",
        "\n",
        "# Declarando lista\n",
        "l1 = [0, 2, 6, 4, 8, 1, 3]\n",
        "l2 = l1\n",
        "\n",
        "# Deletando último valor e plotando resultados\n",
        "l2.pop()\n",
        "\n",
        "print('l1 é igual {}'.format(l1))\n",
        "print('l2 é igual {}'.format(l1))"
      ],
      "metadata": {
        "colab": {
          "base_uri": "https://localhost:8080/"
        },
        "id": "3Tok3lNIZWG1",
        "outputId": "72e70ae2-cd65-48b4-c1bb-58b774e3895a"
      },
      "execution_count": null,
      "outputs": [
        {
          "output_type": "stream",
          "name": "stdout",
          "text": [
            "l1 é igual [0, 2, 6, 4, 8, 1]\n",
            "l2 é igual [0, 2, 6, 4, 8, 1]\n"
          ]
        }
      ]
    },
    {
      "cell_type": "code",
      "source": [
        "# Observe o que fazer\n",
        "\n",
        "# l2 = l1\n",
        "\n",
        "# Acabamos clonando as listas. \n",
        "# Elas estão ocupando o mesmo espaço na memória do computador, portanto qualquer modificação feita em uma também será feita na outra.\n",
        "# Cuidaddo na hora de clonar listas.\n",
        "\n",
        "# Se quisermos criar uma cópia da lista, para que essa segunda possa ser modificada a vontade, devemos utilizar a seguinte sintaxe.\n",
        "\n",
        "# l2 = l1[:]\n",
        "\n",
        "# Exemplo 8 \n",
        "# Execute o exemplo anterior, só que agora copiando a lista ao invés de clonar.\n",
        "\n",
        "# Declarando lista\n",
        "l1 = [0, 2, 6, 4, 8, 1, 3]\n",
        "l2 = l1[:]\n",
        "\n",
        "# Deletando último valor e plotando resultado\n",
        "l2.pop()\n",
        "\n",
        "print('l1 é igual {}'.format(l1))\n",
        "print('l2 é igual {}'.format(l2))"
      ],
      "metadata": {
        "colab": {
          "base_uri": "https://localhost:8080/"
        },
        "id": "69eiTntbdCZO",
        "outputId": "a789b0b8-b076-4619-81aa-c98bdb2916ab"
      },
      "execution_count": null,
      "outputs": [
        {
          "output_type": "stream",
          "name": "stdout",
          "text": [
            "l1 é igual [0, 2, 6, 4, 8, 1, 3]\n",
            "l2 é igual [0, 2, 6, 4, 8, 1]\n"
          ]
        }
      ]
    },
    {
      "cell_type": "code",
      "source": [
        "# Lista dentro de for\n",
        "\n",
        "# A utilização de listas dentro de loopings é bem similar às tuplas. \n",
        "#A diferença é que agora podemos modificar as listas e utilizar os loopings para adicionarmos novos valores à lista.\n",
        "\n",
        "# Exemplo 9 \n",
        "\n",
        "# Dadas as listas abaixo\n",
        "\n",
        "# l1 = [0, 2, 6, 4, 8, 1, 3]\n",
        "# l2 = [3, 2, 1, 7, 8, 2, 5]\n",
        "# Crie uma nova lista que será a soma de termo de l1 com a l2\n",
        "\n",
        "# Declarando as listas \n",
        "l1 = [0, 2, 6, 4, 8, 1, 3]\n",
        "l2 = [3, 2, 1, 7, 8, 2, 5]\n",
        "l3 = list()\n",
        "\n",
        "for i, val in enumerate(l1):\n",
        "  print('l1 [{}] = {} e l2 [{}] = {}'.format(i,l1[i],i,l2[i]))\n",
        "  l3.append(l1[i] + l2[i])\n",
        "\n",
        "\n",
        "print(l3)\n"
      ],
      "metadata": {
        "colab": {
          "base_uri": "https://localhost:8080/"
        },
        "id": "Vzf5-2MZih1U",
        "outputId": "5d5ed55f-0ef9-4e10-c8f8-d2dffff94c85"
      },
      "execution_count": null,
      "outputs": [
        {
          "output_type": "stream",
          "name": "stdout",
          "text": [
            "l1 [0] = 0 e l2 [0] = 3\n",
            "l1 [1] = 2 e l2 [1] = 2\n",
            "l1 [2] = 6 e l2 [2] = 1\n",
            "l1 [3] = 4 e l2 [3] = 7\n",
            "l1 [4] = 8 e l2 [4] = 8\n",
            "l1 [5] = 1 e l2 [5] = 2\n",
            "l1 [6] = 3 e l2 [6] = 5\n",
            "[3, 4, 7, 11, 16, 3, 8]\n"
          ]
        }
      ]
    },
    {
      "cell_type": "code",
      "source": [
        "# Exemplo 10\n",
        "\n",
        "# Dadas as listas abaixo\n",
        "#l1 = [0, 2, 6, 4, 8, 1, 3]\n",
        "#l2 = [3, 2, 1, 7, 8]\n",
        "\n",
        "# Execute o mesmo código do exemplo anterior.\n",
        "\n",
        "# Declarando lista\n",
        "l1 = [0, 2, 6, 4, 8, 1, 3]\n",
        "l2 = [3, 2, 1, 7, 8]\n",
        "l3 = list()\n",
        "\n",
        "for i, val in enumerate(l1):\n",
        "  print('l1 [{}] = {} e l2 [{}] = {}'.format(i,l1[i],i,l2[1]))\n",
        "  l3.append(l1[i]+l2[i])\n",
        "\n",
        "print(l3)\n",
        "\n",
        "# Observe que o erro acontece porque tentamos acessar l2[5] que na verdade não existe.\n",
        "# Para contornarmos esse erro podemos primeiro descobrir qual é a menor lista para depois colocarmos ela dentro do enumerate().\n",
        "# Mas tem um método bem mais fácil, que é usar a função zip.\n",
        "\n",
        "#for val1, val2 in zip(l1, l2):\n",
        "\n",
        "# Essa função fará que o passo do for ande sempre junto para as duas listas(ou tuplas).\n",
        "# Assim as variáveis val1 e val2 vão ter sempre o valor das respectivas posições do passo do for.\n",
        "\n",
        "\n"
      ],
      "metadata": {
        "colab": {
          "base_uri": "https://localhost:8080/",
          "height": 339
        },
        "id": "TnqR-1RL5cDp",
        "outputId": "24b5e8e2-fd58-4f44-ac50-934f30971582"
      },
      "execution_count": null,
      "outputs": [
        {
          "output_type": "stream",
          "name": "stdout",
          "text": [
            "l1 [0] = 0 e l2 [0] = 2\n",
            "l1 [1] = 2 e l2 [1] = 2\n",
            "l1 [2] = 6 e l2 [2] = 2\n",
            "l1 [3] = 4 e l2 [3] = 2\n",
            "l1 [4] = 8 e l2 [4] = 2\n",
            "l1 [5] = 1 e l2 [5] = 2\n"
          ]
        },
        {
          "output_type": "error",
          "ename": "IndexError",
          "evalue": "ignored",
          "traceback": [
            "\u001b[0;31m---------------------------------------------------------------------------\u001b[0m",
            "\u001b[0;31mIndexError\u001b[0m                                Traceback (most recent call last)",
            "\u001b[0;32m<ipython-input-4-23c65a80c878>\u001b[0m in \u001b[0;36m<module>\u001b[0;34m\u001b[0m\n\u001b[1;32m     14\u001b[0m \u001b[0;32mfor\u001b[0m \u001b[0mi\u001b[0m\u001b[0;34m,\u001b[0m \u001b[0mval\u001b[0m \u001b[0;32min\u001b[0m \u001b[0menumerate\u001b[0m\u001b[0;34m(\u001b[0m\u001b[0ml1\u001b[0m\u001b[0;34m)\u001b[0m\u001b[0;34m:\u001b[0m\u001b[0;34m\u001b[0m\u001b[0;34m\u001b[0m\u001b[0m\n\u001b[1;32m     15\u001b[0m   \u001b[0mprint\u001b[0m\u001b[0;34m(\u001b[0m\u001b[0;34m'l1 [{}] = {} e l2 [{}] = {}'\u001b[0m\u001b[0;34m.\u001b[0m\u001b[0mformat\u001b[0m\u001b[0;34m(\u001b[0m\u001b[0mi\u001b[0m\u001b[0;34m,\u001b[0m\u001b[0ml1\u001b[0m\u001b[0;34m[\u001b[0m\u001b[0mi\u001b[0m\u001b[0;34m]\u001b[0m\u001b[0;34m,\u001b[0m\u001b[0mi\u001b[0m\u001b[0;34m,\u001b[0m\u001b[0ml2\u001b[0m\u001b[0;34m[\u001b[0m\u001b[0;36m1\u001b[0m\u001b[0;34m]\u001b[0m\u001b[0;34m)\u001b[0m\u001b[0;34m)\u001b[0m\u001b[0;34m\u001b[0m\u001b[0;34m\u001b[0m\u001b[0m\n\u001b[0;32m---> 16\u001b[0;31m   \u001b[0ml3\u001b[0m\u001b[0;34m.\u001b[0m\u001b[0mappend\u001b[0m\u001b[0;34m(\u001b[0m\u001b[0ml1\u001b[0m\u001b[0;34m[\u001b[0m\u001b[0mi\u001b[0m\u001b[0;34m]\u001b[0m\u001b[0;34m+\u001b[0m\u001b[0ml2\u001b[0m\u001b[0;34m[\u001b[0m\u001b[0mi\u001b[0m\u001b[0;34m]\u001b[0m\u001b[0;34m)\u001b[0m\u001b[0;34m\u001b[0m\u001b[0;34m\u001b[0m\u001b[0m\n\u001b[0m\u001b[1;32m     17\u001b[0m \u001b[0;34m\u001b[0m\u001b[0m\n\u001b[1;32m     18\u001b[0m \u001b[0mprint\u001b[0m\u001b[0;34m(\u001b[0m\u001b[0ml3\u001b[0m\u001b[0;34m)\u001b[0m\u001b[0;34m\u001b[0m\u001b[0;34m\u001b[0m\u001b[0m\n",
            "\u001b[0;31mIndexError\u001b[0m: list index out of range"
          ]
        }
      ]
    },
    {
      "cell_type": "code",
      "source": [
        "#Exemplo 11\n",
        "# Adapte o código anterior usando zip.\n",
        "\n",
        "# Declarando as listas \n",
        "\n",
        "l1 = [0, 2, 6, 4, 8, 1, 3]\n",
        "l2 = [3, 2, 1, 7, 8]\n",
        "l3 = list()\n",
        "\n",
        "for v1, v2 in zip(l1,l2):\n",
        "  print('v1 = {} e v2 = {}'.format(v1,v2))\n",
        "  l3.append(v1 + v2)\n",
        "\n",
        "print(l3)\n",
        "\n",
        "#Observe que nesse caso que as listas não possuem o mesmo tamanho, o for irá rodar uma quantidade de passos equivalentes a quantidade de posições da menor lista.\n",
        "\n"
      ],
      "metadata": {
        "colab": {
          "base_uri": "https://localhost:8080/"
        },
        "id": "N94kOVjHCETl",
        "outputId": "4f03fdf8-7050-4df6-b6cf-28307982f745"
      },
      "execution_count": null,
      "outputs": [
        {
          "output_type": "stream",
          "name": "stdout",
          "text": [
            "v1 = 0 e v2 = 3\n",
            "v1 = 2 e v2 = 2\n",
            "v1 = 6 e v2 = 1\n",
            "v1 = 4 e v2 = 7\n",
            "v1 = 8 e v2 = 8\n",
            "[3, 4, 7, 11, 16]\n"
          ]
        }
      ]
    },
    {
      "cell_type": "code",
      "source": [
        "# Exercício 1\n",
        "# dadas a lista e a tupla abaixo\n",
        "#preco = (10.9, 5.40, 8.30, 3.40)\n",
        "#qtdComprada = [0, 3, 2, 4]\n",
        "\n",
        "# Calcule e mostre para o usuário o valor total da compra. \n",
        "#Sendo que o valor total será a soma da multiplicação do preço do produto pela quantidade comprada.\n",
        "\n",
        "preco  = (10.9, 5.40, 8.30, 3.40)\n",
        "qtdComprada = [0, 3, 2, 4]\n",
        "mult = ()\n",
        "qtdComprada1 = []\n",
        "multProd = []\n",
        "soma = 0\n",
        "\n",
        "for i in qtdComprada:\n",
        "  mult = 100 *i\n",
        "  mult /=  100 \n",
        "  print('o valor inicial era {} e agora é {}'.format(i,mult))\n",
        "  qtdComprada1.append(mult)\n",
        "  print(qtdComprada1)\n",
        "\n",
        "for i, val in enumerate(preco):\n",
        "  multProd.append(preco[i] * qtdComprada1[i])\n",
        "  print(multProd)\n",
        "  soma += multProd[i] \n",
        "  print(soma)\n",
        "\n",
        "print('O valor total da compra foi: R$ {:.2f}'.format(soma))\n",
        "\n",
        "\n"
      ],
      "metadata": {
        "id": "Kv_z-aKRD66q",
        "colab": {
          "base_uri": "https://localhost:8080/"
        },
        "outputId": "eca5512f-d558-4a20-b2e4-209e8a87f8f9"
      },
      "execution_count": null,
      "outputs": [
        {
          "output_type": "stream",
          "name": "stdout",
          "text": [
            "o valor inicial era 0 e agora é 0.0\n",
            "[0.0]\n",
            "o valor inicial era 3 e agora é 3.0\n",
            "[0.0, 3.0]\n",
            "o valor inicial era 2 e agora é 2.0\n",
            "[0.0, 3.0, 2.0]\n",
            "o valor inicial era 4 e agora é 4.0\n",
            "[0.0, 3.0, 2.0, 4.0]\n",
            "[0.0]\n",
            "0.0\n",
            "[0.0, 16.200000000000003]\n",
            "16.200000000000003\n",
            "[0.0, 16.200000000000003, 16.6]\n",
            "32.800000000000004\n",
            "[0.0, 16.200000000000003, 16.6, 13.6]\n",
            "46.400000000000006\n",
            "O valor total da compra foi: R$ 46.40\n"
          ]
        }
      ]
    },
    {
      "cell_type": "code",
      "source": [
        "\n",
        "# Exercício 2\n",
        "\n",
        "# Considerando o exercício anterior, e considerando que as posições de listas acima são os preços respectivos de:\n",
        "# Lanche\n",
        "# Refri\n",
        "# Batata \n",
        "# Bombom\n",
        "\n",
        "# Peça para o usuário informar a quantidade de cada produto para depois mostrar o valor total de sua conta.\n",
        "\n",
        "\n",
        "Lanche = 'Lanches'\n",
        "Refri = 'Refrigerantes'\n",
        "Batata = 'Batatas'\n",
        "Bombom = 'Bombons'\n",
        "\n",
        "valorProduto = ()\n",
        "preco = (10.9, 5.40, 8.30, 3.40)\n",
        "produtos = (Lanche, Refri, Batata, Bombom)\n",
        "qtd = []\n",
        "soma = 0\n",
        "\n",
        "for i in range(0,4):\n",
        " qtd.append(float(input('Diga a quantidade de {}  que você deseja:'.format(produtos[i]))))\n",
        " valorProdutos = preco[i] * qtd[i]\n",
        " soma += valorProdutos\n",
        " print(soma)\n",
        "print('O valor total de sua compra é: R$: {:.2f}'.format(soma))\n"
      ],
      "metadata": {
        "id": "rNoPcUfz9MYV",
        "colab": {
          "base_uri": "https://localhost:8080/"
        },
        "outputId": "65624532-45be-4b17-f65d-c34cf148e61c"
      },
      "execution_count": null,
      "outputs": [
        {
          "output_type": "stream",
          "name": "stdout",
          "text": [
            "Diga a quantidade de Lanches  que você deseja:1\n",
            "10.9\n",
            "Diga a quantidade de Refrigerantes  que você deseja:1\n",
            "16.3\n",
            "Diga a quantidade de Batatas  que você deseja:1\n",
            "24.6\n",
            "Diga a quantidade de Bombons  que você deseja:1\n",
            "28.0\n",
            "O valor total de sua compra é: R$: 28.00\n"
          ]
        }
      ]
    },
    {
      "cell_type": "code",
      "source": [
        "# Faça um programa que peça para o usuário insirir um produto e salvar esse produto na lista.\n",
        "\n",
        "# Caso o produto esteja na lista, informe uma mensagem de erro e não cadastre o produto duplicado.\n",
        "\n",
        "produtos = []\n",
        "valor = []\n",
        "continua = 'S'\n",
        "while continua == 'S':\n",
        "  produtos = input('Digito um produto:')\n",
        "  if produtos not in valor:\n",
        "    produtos = valor.append(produtos)\n",
        "    continua = input('Você deseja continuar?(S/N')\n",
        "  elif continua == 'N':\n",
        "    break\n",
        "  else:\n",
        "    print('O ítem já existe na lista. adicione outro.')\n",
        "print(valor)\n",
        "print('Fim.')\n",
        "\n",
        "\n",
        "\n",
        "\n",
        "  \n",
        "\n",
        "\n",
        "  \n",
        "    "
      ],
      "metadata": {
        "id": "h-yHppIMj81K",
        "colab": {
          "base_uri": "https://localhost:8080/"
        },
        "outputId": "753b7259-eaee-42b3-dfb6-31819c6b9c5b"
      },
      "execution_count": null,
      "outputs": [
        {
          "output_type": "stream",
          "name": "stdout",
          "text": [
            "Digito um produto:Arroz\n",
            "Você deseja continuar?(S/NS\n",
            "Digito um produto:Feijão\n",
            "Você deseja continuar?(S/NS\n",
            "Digito um produto:Carne\n",
            "Você deseja continuar?(S/NS\n",
            "Digito um produto:Carne\n",
            "O ítem já existe na lista. adicione outro.\n",
            "Digito um produto:Manjericão\n",
            "Você deseja continuar?(S/NN\n",
            "['Arroz', 'Feijão', 'Carne', 'Manjericão']\n",
            "Fim.\n"
          ]
        }
      ]
    },
    {
      "cell_type": "code",
      "source": [
        "# Listas dentro de listas\n",
        "\n",
        "# As listas aceitam qualquer tipo de dados, até outras listas.\n",
        "\n",
        "# Declarando uma lista composta.\n",
        "\n",
        "# Para declarar uma lista composta é só colocar uma lista dentro de outra.\n",
        "\n",
        "# Entendendo como as listas compostas funcionam.\n",
        "\n",
        "# Imagine que tenhamos um cardápio. O cardápio seria uma lista com todos os produtos\n",
        "# Cada produto será um tipo de comida com seus lanches e preços.\n",
        "\n",
        "# comida1 = ['Lanche',10.9]\n",
        "# comida2 = ['Batata', 5.5]\n",
        "# comida3 = ['Refri' , 3.9]\n",
        "#cardapio = [comida1, comida2, comida3]\n",
        "\n",
        "# Então se acessando os termos temos:\n",
        "# cardapio[0] == comida1 == ['Lanche',10.9]\n",
        "# cardapio[2]== comida3 == ['Refri', 3.9]\n",
        "# cardapio[2][0] == comida3[0] == 'Refri'\n",
        "\n",
        "# Vamos pegar uma lista dentro de outra lista já declarada e vamos entender como funciona acessar seus termos.\n",
        "\n",
        "# Exemplo 1\n",
        "\n",
        "# Dada a lista abaixo:\n",
        "# cardapio = [['lanche', 10.9], ['Batata', 5.5], ['Refri', 3.9]]\n",
        "\n",
        "# Acesse os valores\n",
        "# 1. cardapio[0], cardapio[1], cardapio[2]\n",
        "# 2. cardapio[0][0], cardapio[0][1], cardapio[1][0], cardapio[1][1]\n",
        "\n",
        "# Declarando lista:\n",
        "cardapio = [['lanche', 10.9], ['Batata', 5.5], ['Refri', 3.9]]\n",
        "print(cardapio)\n",
        "\n",
        "# Imprimindo valores \n",
        "print(cardapio[0])\n",
        "print(cardapio[1])\n",
        "print(cardapio[2])\n",
        "print(cardapio[0][0])\n",
        "print(cardapio[0][1])\n",
        "print(cardapio[1][0])\n",
        "print(cardapio[1][1])"
      ],
      "metadata": {
        "colab": {
          "base_uri": "https://localhost:8080/"
        },
        "id": "8IYzbHN3DUhu",
        "outputId": "74e8af2c-910d-4d58-d01d-f48d6d56341a"
      },
      "execution_count": null,
      "outputs": [
        {
          "output_type": "stream",
          "name": "stdout",
          "text": [
            "[['lanche', 10.9], ['Batata', 5.5], ['Refri', 3.9]]\n",
            "['lanche', 10.9]\n",
            "['Batata', 5.5]\n",
            "['Refri', 3.9]\n",
            "lanche\n",
            "10.9\n",
            "Batata\n",
            "5.5\n"
          ]
        }
      ]
    },
    {
      "cell_type": "code",
      "source": [
        "# Imprimindo valores\n",
        "print(f'cardapio[0] = {cardapio[0]}')\n",
        "print(f'cardapio[1] = {cardapio[1]}')\n",
        "print(f'cardapio[2] = {cardapio[2]}')\n",
        "\n",
        "print(f'cardapio[0][0] = {cardapio[0][0]}')\n",
        "print(f'cardapio[0][1] = {cardapio[0][1]}')\n",
        "print(f'cardapio[1][0] = {cardapio[1][0]}')\n",
        "print(f'cardapio[1][1] = {cardapio[1][1]}')\n",
        "\n",
        "# Repare que sempre que estamos acessando valores dentro da lista, o primeiro [] vai acessar as posições mais externas da lista.\n",
        "# O segundo [] vai acessar as posições da lista referente à lista do primeiro [] e assim em diante.\n",
        "\n",
        "# Agora que já entendemos como acessar seus valores, vamos ver como declarar uma lista composta.\n",
        "\n"
      ],
      "metadata": {
        "colab": {
          "base_uri": "https://localhost:8080/"
        },
        "id": "vXp27YCKKPgo",
        "outputId": "dcc8aa92-6d2d-4875-cf3f-3f17172c8215"
      },
      "execution_count": null,
      "outputs": [
        {
          "output_type": "stream",
          "name": "stdout",
          "text": [
            "cardapio[0] = ['lanche', 10.9]\n",
            "cardapio[1] = ['Batata', 5.5]\n",
            "cardapio[2] = ['Refri', 3.9]\n",
            "cardapio[0][0] = lanche\n",
            "cardapio[0][1] = 10.9\n",
            "cardapio[1][0] = Batata\n",
            "cardapio[1][1] = 5.5\n"
          ]
        }
      ]
    },
    {
      "cell_type": "code",
      "source": [
        "# Declarando por partes\n",
        "\n",
        "# Nesse caso, declara-se cada item de dentro da lista principal e depois coloca-se seus valores dentro da lista principal.\n",
        "# Para quem esta começando é a forma mais simples de entender.\n",
        "\n",
        "# Lanche = ['Lanche', 10.9]\n",
        "# Batata = ['Batata', 5.5]\n",
        "# Refri = ['Refri', 3.9]\n",
        "# cardapio = [Lanche, Batata, Refri]\n",
        "\n",
        "# No exemplo acima foram criadas 3 variáveis para armazenar listas com as informações de cada comida.\n",
        "# A seguir essas listas foram colocadas dentro da lista principal: cardapio\n",
        "\n",
        "# Exemplo 2\n",
        "\n",
        "# Declare a lista do xemplo acima\n",
        "# Imprima o valor da posição cardapio[1][0]\n",
        "# Compare os valores : Lanche == cardapio[0]\n",
        "\n",
        "# Declarando a lista de listas:\n",
        "lanche = ['lanche', 10.9]\n",
        "batata = ['batata', 5.5]\n",
        "refri = ['refri', 3.9]\n",
        "cardapio = [lanche, batata, refri]\n",
        "print(cardapio)\n",
        "\n",
        "# Imprimindo valores \n",
        "print(f'cardapio[1][0] = {cardapio[1][0]}')\n",
        "\n",
        "# Comparando os valores\n",
        "print(f'lanche = {lanche} e cardapio[0] = {cardapio[0]}')\n",
        "print(lanche == cardapio[0])"
      ],
      "metadata": {
        "colab": {
          "base_uri": "https://localhost:8080/"
        },
        "id": "I55E1EcxNMn_",
        "outputId": "f1641e9a-b45e-43e6-fc1c-c132e99f236c"
      },
      "execution_count": null,
      "outputs": [
        {
          "output_type": "stream",
          "name": "stdout",
          "text": [
            "[['lanche', 10.9], ['batata', 5.5], ['refri', 3.9]]\n",
            "cardapio[1][0] = batata\n",
            "lanche = ['lanche', 10.9] e cardapio[0] = ['lanche', 10.9]\n",
            "True\n"
          ]
        }
      ]
    },
    {
      "cell_type": "code",
      "source": [
        "# Declaração direta\n",
        "\n",
        "# Nesse caso declara-se tudo de uma só vez.\n",
        "\n",
        "# cardapio = [['lanche', 10.9], ['batata', 5.5], ['refri', 3.9]]\n",
        "\n",
        "# Já neste exemplo, nós temos o [] que é a lista mais externa, no qual cada posição dela irá acessar uma das 3 listas dentro do cardapio.\n",
        "\n",
        "# Os [] mais internos são listas de cada uma das comidas do cardápio, mostrando os nomes e preços de cada item do cardápio.\n",
        "\n",
        "# Exemplo 3\n",
        "\n",
        "# Declare a lista do exemplo acima\n",
        "# Imprima o valor da posição: cardapio[2] e cardapio[2][1]\n",
        "\n",
        "# Declarando variáveis\n",
        "cardapio = [['lanche', 10.9], ['batata', 5.5], ['refri', 3.9]]\n",
        "print(cardapio)\n",
        "\n",
        "#Imprimindo valores\n",
        "print(cardapio[2])\n",
        "print(cardapio[2][1])"
      ],
      "metadata": {
        "colab": {
          "base_uri": "https://localhost:8080/"
        },
        "id": "gc_SjU_Hrb_O",
        "outputId": "e6e3e5c7-268c-4715-8617-b20ce3ad8e6d"
      },
      "execution_count": null,
      "outputs": [
        {
          "output_type": "stream",
          "name": "stdout",
          "text": [
            "[['lanche', 10.9], ['batata', 5.5], ['refri', 3.9]]\n",
            "['refri', 3.9]\n",
            "3.9\n"
          ]
        }
      ]
    },
    {
      "cell_type": "code",
      "source": [
        "# Declaração com .append()\n",
        "\n",
        "# Como vimos nas aulas anteriores, podemos usar o append para inserir um novo item a uma lista.\n",
        "\n",
        "# No caso de uma lista composta, podemos usar o .append() para inserir uma nova lista dentro da lista mais externa.\n",
        "\n",
        "# cardapio = []\n",
        "# comida = []\n",
        "# comida.append('lanche')\n",
        "# comida.append(10.9)\n",
        "# cardapio.append(comida[:])\n",
        "\n",
        "# Verifique que primeiro temos que declarar nossa lista externa cardapio como uma lista vazia.\n",
        "# A seguir crimos uma lista com os itens comida.\n",
        "# Também usamos o .append() para colocarmos esse valor em uma lista externa: cardapio\n",
        "\n",
        "# Exemplo 4\n",
        "# Declare a lista cardapio inteira usando append()\n",
        "#Iprima o valor da posição: cardapio[0] e cardapio[0][1]\n",
        "\n",
        "# Declarando a lista de listas\n",
        "cardapio = []\n",
        "comida = []\n",
        "comida.append('lanche')\n",
        "comida.append(10.9)\n",
        "comida.append('batata')\n",
        "comida.append(5.5)\n",
        "comida.append('refri')\n",
        "comida.append(3.9)\n",
        "cardapio.append(comida)\n",
        "print(cardapio)\n",
        "print(comida)\n",
        "\n",
        "\n",
        "# Imprimindo valores\n",
        "print(f'cardapio[0] = {cardapio[0]} e cardapio[0][1] = {cardapio[0][1]}')"
      ],
      "metadata": {
        "colab": {
          "base_uri": "https://localhost:8080/"
        },
        "id": "9Cl96uU9vVBJ",
        "outputId": "38314d16-1742-4285-d26d-bc3994ed3ac0"
      },
      "execution_count": null,
      "outputs": [
        {
          "output_type": "stream",
          "name": "stdout",
          "text": [
            "[['lanche', 10.9, 'batata', 5.5, 'refri', 3.9]]\n",
            "['lanche', 10.9, 'batata', 5.5, 'refri', 3.9]\n",
            "cardapio[0] = ['lanche', 10.9, 'batata', 5.5, 'refri', 3.9] e cardapio[0][1] = 10.9\n"
          ]
        }
      ]
    },
    {
      "cell_type": "code",
      "source": [
        "# Declarando listas\n",
        "\n",
        "cardapio = []\n",
        "comida = []\n",
        "\n",
        "comida.append('lanche')\n",
        "comida.append(10.9)\n",
        "cardapio.append(comida[:])\n",
        "comida.clear()\n",
        "\n",
        "comida.append('batata')\n",
        "comida.append(5.5)\n",
        "cardapio.append(comida[:])\n",
        "comida.clear()\n",
        "\n",
        "comida.append('Refri')\n",
        "comida.append(3.9)\n",
        "cardapio.append(comida[:])\n",
        "comida.clear()\n",
        "\n",
        "# Imprimindo valores\n",
        "print(cardapio) \n",
        "print(comida)\n",
        "\n",
        "# Observe que tivemos que usar um método novo:\n",
        "\n",
        "# var.clear()\n",
        "\n",
        "# Este método limpa a memória da variável, eliminando todos os valores que existiam dentro dela.\n",
        "# Esse é um método muito útil para quando criamos algumas variáveis temporárias.\n",
        "\n",
        "\n",
        "\n"
      ],
      "metadata": {
        "colab": {
          "base_uri": "https://localhost:8080/"
        },
        "id": "UGCogcDHngWB",
        "outputId": "366ab79a-7905-4ef8-cd17-1aa98853a7f4"
      },
      "execution_count": null,
      "outputs": [
        {
          "output_type": "stream",
          "name": "stdout",
          "text": [
            "[['lanche', 10.9], ['batata', 5.5], ['Refri', 3.9]]\n",
            "[]\n"
          ]
        }
      ]
    },
    {
      "cell_type": "code",
      "source": [
        "# Exercício 1\n",
        "\n",
        "# Usando o método do append() e loops, crie uma lista composta, na qual o usuário irá fornecer os termos.\n",
        "\n",
        "# A lista externa deve ter 3 itens.\n",
        "# A lista interna deve ter 2 itens cada.\n",
        "\n",
        "# Declarando as listas vazias\n",
        "cardapio = []\n",
        "comida = []\n",
        "\n",
        "# Pedindo para o usuário fornecer os valores\n",
        "\n",
        "for c in range(0,3):\n",
        "  comida.append(str(input('Digite o que você quer comer:')))\n",
        "  comida.append(float(input('digite o preço do que você quer comer:')))\n",
        "  cardapio.append(comida[:])\n",
        "  comida.clear()\n",
        "\n",
        "print(cardapio)"
      ],
      "metadata": {
        "colab": {
          "base_uri": "https://localhost:8080/"
        },
        "id": "G28sbB2enZd8",
        "outputId": "4cd1e7f2-dbed-4bd5-df7f-cb1b1a77dfda"
      },
      "execution_count": null,
      "outputs": [
        {
          "output_type": "stream",
          "name": "stdout",
          "text": [
            "Digite o que você quer comer:lanche \n",
            "digite o preço do que você quer comer:10.9\n",
            "Digite o que você quer comer:batata \n",
            "digite o preço do que você quer comer:5.5\n",
            "Digite o que você quer comer:refri\n",
            "digite o preço do que você quer comer:3.9\n",
            "[['lanche ', 10.9], ['batata ', 5.5], ['refri', 3.9]]\n"
          ]
        }
      ]
    },
    {
      "cell_type": "code",
      "source": [
        "# Acessando os valores de uma lista composta\n",
        "\n",
        "# Para acessar os valores de uma lista composta é só usar os [].\n",
        "# Sempre é acessado a lista mais externa para a mais interna.\n",
        "\n",
        "# Acesso direto\n",
        "# Pode acessar as listas, é só colocar a posição da lista desejada no primeiro[]\n",
        "\n",
        "#cardapio[0] == ['lanche', 10.9]\n",
        "#cardapio[1] == ['batata´, 5.5]\n",
        "#cardapio[2] == ['refri', 3.9]\n",
        "\n",
        "# Para acessar os valores dentro das listas, é só colocar a posição do valor da lista desejada no segundo[].\n",
        "\n",
        "#cardapio[0][1] == 10.9\n",
        "#cardapio[1][0] == 'batata'\n",
        "#cardapio[2][0] == 'refri'\n",
        "\n",
        "# Exemplo 5\n",
        "# Dada a lista anterior, cardapio, acesse os valores listados acima.\n",
        "\n",
        "# Acessando as listas:\n",
        "print(cardapio[0])\n",
        "print(cardapio[1])\n",
        "print(cardapio[2])\n",
        "\n",
        "#Acessando os valores dentro da lista.\n",
        "print(cardapio[0][1])\n",
        "print(cardapio[1][0])\n",
        "print(cardapio[2][0])"
      ],
      "metadata": {
        "colab": {
          "base_uri": "https://localhost:8080/"
        },
        "id": "Sq9HJBVb9PLW",
        "outputId": "fe145296-1853-4bf8-8e2b-c26ba080fce8"
      },
      "execution_count": null,
      "outputs": [
        {
          "output_type": "stream",
          "name": "stdout",
          "text": [
            "['lanche ', 10.9]\n",
            "['batata ', 5.5]\n",
            "['refri', 3.9]\n",
            "10.9\n",
            "batata \n",
            "refri\n"
          ]
        }
      ]
    },
    {
      "cell_type": "code",
      "source": [
        "# Acssando os valores dentro de um for\n",
        "\n",
        "# Assim como podemos declarar valores dentro de um looping também podemos acessá-los\n",
        "\n",
        "# for c in cardapio:\n",
        "  # print(f'c = {c}, c[0] = {c[0]}, c[1] - {c[1]}')\n",
        "\n",
        "# Basicamente o funcionamento do for é: Para cada lista c dentro de cardapio, plote a posição [pos] dessa lista.\n",
        "\n",
        "# Exemplo 6\n",
        "# Dada a lista anterior, cardapio, acesse.\n",
        "\n",
        "#Todos os nomes do cardápio\n",
        "#Todos os preços do cardápio.\n",
        "\n",
        "# Imprimindo todas as listas c\n",
        "for c in cardapio:\n",
        "  print(f'c = {c}')\n",
        "\n",
        "#Imprimindo todos os nomes\n",
        "for c in cardapio:\n",
        "  print(f'c[0] = {c[0]}')\n",
        "\n",
        "#Imprimindo todos os preços\n",
        "for c in cardapio:\n",
        "  print(f'c[1] = {c[1]}')"
      ],
      "metadata": {
        "colab": {
          "base_uri": "https://localhost:8080/"
        },
        "id": "n0S9vWgjC3Nv",
        "outputId": "e159e68d-629d-4334-fa40-59123642ed2f"
      },
      "execution_count": null,
      "outputs": [
        {
          "output_type": "stream",
          "name": "stdout",
          "text": [
            "c = ['lanche ', 10.9]\n",
            "c = ['batata ', 5.5]\n",
            "c = ['refri', 3.9]\n",
            "c[0] = lanche \n",
            "c[0] = batata \n",
            "c[0] = refri\n",
            "c[1] = 10.9\n",
            "c[1] = 5.5\n",
            "c[1] = 3.9\n"
          ]
        }
      ]
    },
    {
      "cell_type": "code",
      "source": [
        "# Exercícios\n",
        "\n",
        "# Exercício 1\n",
        "# Dada a lista:\n",
        "\n",
        "# cardapio = ['lanche', 10.9, 'batata', 5.5, 'refri', 3.9]\n",
        "# Faça um programa que irá mostrar o cardápio de forma organizada\n",
        "\n",
        "cardapio = [['lanche', 10.9], ['batata', 5.5], ['refri', 3.9]]\n",
        "print('-'*30, 'Cardápio', '-'*30)\n",
        "print(cardapio)\n",
        "\n",
        "for c in cardapio:\n",
        "  print(f'Menu = {c[0]}------------------------------R$ ={c[1]}')\n",
        "\n",
        "\n",
        "\n",
        "\n",
        "\n",
        "  "
      ],
      "metadata": {
        "colab": {
          "base_uri": "https://localhost:8080/"
        },
        "id": "He5iUvL_ZXEc",
        "outputId": "238555f1-a686-455c-d3e5-1c8c6a340263"
      },
      "execution_count": null,
      "outputs": [
        {
          "output_type": "stream",
          "name": "stdout",
          "text": [
            "------------------------------ Cardápio ------------------------------\n",
            "[['lanche', 10.9], ['batata', 5.5], ['refri', 3.9]]\n",
            "Menu = lanche------------------------------R$ =10.9\n",
            "Menu = batata------------------------------R$ =5.5\n",
            "Menu = refri------------------------------R$ =3.9\n"
          ]
        }
      ]
    },
    {
      "cell_type": "code",
      "source": [
        "# Exercício 2\n",
        "\n",
        "# Faça um programa que irá mostrar ítem a item do cardapio para o usuário.\n",
        "# E irá perguntar quantos daquele ítem a pessoa quer comprar.\n",
        "# No final mostre a quantidade de cada íten e também o valor total da cobrança.\n",
        "\n",
        "cardapio = [['lanche', 10.9], ['batata', 5.5], ['refri', 3.9]]\n",
        "qtd = []\n",
        "soma = 0\n",
        "valorMenu = 0\n",
        "\n",
        "for c in cardapio: \n",
        "  print(f' Menu = {c[0]} --------------------------R$:{c[1]}')\n",
        "  qtd = (float(input(f'Quantos {c[0]} você deseja?')))\n",
        "  preco = c[1]\n",
        "  valorMenu = qtd * preco\n",
        "  soma+= valorMenu\n",
        "  print(valorMenu)\n",
        "\n",
        "print(' O total de seu pedido foi R$ {:.2f}'.format(soma))\n"
      ],
      "metadata": {
        "colab": {
          "base_uri": "https://localhost:8080/"
        },
        "id": "a-PwN0dmtVWu",
        "outputId": "372fbf36-09b9-448f-8785-4629c5f3a89a"
      },
      "execution_count": null,
      "outputs": [
        {
          "output_type": "stream",
          "name": "stdout",
          "text": [
            " Menu = lanche --------------------------R$:10.9\n",
            "Quantos lanche você deseja?1\n",
            "10.9\n",
            " Menu = batata --------------------------R$:5.5\n",
            "Quantos batata você deseja?1\n",
            "5.5\n",
            " Menu = refri --------------------------R$:3.9\n",
            "Quantos refri você deseja?1\n",
            "3.9\n",
            " O total de seu pedido foi R$ 20.30\n"
          ]
        }
      ]
    },
    {
      "cell_type": "code",
      "source": [
        "# Exercício 3\n",
        "# Faça um programa em que o usuário cadastre algumas informações sobre o cliente:\n",
        "#Nome\n",
        "#E-Mail\n",
        "#telefone \n",
        "#Idade\n",
        "# Em seguida faça um sistema de pesquisa onde o usuário digite o E-mail e o sistema mostre todas as informações sobre o usuário.\n",
        "\n",
        "dados = ['Nome', 'E-mail', 'telefone', 'Idade']\n",
        "dados1 =[]\n",
        "\n",
        "for i in range(0,4):\n",
        "  dados1.append(input('Digite o {} do cliente:'.format(dados[i])))\n",
        "\n",
        "Email = input('Digite o E-mail do cliente:')\n",
        "\n",
        "if Email == dados1[1]:\n",
        "  print(dados1)\n",
        "else:\n",
        "  print('Cliente não encontrado.')\n",
        "print('Fim.')\n"
      ],
      "metadata": {
        "colab": {
          "base_uri": "https://localhost:8080/"
        },
        "id": "B9yqrBeF6SrI",
        "outputId": "a54982ee-7ad1-4da8-c4ca-1ad3d298ff7f"
      },
      "execution_count": null,
      "outputs": [
        {
          "output_type": "stream",
          "name": "stdout",
          "text": [
            "Digite o Nome do cliente:Cassiano\n",
            "Digite o E-mail do cliente:ocara@hot.com\n",
            "Digite o telefone do cliente:51 999999999\n",
            "Digite o Idade do cliente:44\n",
            "Digite o E-mail do cliente:ocara@hot.com\n",
            "['Cassiano', 'ocara@hot.com', '51 999999999', '44']\n",
            "Fim.\n"
          ]
        }
      ]
    },
    {
      "cell_type": "code",
      "source": [
        "# Dicionários \n",
        "\n",
        "# Os dicionários são lista com índices txtuais.\n",
        "\n",
        "# Os dicionários são estruturas de dados, semelhantes a listas, que as posições ao invés de números são chaves.\n",
        "\n",
        "# Lista\n",
        "# lista = ['Everton', 29, 'São José']\n",
        "\n",
        "# Dicionários\n",
        "# dicio = {'nome': 'Everton',\n",
        "#          'idade': 29,\n",
        "#          ''cidade': 'São José'}\n",
        "\n",
        "# Exemplo 1\n",
        "# Declare e imprima as duas listas acima exatamente como estão.\n",
        "\n",
        "# Lista:\n",
        "lista = ['Everton', 29, 'São José']\n",
        "\n",
        "#Dicionário equivalente.\n",
        "dicio = {\n",
        "         'nome': 'Everton',\n",
        "         'idade': 29,\n",
        "         'cidade': 'São José'\n",
        "}\n",
        "\n",
        "print(lista)\n",
        "print(dicio)\n",
        "\n",
        "# Comparando os dois resultados vemos que os índices numéricos são substituídos por chaves textuais:\n",
        "\n",
        "#             [0]    [1]      [2]\n",
        "# lista = ['Everton', 29, 'São José']\n",
        "\n",
        "# Então para acessarmos os valores exatos das listas que desejamos, é necessário saber o que cada posição significa, senão faremos análises erradas.\n",
        "\n",
        "# Já no dicionário, fica assim:\n",
        "\n",
        "#          'nome':   'idade':     'cidade':\n",
        "# dicio = ['Everton',   29,      'São José']\n",
        "\n",
        "# Muito similar às colunas de uma tabela ou banco de dados.\n",
        "\n"
      ],
      "metadata": {
        "colab": {
          "base_uri": "https://localhost:8080/"
        },
        "id": "K-mBqdho6KbU",
        "outputId": "2889258e-e2ba-43d5-d861-02b804939eb9"
      },
      "execution_count": null,
      "outputs": [
        {
          "output_type": "stream",
          "name": "stdout",
          "text": [
            "['Everton', 29, 'São José']\n",
            "{'nome': 'Everton', 'idade': 29, 'cidade': 'São José'}\n"
          ]
        }
      ]
    },
    {
      "cell_type": "code",
      "source": [
        "# Estruturas de um Dicionário.\n",
        "\n",
        "# A estrutura de um dicionário é baseada em 3 pontos importantes: keyz, values, items\n",
        "\n",
        "# Vamos observar novamente o dicionário de exemplo:\n",
        "\n",
        "#          'keys': 'values'\n",
        "# dicio = {\n",
        "#           'nome': 'Everton',  -> items \n",
        "#          'idade': 29,\n",
        "#          ''cidade': 'São José'\n",
        "#}\n",
        "\n",
        "# As keys são as chaves, o que substituem as posições de uma lista. Quando quisermos acessar um valor de um dicionário é \n",
        "# dessa chave que temos que lembrar. Assim como em um banco e dados são as colunas que vamos acessar se precisarmos saber \n",
        "# os nomes.\n",
        "\n",
        "# Os values são os valores, equivalente aos valores dentro de uma lista. São as informações importantes do objeto que \n",
        "# queremos acessar e fazer análises.\n",
        "\n",
        "# Os items são os conjuntos de key + value, uma novidade dos dicionários que irão nos ajudar nos loopings.\n",
        "\n",
        "# Manipulando um dicionário\n",
        "\n",
        "# Declarando um dicionário\n",
        "# Todo dicionário é declarado pelas {}\n",
        "\n",
        "# Declarando um dicionário vazio:\n",
        "#   dic1 = {}\n",
        "#   dic2 = dict()\n",
        "\n",
        "# Declarando um dicionário já preenchido:\n",
        "# Dic3 = {\n",
        "#        'key1': 'value1',\n",
        "#        'key2': 'value2',\n",
        "#        'key3': 'value3' \n",
        "# }   \n",
        "\n",
        "# Pontos de atenção na declaração\n",
        "\n",
        "# Todas as keys são strings, e portanto devem estar entre aspas.\n",
        "# Os values podem ser qualquer tipo de dado e/ou estrutura: str, int, float, bool, list, tuple, dict\n",
        "# A declaração direta de valor para uma chave é sempre feita com :\n",
        "# Embora não seja necessário, é comum declarar um dicionário dando 'enter' entre cada chave para ficar visualmente mais fácil de ler.\n",
        "\n",
        "# Exemplo 2 \n",
        "# Imprima os 3 dicionários acima e veja se você declarou corretamente.\n",
        "\n",
        "# Declarando dicionários\n",
        "dic1 = {}\n",
        "dic2 = dict()\n",
        "dic3 = {\n",
        "      'key1': 'value1',\n",
        "      'key2': 38.5,\n",
        "      'key3': True,\n",
        "      'key4': [0, 1]\n",
        "}\n",
        "\n",
        "# Imprimindo\n",
        "print(dic1)\n",
        "print(dic2)\n",
        "print(dic3)\n",
        "\n",
        "# Assim como nas listas, a declaração de dicionários vazios são ótimos para quando os valores do dicionário precisam \n",
        "# ser declarado pelo usuário ou lidos de uma fonte externa.\n",
        "\n",
        "# Acessando valores \n",
        "# dicio['key'] == value\n",
        "\n",
        "# Acessar os valores de um dicionário é muito similar a acessar os valores de uma lista. Só que no lugar da posição usamos as chaves.\n",
        "\n",
        "# Exemplo 3 \n",
        "# Dado o dicionário abaixo, acesse cada um de seus valores \n",
        "\n",
        "\n"
      ],
      "metadata": {
        "colab": {
          "base_uri": "https://localhost:8080/"
        },
        "id": "T3KvgERfAjkc",
        "outputId": "45c4057e-b1e1-4076-8844-e41b57ab2e08"
      },
      "execution_count": null,
      "outputs": [
        {
          "output_type": "stream",
          "name": "stdout",
          "text": [
            "{}\n",
            "{}\n",
            "{'key1': 'value1', 'key2': 38.5, 'key3': True, 'key4': [0, 1]}\n"
          ]
        }
      ]
    },
    {
      "cell_type": "code",
      "source": [
        "# Dicionários \n",
        "\n",
        "# Os dicionários são lista com índices txtuais.\n",
        "\n",
        "# Os dicionários são estruturas de dados, semelhantes a listas, que as posições ao invés de números são chaves.\n",
        "\n",
        "# Lista\n",
        "# lista = ['Everton', 29, 'São José']\n",
        "\n",
        "# Dicionários\n",
        "# dicio = {'nome': 'Everton',\n",
        "#          'idade': 29,\n",
        "#          ''cidade': 'São José'}\n",
        "\n",
        "# Exemplo 1\n",
        "# Declare e imprima as duas listas acima exatamente como estão.\n",
        "\n",
        "# Lista:\n",
        "lista = ['Everton', 29, 'São José']\n",
        "\n",
        "#Dicionário equivalente.\n",
        "dicio = {\n",
        "         'nome': 'Everton',\n",
        "         'idade': 29,\n",
        "         'cidade': 'São José'\n",
        "}\n",
        "\n",
        "print(lista)\n",
        "print(dicio)\n",
        "\n",
        "# Comparando os dois resultados vemos que os índices numéricos são substituídos por chaves textuais:\n",
        "\n",
        "#             [0]    [1]      [2]\n",
        "# lista = ['Everton', 29, 'São José']\n",
        "\n",
        "# Então para acessarmos os valores exatos das listas que desejamos, é necessário saber o que cada posição significa, senão faremos análises erradas.\n",
        "\n",
        "# Já no dicionário, fica assim:\n",
        "\n",
        "#          'nome':   'idade':     'cidade':\n",
        "# dicio = ['Everton',   29,      'São José']\n",
        "\n",
        "# Muito similar às colunas de uma tabela ou banco de dados.\n",
        "\n"
      ],
      "metadata": {
        "colab": {
          "base_uri": "https://localhost:8080/"
        },
        "outputId": "00869417-e20a-4c7a-e1e7-a55cfdc954aa",
        "id": "6pS2JarHNGN7"
      },
      "execution_count": null,
      "outputs": [
        {
          "output_type": "stream",
          "name": "stdout",
          "text": [
            "['Everton', 29, 'São José']\n",
            "{'nome': 'Everton', 'idade': 29, 'cidade': 'São José'}\n"
          ]
        }
      ]
    },
    {
      "cell_type": "code",
      "source": [
        "# Exemplo 3 \n",
        "# Dado o dicionário abaixo, acesse cada um de seus valores \n",
        "\n",
        "# pessoa = {\n",
        "#          'nome': 'Everton',\n",
        "#          'idade': 29,\n",
        "#          'cidade': 'São José'\n",
        "#}\n",
        "\n",
        "# Declarando dicionário:\n",
        "pessoa = {\n",
        "        'nome': 'Everton',\n",
        "        'idade': 29,\n",
        "        'cidade': 'São José'\n",
        "}\n",
        "\n",
        "# Acessando os valores\n",
        "print(pessoa['nome'])\n",
        "print(pessoa['idade'])\n",
        "print(pessoa['cidade'])"
      ],
      "metadata": {
        "colab": {
          "base_uri": "https://localhost:8080/"
        },
        "id": "94iai71VKko6",
        "outputId": "aa4f9601-a8a8-4fd6-fd86-92f05891cc13"
      },
      "execution_count": null,
      "outputs": [
        {
          "output_type": "stream",
          "name": "stdout",
          "text": [
            "Everton\n",
            "29\n",
            "São José\n"
          ]
        }
      ]
    },
    {
      "cell_type": "code",
      "source": [
        "# Modificando valores \n",
        "\n",
        "#dicio['key'] = value\n",
        "# Similar às listas, se atribuirmos valor a uma posição/chave, já modificamos o valor da chave do dicionário.\n",
        "\n",
        "# Exemplo 4\n",
        "# Usando o mesmo dicionário:'pessoa', modifique a chave 'cidade' para 'São Paulo' e imprima o resultado.\n",
        "\n",
        "# Modificando o valor:\n",
        "pessoa['cidade'] = 'São Paulo'\n",
        "\n",
        "# Imprimindo valores:\n",
        "print(pessoa)\n",
        "print(pessoa['cidade'])"
      ],
      "metadata": {
        "colab": {
          "base_uri": "https://localhost:8080/"
        },
        "id": "9lwSUzjpPzA0",
        "outputId": "cb11a942-9134-410b-cce9-526875ed3a9e"
      },
      "execution_count": null,
      "outputs": [
        {
          "output_type": "stream",
          "name": "stdout",
          "text": [
            "{'nome': 'Everton', 'idade': 29, 'cidade': 'São Paulo'}\n",
            "São Paulo\n"
          ]
        }
      ]
    },
    {
      "cell_type": "code",
      "source": [
        "# Criando uma nova chave\n",
        "# dicio['key'] = value\n",
        "\n",
        "# Para criar uma nova chave é exatamente igual a modificar uma chave. A partir do momento que atribuímos um valor, o Python verifica\n",
        "# se aquela chave já existe no dicionário. Caso não exista ela cria uma nova automaticamente.\n",
        "\n",
        "# Exemplo 5\n",
        "# Usando o mesmo dicionário pessoa, crie uma chave 'peso' com valor de 65 e imprima o resultado.\n",
        "\n",
        "# Criando uma chave\n",
        "pessoa['peso'] = 65\n",
        "\n",
        "# Imprimindo valores \n",
        "print(pessoa)\n",
        "print(pessoa['peso'])\n",
        "\n",
        "# Cuidado na declaração de novas chaves\n",
        "\n",
        "# O Python é case sensitive, se você tentar modificar o valor de uma chave, mas não colocar o nome da chave exatamente igual, será criada uma nova chave.\n",
        "# Sempre teste seus programas conforme for codando.\n",
        "\n"
      ],
      "metadata": {
        "colab": {
          "base_uri": "https://localhost:8080/"
        },
        "id": "h5SNMOEMZpD6",
        "outputId": "8376b43e-4071-4c47-f9d6-e190b20c1ef0"
      },
      "execution_count": null,
      "outputs": [
        {
          "output_type": "stream",
          "name": "stdout",
          "text": [
            "{'nome': 'Everton', 'idade': 29, 'cidade': 'São José', 'peso': 65}\n",
            "65\n"
          ]
        }
      ]
    },
    {
      "cell_type": "code",
      "source": [
        "# Exemplo 6\n",
        "# Usando o mesmo dicionário: pessoa, crie uma chave Cidade com o valor de 'São José' e imrpima o dicionário completo.\n",
        "\n",
        "# Criando uma chave\n",
        "pessoa['Cidade'] = 'São José'\n",
        "\n",
        "# Imprimindo valores\n",
        "print(pessoa)\n",
        "\n",
        "# Repare que agora temos duas chaves similares. Siga sempre o mesmo padrão de criação de nome de variáveis, listas, chaves, dicionários, etc.\n",
        "# Reduza esse risco\n",
        "# Sempre analise as atuais chaves de um objeto antes de editá - lo de qualquer maneira.\n"
      ],
      "metadata": {
        "colab": {
          "base_uri": "https://localhost:8080/"
        },
        "id": "I2DwZom9dNMx",
        "outputId": "1ab0c404-3524-4cda-b58b-26b436323749"
      },
      "execution_count": null,
      "outputs": [
        {
          "output_type": "stream",
          "name": "stdout",
          "text": [
            "{'nome': 'Everton', 'idade': 29, 'cidade': 'São Paulo', 'peso': 65, 'Cidade': 'São José'}\n"
          ]
        }
      ]
    },
    {
      "cell_type": "code",
      "source": [
        "# Deletando uma chave com seu valor\n",
        "# del dicio['chave']\n",
        "\n",
        "# Muito similar ao que fazíamos em listas, podemos usar o comando del.\n",
        "\n",
        "# Exemplo 7\n",
        "# Usando o mesmo dicionário pessoa, delete a chave Cidade e imprima o dicionário completo.\n",
        "\n",
        "# Deletando uma chave\n",
        "del pessoa['Cidade']\n",
        "\n",
        "# Imprimindo valores\n",
        "print(pessoa)"
      ],
      "metadata": {
        "colab": {
          "base_uri": "https://localhost:8080/"
        },
        "id": "5-VfPn9CgqBs",
        "outputId": "e07a4650-ba24-4652-8ced-01db824e30b9"
      },
      "execution_count": null,
      "outputs": [
        {
          "output_type": "stream",
          "name": "stdout",
          "text": [
            "{'nome': 'Everton', 'idade': 29, 'cidade': 'São Paulo', 'peso': 65}\n"
          ]
        }
      ]
    },
    {
      "cell_type": "code",
      "source": [
        "# Acessando o dicionário\n",
        "\n",
        "# dicio    dicionário completo\n",
        "# dicio.values()   somente os valores do dicionário\n",
        "# dicio.keys()    somente as chaves do dicionário\n",
        "# dicio.items()    chaves e valores de dicionário (usado em looping)\n",
        "\n",
        "# Como visto anteriormente, os dicionários possuem 3 itens principais, e usaremos eles para acessar parâmetros específicos dos dicionários.\n",
        "\n",
        "# Exemplo 8\n",
        "\n",
        "# Usando o mesmo dicionário: pessoa, imprima cada um dos itens acima\n",
        "\n",
        "# Imprimindo valores \n",
        "print(pessoa)\n",
        "print(pessoa.values())\n",
        "print(pessoa.keys())\n",
        "print(pessoa.items())\n",
        "\n",
        "# Repare que os 3 itens acabam ficando perecidos com uma lista. Se usarmos o comando list() podemos até converter cada um desses\n",
        "# itens em listas para trabalharmos de outras maneiras.\n",
        "\n"
      ],
      "metadata": {
        "colab": {
          "base_uri": "https://localhost:8080/"
        },
        "id": "bvfmXIA4iN6M",
        "outputId": "dd2ca8cc-4ee9-40a8-a489-8684274da2d9"
      },
      "execution_count": null,
      "outputs": [
        {
          "output_type": "stream",
          "name": "stdout",
          "text": [
            "{'nome': 'Everton', 'idade': 29, 'cidade': 'São Paulo', 'peso': 65}\n",
            "dict_values(['Everton', 29, 'São Paulo', 65])\n",
            "dict_keys(['nome', 'idade', 'cidade', 'peso'])\n",
            "dict_items([('nome', 'Everton'), ('idade', 29), ('cidade', 'São Paulo'), ('peso', 65)])\n"
          ]
        }
      ]
    },
    {
      "cell_type": "code",
      "source": [
        "# Dicionário dentro do for\n",
        "# É comum utilizarmos os dicionários dentro do loopings para fazermos as análises. E para isso faremos uso dos 3 itens vistos acima:\n",
        "# values, keys e items\n",
        "\n",
        "# Acessando os valores \n",
        "\n",
        "# for v in dicio.values():\n",
        "#   print(v)\n",
        "\n",
        "# Acima entende-se. Para cada valor dentro dos valores do dicionário, imprima o valor.\n",
        "\n",
        "# Exemplo 9\n",
        "# Considerando o dicionário pessoa imprima cada um de seus valores.\n",
        "\n",
        "# Imprimindo valores\n",
        "for v in pessoa.values():\n",
        "  print(v)"
      ],
      "metadata": {
        "colab": {
          "base_uri": "https://localhost:8080/"
        },
        "id": "XnHRg4E7q-JT",
        "outputId": "847ce39b-3017-488d-9334-a0418f19901f"
      },
      "execution_count": null,
      "outputs": [
        {
          "output_type": "stream",
          "name": "stdout",
          "text": [
            "Everton\n",
            "29\n",
            "São Paulo\n",
            "65\n"
          ]
        }
      ]
    },
    {
      "cell_type": "code",
      "source": [
        "for v in pessoa.values():\n",
        "  print(f' O valor é:{v}')"
      ],
      "metadata": {
        "colab": {
          "base_uri": "https://localhost:8080/"
        },
        "id": "8rh_M37ItUFq",
        "outputId": "1f3c01e8-2fb3-423f-fe25-e5bad77f9657"
      },
      "execution_count": null,
      "outputs": [
        {
          "output_type": "stream",
          "name": "stdout",
          "text": [
            " O valor é:Everton\n",
            " O valor é:29\n",
            " O valor é:São Paulo\n",
            " O valor é:65\n"
          ]
        }
      ]
    },
    {
      "cell_type": "code",
      "source": [
        "# Acessando chaves\n",
        "# for k in dicio.kays():\n",
        "#   print(k)\n",
        "\n",
        "# Acima entende-se: Para cada chave dentro da chave dicionário, imprima chave.\n",
        "\n",
        "# Exemplo 10\n",
        "# Considerando o dicionário pessoa imprima cada um de suas chaves.\n",
        "\n",
        "# imprimindo chaves\n",
        "for k in pessoa.keys():\n",
        "  print(k)\n"
      ],
      "metadata": {
        "colab": {
          "base_uri": "https://localhost:8080/"
        },
        "id": "-777uN_ftr3x",
        "outputId": "b83a1aa4-dc20-41a4-8f5e-d1ccca5bfed4"
      },
      "execution_count": null,
      "outputs": [
        {
          "output_type": "stream",
          "name": "stdout",
          "text": [
            "nome\n",
            "idade\n",
            "cidade\n",
            "peso\n"
          ]
        }
      ]
    },
    {
      "cell_type": "code",
      "source": [
        "for k in pessoa.keys():\n",
        "  print(f'A chave é:{k}')"
      ],
      "metadata": {
        "colab": {
          "base_uri": "https://localhost:8080/"
        },
        "id": "OvhU0nc2uqj4",
        "outputId": "0f371816-2a84-442e-eec3-587a15aa7247"
      },
      "execution_count": null,
      "outputs": [
        {
          "output_type": "stream",
          "name": "stdout",
          "text": [
            "A chave é:nome\n",
            "A chave é:idade\n",
            "A chave é:cidade\n",
            "A chave é:peso\n"
          ]
        }
      ]
    },
    {
      "cell_type": "code",
      "source": [
        "# Acessando items\n",
        "# for k, v in dicio.items():\n",
        "#   print(k,v)\n",
        "\n",
        "# Acima entende-se: para cada chave e valor dentro dos itens do dicionário, imprima chave e valor.\n",
        "\n",
        "# Exemplo 11 \n",
        "# Considerando o dicionário pessoa imprima cada uma de suas chaves e respectivos valores.\n",
        "\n",
        "# Imprima chaves e valores \n",
        "for k, v in pessoa.items():\n",
        "  print(k,v)\n",
        "  "
      ],
      "metadata": {
        "colab": {
          "base_uri": "https://localhost:8080/"
        },
        "id": "b2o9-137Hfo5",
        "outputId": "90e85cd9-5f08-4753-8735-64273c2a419a"
      },
      "execution_count": null,
      "outputs": [
        {
          "output_type": "stream",
          "name": "stdout",
          "text": [
            "nome Everton\n",
            "idade 29\n",
            "cidade São José\n",
            "peso 65\n"
          ]
        }
      ]
    },
    {
      "cell_type": "code",
      "source": [
        "for k, v in pessoa.items():\n",
        "  print(f'O(A) {k} é: {v}')"
      ],
      "metadata": {
        "colab": {
          "base_uri": "https://localhost:8080/"
        },
        "id": "PeLR1ugqKJLY",
        "outputId": "11665b3c-5a07-40c6-fd78-959c9d23d4de"
      },
      "execution_count": null,
      "outputs": [
        {
          "output_type": "stream",
          "name": "stdout",
          "text": [
            "O(A) nome é: Everton\n",
            "O(A) idade é: 29\n",
            "O(A) cidade é: São José\n",
            "O(A) peso é: 65\n"
          ]
        }
      ]
    },
    {
      "cell_type": "code",
      "source": [
        "# Exercício 1\n",
        "# Dado o dicionário abaixo:\n",
        "\n",
        "# cardapio = {\n",
        "#             'lanche' = 10.9,\n",
        "#             'batata' = 5.5,\n",
        "#             'refri' = 3.9              \n",
        "#}\n",
        "\n",
        "# Mostre o cardapio para o usuário \n",
        "# Pergunte quantos itens ele quer de cada\n",
        "# Calcule e mostre o valor total da compra\n",
        "\n",
        "# Declarando dicionário:\n",
        "cardapio = {'lanche': 10.9,\n",
        "            'batata': 5.5,\n",
        "            'refri' : 3.9}\n",
        "\n",
        "# Mostrando cardápio:\n",
        "print('-'*40)\n",
        "print('-'*15, 'CARDÁPIO', '-'*15)\n",
        "\n",
        "for k, v in cardapio.items():\n",
        "  print(f'{k:.<20} R$ {v:5.2f}')\n",
        "print('-'*40)\n",
        "# Pergunte quantos de cada\n",
        "qtd = {}\n",
        "for k in cardapio.keys():\n",
        "  qtd[k] = int(input(f'Quantos(as) {k}(s) você deseja?'))\n",
        "print('-'*40)\n",
        "\n",
        "# Calcule o valor total da compra\n",
        "soma = 0\n",
        "for v1, v2 in zip(cardapio.values(), qtd.values()):\n",
        "  soma+= v1 * v2\n",
        "\n",
        "# Imprimindo recibo\n",
        "print('-'*40)\n",
        "print('-'*15, ' RECIBO ', '-'*15)\n",
        "for k, v in qtd.items():\n",
        "  print(f'{v} - {k:.<20} = R${v * cardapio[k]:5.2f}')\n",
        "\n",
        "print('-'*34)\n",
        "print(f'       O valor total é de: R${soma:.2f}')"
      ],
      "metadata": {
        "colab": {
          "base_uri": "https://localhost:8080/"
        },
        "id": "dDrSXxPxKjzl",
        "outputId": "ff5ef782-dce4-4f4f-a33c-faf379530997"
      },
      "execution_count": null,
      "outputs": [
        {
          "output_type": "stream",
          "name": "stdout",
          "text": [
            "----------------------------------------\n",
            "--------------- CARDÁPIO ---------------\n",
            "lanche.............. R$ 10.90\n",
            "batata.............. R$  5.50\n",
            "refri............... R$  3.90\n",
            "----------------------------------------\n",
            "Quantos(as) lanche(s) você deseja?1\n",
            "Quantos(as) batata(s) você deseja?2\n",
            "Quantos(as) refri(s) você deseja?3\n",
            "----------------------------------------\n",
            "----------------------------------------\n",
            "---------------  RECIBO  ---------------\n",
            "1 - lanche.............. = R$10.90\n",
            "2 - batata.............. = R$11.00\n",
            "3 - refri............... = R$11.70\n",
            "----------------------------------\n",
            "       O valor total é de: R$33.60\n"
          ]
        }
      ]
    },
    {
      "cell_type": "code",
      "source": [
        "# Dicionário dentro de listas \n",
        "\n",
        "# Os dicionários são como colunas de uma tabela, as listas são como suas linhas, formando uma tabela completa.\n",
        "\n",
        "# Estrutura\n",
        "\n",
        "# Imaginando uma tabela temos: \n",
        "\n",
        "# linhas        'key1'          'key2'           'key3':\n",
        "#  [0]          valor11         valor12          valor13\n",
        "#  [1]          valor21         valor22          valor23\n",
        "#  [2]          valor31         valor32          valor33\n",
        "\n",
        "# Imaginando que cada linha é uma lista, temos:\n",
        "\n",
        "# lista1 = [value11, value12, value13]\n",
        "# lista2 = [value21, value22, value23]\n",
        "# lista3 = [value31, value32, value33]\n",
        "\n",
        "# Colocando cada valor e sua respectiva chave dentro do dicionário, tems:\n",
        "\n",
        "# lista[0] = ['key1': value11, 'key2': value21, 'key3':value31]\n",
        "# lista[1] = ['key1': value21, 'key2': value22, 'key3':value32]\n",
        "# lista[3] = ['key1': value31, 'key2': value23, 'key3':value33]\n",
        "\n",
        "# Exemplo 12\n",
        "\n",
        "# Dada a lista de dicionário abaixo:\n",
        "\n",
        "# pessoas = [\n",
        "#           {'nome': 'Everton', 'idade':29, 'cidade': 'São José'},\n",
        "#           {'nome': 'Thiago', 'idade':34, 'cidade': 'São Paulo'},\n",
        "#           {'nome': 'André',  'idade':22, 'cidade': 'Lorena'}\n",
        "#]\n",
        "\n",
        "# Faça:\n",
        "#Imprima cada posição da list sem usar o for.\n",
        "# Imprima o nome da pessoa 1, a idade da pessoa 2, e a cidade da pessoa 3.\n",
        "\n",
        "# Copiando a lista de dicionário\n",
        "pessoas = [ \n",
        "           {'nome': 'Everton', 'idade':29, 'cidade': 'São José'},\n",
        "           {'nome': 'Thiago', 'idade': 34, 'cidade': 'São Paulo'},\n",
        "           {'nome': 'André', 'idade': 22, 'cidade': 'Lorena'}\n",
        "]\n",
        "\n",
        "# Imprimindo cada lista\n",
        "print(pessoas[0])\n",
        "print(pessoas[1])\n",
        "print(pessoas[2])\n",
        "\n",
        "# Imprimindo o nome da pessoa 1\n",
        "print(pessoas[0]['nome'])\n",
        "\n",
        "# Imprimindo a idade da pessoa 2\n",
        "print(pessoas[1]['idade'])\n",
        "\n",
        "# Imprimindo a cidade da pessoa 3\n",
        "print(pessoas[2]['cidade'])"
      ],
      "metadata": {
        "colab": {
          "base_uri": "https://localhost:8080/"
        },
        "id": "BIczVjE6ffkM",
        "outputId": "4d073411-626b-4975-d1c2-bda9ff265dcf"
      },
      "execution_count": null,
      "outputs": [
        {
          "output_type": "stream",
          "name": "stdout",
          "text": [
            "{'nome': 'Everton', 'idade': 29, 'cidade': 'São José'}\n",
            "{'nome': 'Thiago', 'idade': 34, 'cidade': 'São Paulo'}\n",
            "{'nome': 'André', 'idade': 22, 'cidade': 'Lorena'}\n",
            "Everton\n",
            "34\n",
            "Lorena\n"
          ]
        }
      ]
    },
    {
      "cell_type": "code",
      "source": [
        "# For dentro do For\n",
        "\n",
        "# Quando temos listas ou dicionários aninhados, é comum precisarmos rodar for dentro de for para acessar os valores que precisamos.\n",
        "# Um for para cada nível de aninhamento.\n",
        "\n",
        "# Estrutura\n",
        "# for l in listas:\n",
        "#   print(l)\n",
        "#   for k, v in l.items():\n",
        "#     print(k, v)\n",
        "\n",
        "# Lê-se:\n",
        "# Para cada lista (dentro de listas) imrpima lista.\n",
        "# Para cada item da lista selecionada imprima chave e valor.\n",
        "\n",
        "# Exemplo 13 \n",
        "# Dada a lista: pessoas. Execute a estrutura acima.\n",
        "\n",
        "# montando o for\n",
        "for p in pessoas:\n",
        "  print(f'Dados da pessoa:{p}')\n",
        "  for k,v  in p.items():\n",
        "    print(f' A Chave {k} é: {v}')\n",
        "\n",
        "  \n",
        "\n",
        "\n"
      ],
      "metadata": {
        "colab": {
          "base_uri": "https://localhost:8080/"
        },
        "id": "llFxvpy8uF2G",
        "outputId": "fee48ca0-ceec-495e-a83e-caf9a62ff031"
      },
      "execution_count": null,
      "outputs": [
        {
          "output_type": "stream",
          "name": "stdout",
          "text": [
            "Dados da pessoa:{'nome': 'Everton', 'idade': 29, 'cidade': 'São José'}\n",
            " A Chave nome é: Everton\n",
            " A Chave idade é: 29\n",
            " A Chave cidade é: São José\n",
            "Dados da pessoa:{'nome': 'Thiago', 'idade': 34, 'cidade': 'São Paulo'}\n",
            " A Chave nome é: Thiago\n",
            " A Chave idade é: 34\n",
            " A Chave cidade é: São Paulo\n",
            "Dados da pessoa:{'nome': 'André', 'idade': 22, 'cidade': 'Lorena'}\n",
            " A Chave nome é: André\n",
            " A Chave idade é: 22\n",
            " A Chave cidade é: Lorena\n"
          ]
        }
      ]
    },
    {
      "cell_type": "code",
      "source": [
        "# Exercício 2\n",
        "# Dada essa mesma lista de pessoas \n",
        "# Imprima somente os nomes da seguinte forma:\n",
        "# O Nome da pessoa [1] é:'valor'\n",
        "\n",
        "# Imprima a cidade das pessoas com menos de 30 anos.\n",
        "# A pessoa[N] tem [idade] anos e o nome dela é [nome] e mora em [cidade]\n",
        "\n",
        "# Imprimir somente os nomes\n",
        "\n",
        "for i, p in enumerate(pessoas):\n",
        "  print(f\" O nome da pessoa {i+1} é {p['nome']}\")\n"
      ],
      "metadata": {
        "colab": {
          "base_uri": "https://localhost:8080/"
        },
        "id": "ada8P0qtz71z",
        "outputId": "fbd53e6a-a090-4a44-e9d7-6d6cd34220aa"
      },
      "execution_count": null,
      "outputs": [
        {
          "output_type": "stream",
          "name": "stdout",
          "text": [
            " O nome da pessoa 1 é Everton\n",
            " O nome da pessoa 2 é Thiago\n",
            " O nome da pessoa 3 é André\n"
          ]
        }
      ]
    },
    {
      "cell_type": "code",
      "source": [
        "# Imprimindo os dados de pessoas com menos de 30 anos:\n",
        "for i, p in enumerate(pessoas):\n",
        "  for k,v in p.items():\n",
        "    if k == 'idade' and v < 30:\n",
        "      print(f\" A pessoa {i+1} tem {p['idade']} anos e o nome dela é {p['nome']} e mora em {p['cidade']}\")\n"
      ],
      "metadata": {
        "colab": {
          "base_uri": "https://localhost:8080/"
        },
        "id": "nyhLxQf84lgl",
        "outputId": "a10e0673-837a-45b1-ecb4-01618fc7d000"
      },
      "execution_count": null,
      "outputs": [
        {
          "output_type": "stream",
          "name": "stdout",
          "text": [
            " A pessoa 1 tem 29 anos e o nome dela é Everton e mora em São José\n",
            " A pessoa 3 tem 22 anos e o nome dela é André e mora em Lorena\n"
          ]
        }
      ]
    },
    {
      "cell_type": "code",
      "source": [
        "# Copiando dicionários para listas \n",
        "\n",
        "# Quando queremos inserir um dicionário dentro de uma lista, não podemos usar o método do fatiamento para fazer a cópia da lista temporária,\n",
        "# então faremos:\n",
        "\n",
        "# lista.append(dicionario.copy())\n",
        "\n",
        "# Estrutura\n",
        "\n",
        "# dicio - {}\n",
        "# lista - []\n",
        "# for d in rage(ini,fim):\n",
        "#   dicio['key1'] = input('valor1 = ')\n",
        "#   dicio['key2'] = input('valor2 = ')\n",
        "#   lista.append(dicio.copy())\n",
        "\n",
        "# Assim como nas listas, começamos valores imputados pelo usuário em um dicionário temporário e a seguir copiamos para a lista.\n",
        "\n",
        "# Não podemos usar lista.append(dicio) pois assim iríamos acionar a lista.\n",
        "# Não podemos usar lista.append(dicio[:]) pois os dicionários não aceitam append.\n",
        "\n",
        "# Exemplo 14\n",
        "# Faça um sistema que pergunte e salve em lista de dicionários o nome e a idade de pessoas. Pergunte ao usuário quando ele quer parar.\n",
        "\n",
        "# Declarando lista e dicio vazios \n",
        "temp = {}\n",
        "pessoas = []\n",
        "\n",
        "while True:\n",
        "  temp['nome'] = str(input('Fale um nome:'))\n",
        "  temp['idade'] = int(input('fale uma idade:'))\n",
        "  controle = str(input('Você quer continuar?(S/N'))\n",
        "  pessoas.append(temp.copy())\n",
        "  if controle == 'N':\n",
        "    break\n",
        "\n",
        "print(pessoas)"
      ],
      "metadata": {
        "colab": {
          "base_uri": "https://localhost:8080/"
        },
        "id": "uFzT64KznrXU",
        "outputId": "441e26de-7226-47ff-d8aa-c2e1a12ff8da"
      },
      "execution_count": null,
      "outputs": [
        {
          "name": "stdout",
          "output_type": "stream",
          "text": [
            "Fale um nome:Cassiano\n",
            "fale uma idade:44\n",
            "Você quer continuar?(S/NS\n"
          ]
        }
      ]
    },
    {
      "cell_type": "code",
      "source": [
        "# Exercício 1\n",
        "# Crie uma lista de dicionários contendo as notas de todos os alunos de uma sala(5 alunos).\n",
        "# No dicionário é para ter os campos:\n",
        "# Nome, nota1, nota2, média, status\n",
        "\n",
        "# Peça para o usuário digitar as notas de cada aluno\n",
        "# Tire a média de notas e adicione no dicionário\n",
        "# Se a média for igual ou maior que 7 coloque 'aprovado. Caso contrário, reprovado.\n",
        "# Calcule a média das médias e calcule para o professor\n",
        "\n",
        "\n",
        "alunos = {}\n",
        "dados = []\n",
        "media = 0\n",
        "soma = 0\n",
        "status = 0\n",
        "\n",
        "for i in range(1,6):\n",
        "  alunos['nome'] = str(input('Digite o nome do aluno:'))\n",
        "  alunos['nota1'] = float(input('Digite a primeira nota do aluno:'))\n",
        "  alunos['nota2'] = float(input('Digite a sgunda nota do aluno:'))\n",
        "  soma = alunos['nota1'] + alunos['nota2'] \n",
        "  media = soma/2\n",
        "  if media >= 7:\n",
        "    print( 'Aprovado')\n",
        "    status = 'Aprovado'\n",
        "  else:\n",
        "    print('Reprovado')\n",
        "    status = 'Reprovado'\n",
        "    \n",
        "    \n",
        "  print(soma)\n",
        "  print(media)\n",
        "  alunos['media'] = media\n",
        "  alunos['status'] = status\n",
        "  dados.append(alunos.copy())\n",
        "  \n",
        "    \n",
        "print(dados)\n"
      ],
      "metadata": {
        "colab": {
          "base_uri": "https://localhost:8080/"
        },
        "id": "I6mdeQQxF_1v",
        "outputId": "50822011-ffe3-43c0-ad6f-897c1ab9ecff"
      },
      "execution_count": null,
      "outputs": [
        {
          "name": "stdout",
          "output_type": "stream",
          "text": [
            "Digite o nome do aluno:Cassiano\n",
            "Digite a primeira nota do aluno:8\n",
            "Digite a sgunda nota do aluno:8\n",
            "Aprovado\n",
            "16.0\n",
            "8.0\n",
            "Digite o nome do aluno:Joana\n",
            "Digite a primeira nota do aluno:10\n",
            "Digite a sgunda nota do aluno:10\n",
            "Aprovado\n",
            "20.0\n",
            "10.0\n",
            "Digite o nome do aluno:Paulo\n",
            "Digite a primeira nota do aluno:8\n",
            "Digite a sgunda nota do aluno:8\n",
            "Aprovado\n",
            "16.0\n",
            "8.0\n",
            "Digite o nome do aluno:Fabiana\n"
          ]
        }
      ]
    },
    {
      "cell_type": "code",
      "source": [
        "# Exercício 2\n",
        "# Adapte o sistema anterior para que as notas 1 e 2 estejam dentro de uma lista.\n",
        "# O dicionário irá conter:nome, nota[nota1 nota2], media, status\n",
        "\n",
        "alunos = {}\n",
        "dados = []\n",
        "media = 0\n",
        "soma = 0\n",
        "status = 0\n",
        "nota = []\n",
        "nota1 = 0\n",
        "nota2 = 0\n",
        "\n",
        "for i in range(1,6):\n",
        "  alunos['nome'] = str(input('Digite o nome do aluno:'))\n",
        "  nota1 = float(input('Digite a primeira nota do aluno:'))\n",
        "  nota2 = float(input('Digite a sgunda nota do aluno:'))\n",
        "  \n",
        "  nota = [nota1, nota2]\n",
        "  soma = nota1 + nota2\n",
        "  media = soma/2\n",
        "  if media >= 7:\n",
        "    print( 'Aprovado')\n",
        "    status = 'Aprovado'\n",
        "  else:\n",
        "    print('Reprovado')\n",
        "    status = 'Reprovado'\n",
        "\n",
        "  print(soma)\n",
        "  print(media)\n",
        "  alunos['nota'] = nota\n",
        "  alunos['media'] = media\n",
        "  alunos['status'] = status\n",
        "  dados.append(alunos.copy())\n",
        "  \n",
        "    \n",
        "print(dados)\n",
        "\n",
        "    "
      ],
      "metadata": {
        "colab": {
          "base_uri": "https://localhost:8080/"
        },
        "id": "ClauLOGnNPOX",
        "outputId": "56eed2de-d56c-41c3-fa2d-95a1e9fe9ae4"
      },
      "execution_count": null,
      "outputs": [
        {
          "output_type": "stream",
          "name": "stdout",
          "text": [
            "Digite o nome do aluno:Cassiano\n",
            "Digite a primeira nota do aluno:9\n",
            "Digite a sgunda nota do aluno:8\n",
            "Aprovado\n",
            "17.0\n",
            "8.5\n",
            "Digite o nome do aluno:Edilce\n",
            "Digite a primeira nota do aluno:9\n",
            "Digite a sgunda nota do aluno:8\n",
            "Aprovado\n",
            "17.0\n",
            "8.5\n",
            "Digite o nome do aluno:Fabiana\n",
            "Digite a primeira nota do aluno:5\n",
            "Digite a sgunda nota do aluno:4\n",
            "Reprovado\n",
            "9.0\n",
            "4.5\n",
            "Digite o nome do aluno:Joana\n",
            "Digite a primeira nota do aluno:10\n",
            "Digite a sgunda nota do aluno:10\n",
            "Aprovado\n",
            "20.0\n",
            "10.0\n",
            "Digite o nome do aluno:Paulo\n",
            "Digite a primeira nota do aluno:8\n",
            "Digite a sgunda nota do aluno:8\n",
            "Aprovado\n",
            "16.0\n",
            "8.0\n",
            "[{'nome': 'Cassiano', 'nota': [9.0, 8.0], 'media': 8.5, 'status': 'Aprovado'}, {'nome': 'Edilce', 'nota': [9.0, 8.0], 'media': 8.5, 'status': 'Aprovado'}, {'nome': 'Fabiana', 'nota': [5.0, 4.0], 'media': 4.5, 'status': 'Reprovado'}, {'nome': 'Joana', 'nota': [10.0, 10.0], 'media': 10.0, 'status': 'Aprovado'}, {'nome': 'Paulo', 'nota': [8.0, 8.0], 'media': 8.0, 'status': 'Aprovado'}]\n"
          ]
        }
      ]
    },
    {
      "cell_type": "code",
      "source": [
        "# Função sem parâmetro de entrada\n",
        "# Faça uma função que imprima algo:\n",
        "\n",
        "# Funçao imprimir \n",
        "def ola():\n",
        "  print('Olá, seja muito bem vindo.')\n",
        "  print('--------------------------')\n",
        "\n",
        "# Programa principal\n",
        "print('Ação 1')\n",
        "ola()\n",
        "print('Pegar dados')\n",
        "ola()\n",
        "\n",
        "# A partir do momento que a função esta declarada e rodando, o nome da função passa a ser uma nova função que você pode executar a qualquer momento."
      ],
      "metadata": {
        "colab": {
          "base_uri": "https://localhost:8080/"
        },
        "id": "BZ6SmEp1sTXs",
        "outputId": "16fd4097-e361-40be-d7f9-8406aab6760d"
      },
      "execution_count": null,
      "outputs": [
        {
          "output_type": "stream",
          "name": "stdout",
          "text": [
            "Ação 1\n",
            "Olá, seja muito bem vindo.\n",
            "--------------------------\n",
            "Pegar dados\n",
            "Olá, seja muito bem vindo.\n",
            "--------------------------\n"
          ]
        }
      ]
    },
    {
      "cell_type": "code",
      "source": [
        "# Exercício 1\n",
        "\n",
        "# Função Bem-Vindo\n",
        "def bemvindo():\n",
        "  print('-------------------------------')\n",
        "  print('---------  Bem-Vindo ----------')\n",
        "  print('-------------------------------')\n",
        "\n",
        "# Principal\n",
        "bemvindo()"
      ],
      "metadata": {
        "colab": {
          "base_uri": "https://localhost:8080/"
        },
        "id": "4I5SanvwwbCu",
        "outputId": "5325a85e-80ab-41f8-9850-6a0c997243cd"
      },
      "execution_count": null,
      "outputs": [
        {
          "output_type": "stream",
          "name": "stdout",
          "text": [
            "-------------------------------\n",
            "---------  Bem-Vindo ----------\n",
            "-------------------------------\n"
          ]
        }
      ]
    },
    {
      "cell_type": "code",
      "source": [
        "# Função com parâmetro de entrada\n",
        "# Exemplo 1 \n",
        "\n",
        "# Faça um programa que o usuário escreva a frase e o programa imprime:\n",
        "\n",
        "# Função imprimir\n",
        "def txt(frase):\n",
        "  tamanho = len(frase)\n",
        "  print(frase)\n",
        "\n",
        "  \n",
        "# Principal\n",
        "frase = str(input('Digite uma frase pequena:'))\n",
        "txt(frase)"
      ],
      "metadata": {
        "colab": {
          "base_uri": "https://localhost:8080/"
        },
        "id": "boE-vu56x7kx",
        "outputId": "bde569fe-f82d-4956-f528-0d2188dd0d21"
      },
      "execution_count": null,
      "outputs": [
        {
          "output_type": "stream",
          "name": "stdout",
          "text": [
            "Digite uma frase pequena:Seja bem vindo\n",
            "Seja bem vindo\n"
          ]
        }
      ]
    },
    {
      "cell_type": "code",
      "source": [
        "# Exercício 2\n",
        "# Faça um programa que some 2 números \n",
        "\n",
        "# Função imprimir\n",
        "def soma(a, b):\n",
        "  s = a + b\n",
        "  print(f'A soma é de {s}')\n",
        "\n",
        "# Principal\n",
        "soma(-2,5)\n",
        "\n",
        "valor1 = 4\n",
        "valor2 = 8\n",
        "soma(valor1,valor2)\n"
      ],
      "metadata": {
        "colab": {
          "base_uri": "https://localhost:8080/"
        },
        "id": "BEeBN2vE-DOv",
        "outputId": "a0b074a8-85ba-4659-bfda-8a051356fa20"
      },
      "execution_count": null,
      "outputs": [
        {
          "output_type": "stream",
          "name": "stdout",
          "text": [
            "A soma é de 3\n",
            "A soma é de 12\n"
          ]
        }
      ]
    },
    {
      "cell_type": "code",
      "source": [
        "# Funções com parâmentros opcionais\n",
        "# Exemplo 2\n",
        "# Refaça o programa da soma, mas agora com todos os parâmetros opcionais\n",
        "\n",
        "# Funçao soma\n",
        "def soma(a, b = 0):\n",
        "  s = a + b\n",
        "  print(f'A soma é {s}')\n",
        "\n",
        "# Principal\n",
        "valor1 = 4\n",
        "valor2 = 8\n",
        "soma(valor1,valor2)\n",
        "\n",
        "soma(2)\n",
        "\n"
      ],
      "metadata": {
        "colab": {
          "base_uri": "https://localhost:8080/"
        },
        "id": "7JdiOXvrFeNc",
        "outputId": "6d87b848-508a-4fc2-cf25-a1f01436a098"
      },
      "execution_count": null,
      "outputs": [
        {
          "output_type": "stream",
          "name": "stdout",
          "text": [
            "A soma é 12\n",
            "A soma é 2\n"
          ]
        }
      ]
    },
    {
      "cell_type": "code",
      "source": [
        "# Funções com retorno\n",
        "# Configura se algum valor deve voltar para o usuário do programa.\n",
        "# Exemplo 3\n",
        "\n",
        "# Funçao soma\n",
        "def soma(a, b = 0):\n",
        "  s = a + b\n",
        "  return s\n",
        "\n",
        "# Principal \n",
        "variavel = soma(5,2)\n",
        "print(variavel)\n",
        "\n"
      ],
      "metadata": {
        "id": "y1dePz_SIDcf",
        "colab": {
          "base_uri": "https://localhost:8080/"
        },
        "outputId": "406ed343-20e2-4b55-fb63-467904c46ba2"
      },
      "execution_count": null,
      "outputs": [
        {
          "output_type": "stream",
          "name": "stdout",
          "text": [
            "7\n"
          ]
        }
      ]
    },
    {
      "cell_type": "code",
      "source": [
        "# Exemplo 4\n",
        "# Faça uma funçao média, que calcule a média de uma quantidade indeterminada de números\n",
        "\n",
        "# Função média\n",
        "def media(*num):\n",
        "  soma = 0\n",
        "  qtd = len(num)\n",
        "  for n in num:\n",
        "    soma += n\n",
        "  media = soma / qtd\n",
        "  return media \n",
        "\n",
        "# Principal\n",
        "var = media(1,3,5,7,9)\n",
        "print(var)\n"
      ],
      "metadata": {
        "colab": {
          "base_uri": "https://localhost:8080/"
        },
        "id": "dzSqhrxHa6-2",
        "outputId": "5596eb73-7d04-4d56-fc89-be6218d3e70f"
      },
      "execution_count": null,
      "outputs": [
        {
          "output_type": "stream",
          "name": "stdout",
          "text": [
            "5.0\n"
          ]
        }
      ]
    },
    {
      "cell_type": "code",
      "source": [
        "# help e Docstring\n",
        "\n",
        "# help\n",
        "help(print)\n",
        "help(len)\n",
        "help(sorted)\n",
        "\n"
      ],
      "metadata": {
        "colab": {
          "base_uri": "https://localhost:8080/"
        },
        "id": "xvmtwcjqkeiX",
        "outputId": "d2d4ce74-ed4d-4aed-c136-d211a5350864"
      },
      "execution_count": null,
      "outputs": [
        {
          "output_type": "stream",
          "name": "stdout",
          "text": [
            "Help on built-in function print in module builtins:\n",
            "\n",
            "print(...)\n",
            "    print(value, ..., sep=' ', end='\\n', file=sys.stdout, flush=False)\n",
            "    \n",
            "    Prints the values to a stream, or to sys.stdout by default.\n",
            "    Optional keyword arguments:\n",
            "    file:  a file-like object (stream); defaults to the current sys.stdout.\n",
            "    sep:   string inserted between values, default a space.\n",
            "    end:   string appended after the last value, default a newline.\n",
            "    flush: whether to forcibly flush the stream.\n",
            "\n",
            "Help on built-in function len in module builtins:\n",
            "\n",
            "len(obj, /)\n",
            "    Return the number of items in a container.\n",
            "\n",
            "Help on built-in function sorted in module builtins:\n",
            "\n",
            "sorted(iterable, /, *, key=None, reverse=False)\n",
            "    Return a new list containing all items from the iterable in ascending order.\n",
            "    \n",
            "    A custom key function can be supplied to customize the sort order, and the\n",
            "    reverse flag can be set to request the result in descending order.\n",
            "\n"
          ]
        }
      ]
    },
    {
      "cell_type": "code",
      "source": [
        "# Docstring\n",
        "help(media)"
      ],
      "metadata": {
        "colab": {
          "base_uri": "https://localhost:8080/"
        },
        "id": "tmFqMyP6nXgw",
        "outputId": "f463f847-4c48-433f-a815-b4a8f3863070"
      },
      "execution_count": null,
      "outputs": [
        {
          "output_type": "stream",
          "name": "stdout",
          "text": [
            "Help on function media in module __main__:\n",
            "\n",
            "media(*num)\n",
            "    # Função média\n",
            "\n"
          ]
        }
      ]
    },
    {
      "cell_type": "code",
      "source": [
        "# Observe que a função que criamos ainda não possui nenhuma informação(docstring).\n",
        "# Iremos produzir\n",
        "\n",
        "# Exemplo 5\n",
        "# Crie o docstring da função media \n",
        "\n",
        "# Função media\n",
        "def media(*num):\n",
        "  \"\"\"\n",
        "  A função média calcula a média de diversos números. Você deve colocá - los direto.\n",
        "  Função não aceita listas, nem dicionários.\n",
        "  num: são os números enviados, int ou float.\n",
        "  return: media = média dos números.\n",
        "  Autor: Everton\n",
        "  Versão: 1.0\n",
        "  \"\"\"\n",
        "  soma = 0\n",
        "  qtd = len(num)\n",
        "  for n in num:\n",
        "    soma += n\n",
        "  media = soma / qtd\n",
        "  return media \n",
        "\n",
        " # Principal\n",
        "var = media(1,3,5,7,9)\n",
        "print(var)\n",
        "\n",
        "help(media)\n"
      ],
      "metadata": {
        "colab": {
          "base_uri": "https://localhost:8080/"
        },
        "id": "EtNmWdNsnf7Q",
        "outputId": "7fc9b703-7172-43a9-f4de-e96700154e99"
      },
      "execution_count": null,
      "outputs": [
        {
          "output_type": "stream",
          "name": "stdout",
          "text": [
            "5.0\n",
            "Help on function media in module __main__:\n",
            "\n",
            "media(*num)\n",
            "    A função média calcula a média de diversos números. Você deve colocá - los direto.\n",
            "    Função não aceita listas, nem dicionários.\n",
            "    num: são os números enviados, int ou float.\n",
            "    return: media = média dos números.\n",
            "    Autor: Everton\n",
            "    Versão: 1.0\n",
            "\n"
          ]
        }
      ]
    },
    {
      "cell_type": "code",
      "source": [
        "# Escopo local e Global\n",
        "# Exemplo 6\n",
        "# Modifique o programa de soma, demodo que você imprima os valores a, b, c e s nos dois escopos.\n",
        "\n",
        "# Função de somar\n",
        "def soma(a, b = 0):\n",
        "  s = a + b\n",
        "  a = 8\n",
        "  print(a,b,c,s)\n",
        "  return s \n",
        "\n",
        "# Principal\n",
        "a = 5\n",
        "b = 2\n",
        "c = 3\n",
        "somado = soma(a,b)\n",
        "print(a,b)\n",
        "#print(s)\n",
        "print(somado)\n",
        "\n",
        "# Principal"
      ],
      "metadata": {
        "colab": {
          "base_uri": "https://localhost:8080/"
        },
        "id": "VaLewY2SqfCm",
        "outputId": "a0b5c7a5-06c2-4900-d90b-7bf13c67be57"
      },
      "execution_count": null,
      "outputs": [
        {
          "output_type": "stream",
          "name": "stdout",
          "text": [
            "8 2 3 7\n",
            "5 2\n",
            "7\n"
          ]
        }
      ]
    },
    {
      "cell_type": "code",
      "source": [
        "from re import S\n",
        "# Modifique o programa de soma, coloque as variáveis c e s como globais\n",
        "\n",
        "# Função soma\n",
        "def soma(a, b = 0):\n",
        "  global c, s\n",
        "  s = a + b\n",
        "  c = 8\n",
        "  print(a,b,c,s)\n",
        "  return s \n",
        "\n",
        "# Principal\n",
        "a = 5\n",
        "b = 2\n",
        "c = 3\n",
        "somad = soma(a,b)\n",
        "print(a,b,c)\n",
        "print(somado)"
      ],
      "metadata": {
        "colab": {
          "base_uri": "https://localhost:8080/"
        },
        "id": "oBj6In3A67xK",
        "outputId": "bb38b5b3-124a-4af1-bbc8-fdde13cc71ab"
      },
      "execution_count": null,
      "outputs": [
        {
          "output_type": "stream",
          "name": "stdout",
          "text": [
            "5 2 8 7\n",
            "5 2 8\n",
            "7\n"
          ]
        }
      ]
    },
    {
      "cell_type": "code",
      "source": [
        "# Funções nativas.\n",
        "# O Python possui diversas funções nativas. Quer saber mais sobre elas? Rode o comando:\n",
        "# dir(_bultins_) \n",
        "\n",
        "dir(__builtins__)\n"
      ],
      "metadata": {
        "colab": {
          "base_uri": "https://localhost:8080/"
        },
        "id": "z2clRi_982GG",
        "outputId": "73c39142-1d8e-4aa4-d53f-e85839415406"
      },
      "execution_count": null,
      "outputs": [
        {
          "output_type": "execute_result",
          "data": {
            "text/plain": [
              "['ArithmeticError',\n",
              " 'AssertionError',\n",
              " 'AttributeError',\n",
              " 'BaseException',\n",
              " 'BlockingIOError',\n",
              " 'BrokenPipeError',\n",
              " 'BufferError',\n",
              " 'BytesWarning',\n",
              " 'ChildProcessError',\n",
              " 'ConnectionAbortedError',\n",
              " 'ConnectionError',\n",
              " 'ConnectionRefusedError',\n",
              " 'ConnectionResetError',\n",
              " 'DeprecationWarning',\n",
              " 'EOFError',\n",
              " 'Ellipsis',\n",
              " 'EnvironmentError',\n",
              " 'Exception',\n",
              " 'False',\n",
              " 'FileExistsError',\n",
              " 'FileNotFoundError',\n",
              " 'FloatingPointError',\n",
              " 'FutureWarning',\n",
              " 'GeneratorExit',\n",
              " 'IOError',\n",
              " 'ImportError',\n",
              " 'ImportWarning',\n",
              " 'IndentationError',\n",
              " 'IndexError',\n",
              " 'InterruptedError',\n",
              " 'IsADirectoryError',\n",
              " 'KeyError',\n",
              " 'KeyboardInterrupt',\n",
              " 'LookupError',\n",
              " 'MemoryError',\n",
              " 'ModuleNotFoundError',\n",
              " 'NameError',\n",
              " 'None',\n",
              " 'NotADirectoryError',\n",
              " 'NotImplemented',\n",
              " 'NotImplementedError',\n",
              " 'OSError',\n",
              " 'OverflowError',\n",
              " 'PendingDeprecationWarning',\n",
              " 'PermissionError',\n",
              " 'ProcessLookupError',\n",
              " 'RecursionError',\n",
              " 'ReferenceError',\n",
              " 'ResourceWarning',\n",
              " 'RuntimeError',\n",
              " 'RuntimeWarning',\n",
              " 'StopAsyncIteration',\n",
              " 'StopIteration',\n",
              " 'SyntaxError',\n",
              " 'SyntaxWarning',\n",
              " 'SystemError',\n",
              " 'SystemExit',\n",
              " 'TabError',\n",
              " 'TimeoutError',\n",
              " 'True',\n",
              " 'TypeError',\n",
              " 'UnboundLocalError',\n",
              " 'UnicodeDecodeError',\n",
              " 'UnicodeEncodeError',\n",
              " 'UnicodeError',\n",
              " 'UnicodeTranslateError',\n",
              " 'UnicodeWarning',\n",
              " 'UserWarning',\n",
              " 'ValueError',\n",
              " 'Warning',\n",
              " 'ZeroDivisionError',\n",
              " '__IPYTHON__',\n",
              " '__build_class__',\n",
              " '__debug__',\n",
              " '__doc__',\n",
              " '__import__',\n",
              " '__loader__',\n",
              " '__name__',\n",
              " '__package__',\n",
              " '__spec__',\n",
              " 'abs',\n",
              " 'all',\n",
              " 'any',\n",
              " 'ascii',\n",
              " 'bin',\n",
              " 'bool',\n",
              " 'breakpoint',\n",
              " 'bytearray',\n",
              " 'bytes',\n",
              " 'callable',\n",
              " 'chr',\n",
              " 'classmethod',\n",
              " 'compile',\n",
              " 'complex',\n",
              " 'copyright',\n",
              " 'credits',\n",
              " 'delattr',\n",
              " 'dict',\n",
              " 'dir',\n",
              " 'display',\n",
              " 'divmod',\n",
              " 'enumerate',\n",
              " 'eval',\n",
              " 'exec',\n",
              " 'execfile',\n",
              " 'filter',\n",
              " 'float',\n",
              " 'format',\n",
              " 'frozenset',\n",
              " 'get_ipython',\n",
              " 'getattr',\n",
              " 'globals',\n",
              " 'hasattr',\n",
              " 'hash',\n",
              " 'help',\n",
              " 'hex',\n",
              " 'id',\n",
              " 'input',\n",
              " 'int',\n",
              " 'isinstance',\n",
              " 'issubclass',\n",
              " 'iter',\n",
              " 'len',\n",
              " 'license',\n",
              " 'list',\n",
              " 'locals',\n",
              " 'map',\n",
              " 'max',\n",
              " 'memoryview',\n",
              " 'min',\n",
              " 'next',\n",
              " 'object',\n",
              " 'oct',\n",
              " 'open',\n",
              " 'ord',\n",
              " 'pow',\n",
              " 'print',\n",
              " 'property',\n",
              " 'range',\n",
              " 'repr',\n",
              " 'reversed',\n",
              " 'round',\n",
              " 'runfile',\n",
              " 'set',\n",
              " 'setattr',\n",
              " 'slice',\n",
              " 'sorted',\n",
              " 'staticmethod',\n",
              " 'str',\n",
              " 'sum',\n",
              " 'super',\n",
              " 'tuple',\n",
              " 'type',\n",
              " 'vars',\n",
              " 'zip']"
            ]
          },
          "metadata": {},
          "execution_count": 12
        }
      ]
    },
    {
      "cell_type": "code",
      "source": [
        "# Erro\n",
        "\n",
        "  \n",
        "\n",
        "\n",
        "\n",
        "\n"
      ],
      "metadata": {
        "colab": {
          "base_uri": "https://localhost:8080/",
          "height": 356
        },
        "id": "CpMgp7149-dT",
        "outputId": "ac982d93-ff63-42d1-ca80-41ac49887b2a"
      },
      "execution_count": null,
      "outputs": [
        {
          "output_type": "error",
          "ename": "UnboundLocalError",
          "evalue": "ignored",
          "traceback": [
            "\u001b[0;31m---------------------------------------------------------------------------\u001b[0m",
            "\u001b[0;31mUnboundLocalError\u001b[0m                         Traceback (most recent call last)",
            "\u001b[0;32m<ipython-input-25-7ca0233c244e>\u001b[0m in \u001b[0;36m<module>\u001b[0;34m\u001b[0m\n\u001b[1;32m      6\u001b[0m   \u001b[0mf\u001b[0m \u001b[0;34m=\u001b[0m \u001b[0mf\u001b[0m\u001b[0;34m*\u001b[0m\u001b[0;34m(\u001b[0m\u001b[0ma\u001b[0m \u001b[0;34m-\u001b[0m \u001b[0;36m1\u001b[0m\u001b[0;34m)\u001b[0m\u001b[0;34m\u001b[0m\u001b[0;34m\u001b[0m\u001b[0m\n\u001b[1;32m      7\u001b[0m \u001b[0;34m\u001b[0m\u001b[0m\n\u001b[0;32m----> 8\u001b[0;31m \u001b[0mfatorial\u001b[0m\u001b[0;34m(\u001b[0m\u001b[0;36m5\u001b[0m\u001b[0;34m)\u001b[0m\u001b[0;34m\u001b[0m\u001b[0;34m\u001b[0m\u001b[0m\n\u001b[0m\u001b[1;32m      9\u001b[0m \u001b[0mprint\u001b[0m\u001b[0;34m(\u001b[0m\u001b[0mfatorial\u001b[0m\u001b[0;34m)\u001b[0m\u001b[0;34m\u001b[0m\u001b[0;34m\u001b[0m\u001b[0m\n\u001b[1;32m     10\u001b[0m \u001b[0;34m\u001b[0m\u001b[0m\n",
            "\u001b[0;32m<ipython-input-25-7ca0233c244e>\u001b[0m in \u001b[0;36mfatorial\u001b[0;34m(a)\u001b[0m\n\u001b[1;32m      4\u001b[0m \u001b[0;34m\u001b[0m\u001b[0m\n\u001b[1;32m      5\u001b[0m \u001b[0;32mdef\u001b[0m \u001b[0mfatorial\u001b[0m\u001b[0;34m(\u001b[0m\u001b[0ma\u001b[0m\u001b[0;34m)\u001b[0m\u001b[0;34m:\u001b[0m\u001b[0;34m\u001b[0m\u001b[0;34m\u001b[0m\u001b[0m\n\u001b[0;32m----> 6\u001b[0;31m   \u001b[0mf\u001b[0m \u001b[0;34m=\u001b[0m \u001b[0mf\u001b[0m\u001b[0;34m*\u001b[0m\u001b[0;34m(\u001b[0m\u001b[0ma\u001b[0m \u001b[0;34m-\u001b[0m \u001b[0;36m1\u001b[0m\u001b[0;34m)\u001b[0m\u001b[0;34m\u001b[0m\u001b[0;34m\u001b[0m\u001b[0m\n\u001b[0m\u001b[1;32m      7\u001b[0m \u001b[0;34m\u001b[0m\u001b[0m\n\u001b[1;32m      8\u001b[0m \u001b[0mfatorial\u001b[0m\u001b[0;34m(\u001b[0m\u001b[0;36m5\u001b[0m\u001b[0;34m)\u001b[0m\u001b[0;34m\u001b[0m\u001b[0;34m\u001b[0m\u001b[0m\n",
            "\u001b[0;31mUnboundLocalError\u001b[0m: local variable 'f' referenced before assignment"
          ]
        }
      ]
    },
    {
      "cell_type": "code",
      "source": [
        "lista1 =[1,2,3,4,5]\n",
        "lista2 =[1,2,3,4,5]\n",
        "lista3 = lista1 + lista2\n",
        "print(lista3)"
      ],
      "metadata": {
        "colab": {
          "base_uri": "https://localhost:8080/"
        },
        "id": "i-0AhZPPKAlw",
        "outputId": "f628a77a-b266-4d55-c4b5-a88679a8c926"
      },
      "execution_count": null,
      "outputs": [
        {
          "output_type": "stream",
          "name": "stdout",
          "text": [
            "[1, 2, 3, 4, 5, 1, 2, 3, 4, 5]\n"
          ]
        }
      ]
    },
    {
      "cell_type": "code",
      "source": [
        "altura = 1.75\n",
        "peso = 79.2\n",
        "imc = peso/altura**2\n",
        "print('{:.2f}'.format(imc))"
      ],
      "metadata": {
        "colab": {
          "base_uri": "https://localhost:8080/"
        },
        "id": "v3tnju10Kdab",
        "outputId": "3ae70d9c-12a4-4bbe-a71a-2a38025f8e28"
      },
      "execution_count": null,
      "outputs": [
        {
          "output_type": "stream",
          "name": "stdout",
          "text": [
            "25.86\n"
          ]
        }
      ]
    },
    {
      "cell_type": "code",
      "source": [
        "a = 10\n",
        "b = 3\n",
        "c = int(a)%int(b)\n",
        "print(c)"
      ],
      "metadata": {
        "colab": {
          "base_uri": "https://localhost:8080/"
        },
        "id": "lPbOZFyzMJlj",
        "outputId": "590245a4-543b-4e2e-bb1d-c51f657a0640"
      },
      "execution_count": null,
      "outputs": [
        {
          "output_type": "stream",
          "name": "stdout",
          "text": [
            "1\n"
          ]
        }
      ]
    },
    {
      "cell_type": "code",
      "source": [
        "area = [200,'null',720,1500,1000,275,'null',1200,2400,'null'] \n",
        "altura = ['null',30,40,30,10,25,33,'null',12,20] \n",
        "largura = [20,20,'null',50,100,'null',30,100,200,10]\n",
        "\n",
        "print(len(area),len(altura),len(largura))\n",
        "\n",
        "\n",
        "def preeche(a,b,h):\n",
        "  area_full = []\n",
        "  largura_full = []\n",
        "  altura_full = []\n",
        "  \n"
      ],
      "metadata": {
        "colab": {
          "base_uri": "https://localhost:8080/"
        },
        "id": "55x8kumyW2YK",
        "outputId": "d05a6321-1c48-4ff5-868a-f796a7f8a99e"
      },
      "execution_count": null,
      "outputs": [
        {
          "output_type": "stream",
          "name": "stdout",
          "text": [
            "10 10 10\n"
          ]
        }
      ]
    },
    {
      "cell_type": "code",
      "source": [
        "print('13'+'90')"
      ],
      "metadata": {
        "colab": {
          "base_uri": "https://localhost:8080/"
        },
        "id": "eh8bTJsWblr3",
        "outputId": "00acad54-a6de-42bc-ed10-4d0c878d7065"
      },
      "execution_count": null,
      "outputs": [
        {
          "output_type": "stream",
          "name": "stdout",
          "text": [
            "1390\n"
          ]
        }
      ]
    },
    {
      "cell_type": "code",
      "source": [
        "print(13)\n",
        "print(\"13\")"
      ],
      "metadata": {
        "colab": {
          "base_uri": "https://localhost:8080/"
        },
        "id": "XASAHOfxcOnY",
        "outputId": "167bcc65-7255-44c2-8e3d-80f21c062570"
      },
      "execution_count": null,
      "outputs": [
        {
          "output_type": "stream",
          "name": "stdout",
          "text": [
            "13\n",
            "13\n"
          ]
        }
      ]
    },
    {
      "cell_type": "code",
      "source": [
        "x =input('digite algo:')\n",
        "type(x)\n"
      ],
      "metadata": {
        "colab": {
          "base_uri": "https://localhost:8080/"
        },
        "id": "3crme1AQcfiw",
        "outputId": "165ebc0f-c615-4203-affe-531b1b65b9c8"
      },
      "execution_count": null,
      "outputs": [
        {
          "name": "stdout",
          "output_type": "stream",
          "text": [
            "digite algo:5\n"
          ]
        },
        {
          "output_type": "execute_result",
          "data": {
            "text/plain": [
              "str"
            ]
          },
          "metadata": {},
          "execution_count": 61
        }
      ]
    },
    {
      "cell_type": "code",
      "source": [
        "cidade = \"São José\"\n",
        "estado = \"SP\"\n",
        "pais = \"Brasil\"\n",
        "\n",
        "print(\"Nasci em \"+ cidade +\", uma cidade do interior de\"+ estado +\" que pertence ao sudeste do\"+pais)\n",
        "print(\"Nasci em \", cidade ,\", uma cidade do interior de\", estado ,\" que pertence ao sudeste do\" , pais)\n",
        "print(\"Nasci em {} uma cidade do interior de {} que pertence ao sudeste do {}\".format(cidade,estado,pais))"
      ],
      "metadata": {
        "colab": {
          "base_uri": "https://localhost:8080/"
        },
        "id": "kbdY996Idp1I",
        "outputId": "d14c6e02-c4c7-4c0d-9a6b-d71d636b94de"
      },
      "execution_count": null,
      "outputs": [
        {
          "output_type": "stream",
          "name": "stdout",
          "text": [
            "Nasci em São José, uma cidade do interior deSP que pertence ao sudeste doBrasil\n",
            "Nasci em  São José , uma cidade do interior de SP  que pertence ao sudeste do Brasil\n",
            "Nasci em São José uma cidade do interior de SP que pertence ao sudeste do Brasil\n"
          ]
        }
      ]
    },
    {
      "cell_type": "code",
      "source": [
        "preco_peca = float(input('Qual o preço'))\n",
        "saldo = float(input( 'saldo'))\n",
        "\n",
        "if preco_peca <= saldo:\n",
        "  print(' pode comprar {}'.format(saldo-preco_peca))\n",
        "else:\n",
        "  print('sem saldo, falta{}'.format(preco_peca-saldo))\n",
        "print('fim')"
      ],
      "metadata": {
        "colab": {
          "base_uri": "https://localhost:8080/"
        },
        "id": "ZYXioAijhQoV",
        "outputId": "fd5d7a1b-8a79-40fe-9c05-fe3c5cc1b8c9"
      },
      "execution_count": null,
      "outputs": [
        {
          "output_type": "stream",
          "name": "stdout",
          "text": [
            "Qual o preço20\n",
            "saldo8\n",
            "sem saldo, falta12.0\n",
            "fim\n"
          ]
        }
      ]
    },
    {
      "cell_type": "code",
      "source": [
        "l1 =[1, 5, 12, 14, 15, 20]\n",
        "l2 =[2, 3, 7, 10, 11]\n",
        "l3 = l2[:]\n",
        "l4 = l2\n",
        "l4.pop()\n",
        "l5 = []\n",
        "\n",
        "for v1,v2 in zip(l1,l2):\n",
        "  l5.append(v1+v2)\n",
        "  print('v1 {} e v2 {}'.format(v1,v2))\n",
        "\n",
        "print(l5)"
      ],
      "metadata": {
        "colab": {
          "base_uri": "https://localhost:8080/"
        },
        "id": "O5ans7NUmgrb",
        "outputId": "9c4007f8-4c87-4e7b-e9af-6ce31d771340"
      },
      "execution_count": null,
      "outputs": [
        {
          "output_type": "stream",
          "name": "stdout",
          "text": [
            "v1 1 e v2 2\n",
            "v1 5 e v2 3\n",
            "v1 12 e v2 7\n",
            "v1 14 e v2 10\n",
            "[3, 8, 19, 24]\n"
          ]
        }
      ]
    },
    {
      "cell_type": "code",
      "source": [
        "print(\"{:.2f}\".format(3.14159265359))"
      ],
      "metadata": {
        "colab": {
          "base_uri": "https://localhost:8080/"
        },
        "id": "NITByRLuewqI",
        "outputId": "33b146cc-4dc9-44c9-c11f-9064c9827a75"
      },
      "execution_count": null,
      "outputs": [
        {
          "output_type": "stream",
          "name": "stdout",
          "text": [
            "3.14\n"
          ]
        }
      ]
    },
    {
      "cell_type": "code",
      "source": [
        "[3, 6, 8, 2, 5, 4, 9, 1, 2, 13, 6, 10, 7, 14]\n",
        "passo = range(1,1)\n",
        "soma = 0\n",
        "for i in passo:\n",
        "  soma += i\n",
        "print(soma)"
      ],
      "metadata": {
        "colab": {
          "base_uri": "https://localhost:8080/"
        },
        "id": "zuPExYq8k2oQ",
        "outputId": "18a1023f-3b25-470a-dae0-95ef269938b5"
      },
      "execution_count": null,
      "outputs": [
        {
          "output_type": "stream",
          "name": "stdout",
          "text": [
            "0\n"
          ]
        }
      ]
    },
    {
      "cell_type": "code",
      "source": [
        "l = [0, 1, 1, 1, 0, 0, 0, 1, 0, 1, 1, 1, 0, 1, 0, 1, 0, 1, 1, 0, 0, 1, 0, 1, 0, 1, 1, 1, 0, 0, 1, 0, 0, 1, 1, 0, 1, 1, 1, 1, 0, 0, 1, 0, 0, 0, 0, 0, 0, 1, 1, 1, 0, 0, 1, 1, 0, 1, 1, 0, 0, 1, 0, 1, 0, 1, 1, 1, 0, 0, 1, 0, 0, 0, 1, 0, 0, 0, 0, 0, 0, 1, 1, 1, 0, 1, 0, 1, 0, 1, 1, 0, 1, 1, 0, 1, 0, 0, 1, 0, 0, 0, 0, 0, 0, 1, 1, 0, 0, 0, 1, 1, 0, 1, 1, 0, 1, 0, 0, 1, 0, 1, 1, 0, 0, 1, 0, 1, 0, 1, 1, 0, 1, 1, 1, 0, 0, 1, 1, 1, 0, 1, 0, 0, 0, 1, 1, 0, 1, 0, 0, 1, 0, 1, 1, 1, 0, 0, 1, 1, 0, 1, 1, 1, 0, 1, 0, 0, 0, 1, 1, 0, 0, 0, 0, 1, 0, 0, 1, 0, 0, 0, 0, 0, 0, 1, 1, 0, 0, 1, 0, 0, 0, 1, 1, 0, 0, 1, 0, 1, 0, 0, 1, 0, 0, 0, 0, 0, 0, 1, 1, 0, 0, 1, 0, 0, 0, 1, 1, 0, 0, 0, 0, 1, 0, 1, 1, 0, 0, 1, 0, 0, 0, 1, 1, 0, 1, 1, 1, 1, 0, 1, 1, 1, 0, 0, 1, 1] \n",
        "print(len(l))\n",
        "print(l.count(0))\n",
        "print(l.count(1))\n"
      ],
      "metadata": {
        "colab": {
          "base_uri": "https://localhost:8080/"
        },
        "id": "UPuUJt11m4f8",
        "outputId": "cb9c0603-063c-4992-b9dc-bd9d96e494a1"
      },
      "execution_count": null,
      "outputs": [
        {
          "output_type": "stream",
          "name": "stdout",
          "text": [
            "248\n",
            "133\n",
            "115\n"
          ]
        }
      ]
    },
    {
      "cell_type": "code",
      "source": [
        "dicionario = {'a':5, 'b':8.2, 'c':9, 'd':3, 'e': 100, 'f': 101, 'g': 210, 'h':12000, 'i':10000, 'j':1000000, 'k':-10**1000, 'l':-1000000}\n"
      ],
      "metadata": {
        "id": "CqVXfVvDp5KE"
      },
      "execution_count": null,
      "outputs": []
    },
    {
      "cell_type": "code",
      "source": [
        "area = [200,'null',720,1500,1000,275,'null',1200,2400,'null'] \n",
        "altura = ['null',30,40,30,10,25,33,'null',12,20] \n",
        "largura = [20,20,'null',50,100,'null',30,100,200,10]\n",
        "print(len(area), len(altura), len(largura))\n",
        "\n",
        "def preenche (a,b,h):\n",
        "  area_full = []\n",
        "  largura_full = []\n",
        "  altura_full = []\n",
        "  for area,largura,altura in zip(a,b,h):\n",
        "    if type(area)!=int:\n",
        "      area_full.append(int(largura*altura))\n",
        "    else:\n",
        "      area_full.append(area)\n",
        "    if type(largura)!=int:\n",
        "      largura_full.append(int(area/altura))\n",
        "    else:\n",
        "      largura_full.append(largura)\n",
        "    if type(altura)!=int:\n",
        "      altura_full.append(int(area/largura))\n",
        "    else:\n",
        "      altura_full.append(altura)\n",
        "  return (area_full,largura_full,altura_full)\n",
        "(area,largura,altura)=preenche(area,largura,altura)\n",
        "print(area)\n",
        "print(largura)\n",
        "print(altura)"
      ],
      "metadata": {
        "colab": {
          "base_uri": "https://localhost:8080/"
        },
        "id": "ebKDmo2a8fW8",
        "outputId": "142e4188-76a9-493f-8827-8bfdc32dbdc2"
      },
      "execution_count": null,
      "outputs": [
        {
          "output_type": "stream",
          "name": "stdout",
          "text": [
            "10 10 10\n",
            "[200, 600, 720, 1500, 1000, 275, 990, 1200, 2400, 200]\n",
            "[20, 20, 18, 50, 100, 11, 30, 100, 200, 10]\n",
            "[10, 30, 40, 30, 10, 25, 33, 12, 12, 20]\n"
          ]
        }
      ]
    },
    {
      "cell_type": "code",
      "source": [
        "treinamentos = [{'treinamento':'Scrum','moedas':30}, \n",
        "                {'treinamento':'Data Science','moedas':40}, \n",
        "                {'treinamento':'Gestão de Projetos','moedas':50}, \n",
        "                {'treinamento':'Marketing','moedas':30}, \n",
        "                {'treinamento':'Cloud','moedas':20}, \n",
        "                {'treinamento':'Blockchain','moedas':10}, \n",
        "                {'treinamento':'Python','moedas':30}]\n",
        "\n",
        "pedidos = ['Scrum','Data Science','Gestão de Projetos','Marketing','Cloud','Python','Python','Python', \n",
        "           'Scrum','Data Science','Gestão de Projetos','Marketing','Data Science','Gestão de Projetos',\n",
        "           'Python','Marketing','Data Science','Gestão de Projetos','Data Science','Gestão de Projetos','Data Science']\n",
        "\n",
        "def get_value (x,b):\n",
        "  for a in x:\n",
        "    if a['treinamento']in b:\n",
        "      print('valor:',a['moedas'])\n",
        "      return a['moedas']\n",
        "\n",
        "ped = sorted(set(pedidos))\n",
        "for a in ped:\n",
        "  print('solicitações:',pedidos.count(a),'\\ntreinamento:',a)\n",
        "  valor = get_value(treinamentos,a)\n",
        "  for b in treinamentos:\n",
        "    if a == b['treinamento']:\n",
        "      b['total_pedidos']=pedidos.count(a)"
      ],
      "metadata": {
        "colab": {
          "base_uri": "https://localhost:8080/"
        },
        "id": "oNDkdNtLkqPH",
        "outputId": "93807b45-c0cf-4ef5-e5ad-fafded85133d"
      },
      "execution_count": null,
      "outputs": [
        {
          "output_type": "stream",
          "name": "stdout",
          "text": [
            "solicitações: 1 \n",
            "treinamento: Cloud\n",
            "valor: 20\n",
            "solicitações: 6 \n",
            "treinamento: Data Science\n",
            "valor: 40\n",
            "solicitações: 5 \n",
            "treinamento: Gestão de Projetos\n",
            "valor: 50\n",
            "solicitações: 3 \n",
            "treinamento: Marketing\n",
            "valor: 30\n",
            "solicitações: 4 \n",
            "treinamento: Python\n",
            "valor: 30\n",
            "solicitações: 2 \n",
            "treinamento: Scrum\n",
            "valor: 30\n"
          ]
        }
      ]
    },
    {
      "cell_type": "code",
      "source": [
        "treinamentos"
      ],
      "metadata": {
        "colab": {
          "base_uri": "https://localhost:8080/"
        },
        "id": "j_Ald_9CrimJ",
        "outputId": "74db8517-6066-4e12-f1f1-5c58af048c0d"
      },
      "execution_count": null,
      "outputs": [
        {
          "output_type": "execute_result",
          "data": {
            "text/plain": [
              "[{'treinamento': 'Scrum', 'moedas': 30, 'total_pedidos': 2},\n",
              " {'treinamento': 'Data Science', 'moedas': 40, 'total_pedidos': 6},\n",
              " {'treinamento': 'Gestão de Projetos', 'moedas': 50, 'total_pedidos': 5},\n",
              " {'treinamento': 'Marketing', 'moedas': 30, 'total_pedidos': 3},\n",
              " {'treinamento': 'Cloud', 'moedas': 20, 'total_pedidos': 1},\n",
              " {'treinamento': 'Blockchain', 'moedas': 10},\n",
              " {'treinamento': 'Python', 'moedas': 30, 'total_pedidos': 4}]"
            ]
          },
          "metadata": {},
          "execution_count": 17
        }
      ]
    },
    {
      "cell_type": "code",
      "source": [
        "# Estratégia. Atender o maior número possível de pedidos.\n",
        "\n",
        "budget = 150\n",
        "count = 6\n",
        "total = []\n",
        "\n",
        "while budget >0:\n",
        "  for a in treinamentos:\n",
        "    qtd = a.get('total_pedidos',0)\n",
        "    if qtd == count:\n",
        "      print('treinamento',a['treinamento'],'comprado')\n",
        "      total.append(qtd)\n",
        "      budget=budget-a['moedas']\n",
        "      count=count-1\n",
        "    else:\n",
        "      continue\n",
        "print('Total de pedidos atendidos',sum(total),'representando',sum(total)/len(pedidos), '% de atendimento','\\ntreinamento')\n",
        "print(' budget no caixa:', budget)"
      ],
      "metadata": {
        "colab": {
          "base_uri": "https://localhost:8080/"
        },
        "id": "MZ-EjfwoyTFO",
        "outputId": "5ce737e7-5654-4051-9c2b-b79d31958acb"
      },
      "execution_count": null,
      "outputs": [
        {
          "output_type": "stream",
          "name": "stdout",
          "text": [
            "treinamento Data Science comprado\n",
            "treinamento Gestão de Projetos comprado\n",
            "treinamento Python comprado\n",
            "treinamento Marketing comprado\n",
            "Total de pedidos atendidos 18 representando 0.8571428571428571 % de atendimento \n",
            "treinamento\n",
            " budget no caixa: 0\n"
          ]
        }
      ]
    },
    {
      "cell_type": "code",
      "source": [
        "print(sorted(pedidos))\n",
        "print(set(pedidos))"
      ],
      "metadata": {
        "colab": {
          "base_uri": "https://localhost:8080/"
        },
        "id": "xOzg5AChpnkS",
        "outputId": "0b88ab9f-7923-4df3-a1c9-b936ee33169c"
      },
      "execution_count": null,
      "outputs": [
        {
          "output_type": "stream",
          "name": "stdout",
          "text": [
            "['Cloud', 'Data Science', 'Data Science', 'Data Science', 'Data Science', 'Data Science', 'Data Science', 'Gestão de Projetos', 'Gestão de Projetos', 'Gestão de Projetos', 'Gestão de Projetos', 'Gestão de Projetos', 'Marketing', 'Marketing', 'Marketing', 'Python', 'Python', 'Python', 'Python', 'Scrum', 'Scrum']\n",
            "{'Scrum', 'Data Science', 'Python', 'Cloud', 'Marketing', 'Gestão de Projetos'}\n"
          ]
        }
      ]
    }
  ]
}