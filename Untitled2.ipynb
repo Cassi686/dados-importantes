{
  "nbformat": 4,
  "nbformat_minor": 0,
  "metadata": {
    "colab": {
      "provenance": [],
      "authorship_tag": "ABX9TyOB11o6w56p9xeTCHaBXVNr",
      "include_colab_link": true
    },
    "kernelspec": {
      "name": "python3",
      "display_name": "Python 3"
    },
    "language_info": {
      "name": "python"
    }
  },
  "cells": [
    {
      "cell_type": "markdown",
      "metadata": {
        "id": "view-in-github",
        "colab_type": "text"
      },
      "source": [
        "<a href=\"https://colab.research.google.com/github/Cassi686/dados-importantes/blob/main/Untitled2.ipynb\" target=\"_parent\"><img src=\"https://colab.research.google.com/assets/colab-badge.svg\" alt=\"Open In Colab\"/></a>"
      ]
    },
    {
      "cell_type": "code",
      "execution_count": null,
      "metadata": {
        "colab": {
          "base_uri": "https://localhost:8080/",
          "height": 298
        },
        "id": "Nc8pVbg4qnRb",
        "outputId": "cd411f8d-9ddb-481a-eca0-76fbf2bf2988"
      },
      "outputs": [
        {
          "output_type": "stream",
          "name": "stdout",
          "text": [
            "Cassiano 44\n",
            "Paulo 65\n",
            "Joana 64\n",
            "Edilce 43\n"
          ]
        },
        {
          "output_type": "execute_result",
          "data": {
            "text/plain": [
              "<BarContainer object of 4 artists>"
            ]
          },
          "metadata": {},
          "execution_count": 23
        },
        {
          "output_type": "display_data",
          "data": {
            "text/plain": [
              "<Figure size 360x216 with 1 Axes>"
            ],
            "image/png": "[encoded data removed]"
          },
          "metadata": {
            "needs_background": "light"
          }
        }
      ],
      "source": [
        "# Cassiano Santos RID 93689\n",
        "\n",
        "# Etapa 1\n",
        "\n",
        "nome = [ 'Cassiano', 'Paulo', 'Joana', 'Edilce']\n",
        "idade = [44, 65, 64, 43]\n",
        "\n",
        "for nome, idade in zip(nome,idade):\n",
        "  print(nome,idade)\n",
        "\n",
        "  import numpy as np\n",
        "import matplotlib.pyplot as plt\n",
        "  \n",
        "nome = [ 'Cassiano', 'Paulo', 'Joana', 'Edilce']\n",
        "idade = [44, 65, 64, 43]\n",
        "plt.figure(figsize = (5,3))\n",
        "plt.bar(nome, idade)"
      ]
    },
    {
      "cell_type": "code",
      "source": [
        "# Etapa 2\n",
        "\n",
        "nome = [ 'Cassiano', 'Paulo', 'Joana', 'Edilce']\n",
        "salario = [3000, 4000, 8000, 4000]\n",
        "for nome, salario in zip(nome,salario):\n",
        "  print(nome,salario)\n",
        "\n",
        "nome = [ 'Cassiano', 'Paulo', 'Joana', 'Edilce']\n",
        "salario = [3000, 4000, 8000, 4000]\n",
        "plt.figure(figsize = (5,3))\n",
        "plt.bar(nome, salario)\n"
      ],
      "metadata": {
        "colab": {
          "base_uri": "https://localhost:8080/",
          "height": 298
        },
        "id": "wqVWvgMVt2WN",
        "outputId": "83822634-4c93-4b03-b20f-5669a8d2a2a3"
      },
      "execution_count": null,
      "outputs": [
        {
          "output_type": "stream",
          "name": "stdout",
          "text": [
            "Cassiano 3000\n",
            "Paulo 4000\n",
            "Joana 8000\n",
            "Edilce 4000\n"
          ]
        },
        {
          "output_type": "execute_result",
          "data": {
            "text/plain": [
              "<BarContainer object of 4 artists>"
            ]
          },
          "metadata": {},
          "execution_count": 30
        },
        {
          "output_type": "display_data",
          "data": {
            "text/plain": [
              "<Figure size 360x216 with 1 Axes>"
            ],
            "image/png": "[encoded data removed]"
          },
          "metadata": {
            "needs_background": "light"
          }
        }
      ]
    },
    {
      "cell_type": "code",
      "execution_count": null,
      "metadata": {
        "colab": {
          "base_uri": "https://localhost:8080/",
          "height": 298
        },
        "outputId": "4fb4f57c-1f5e-4170-c162-58e801a313f0",
        "id": "5RTGsGfbMyw5"
      },
      "outputs": [
        {
          "output_type": "stream",
          "name": "stdout",
          "text": [
            "Cassiano 44\n",
            "Paulo 65\n",
            "Joana 64\n",
            "Edilce 43\n"
          ]
        },
        {
          "output_type": "execute_result",
          "data": {
            "text/plain": [
              "<BarContainer object of 4 artists>"
            ]
          },
          "metadata": {},
          "execution_count": 3
        },
        {
          "output_type": "display_data",
          "data": {
            "text/plain": [
              "<Figure size 360x216 with 1 Axes>"
            ],
            "image/png": "[encoded data removed]"
          },
          "metadata": {
            "needs_background": "light"
          }
        }
      ],
      "source": [
        "# Cassiano Santos RID 93689\n",
        "\n",
        "# Etapa 1\n",
        "\n",
        "nome = [ 'Cassiano', 'Paulo', 'Joana', 'Edilce']\n",
        "idade = [44, 65, 64, 43]\n",
        "\n",
        "for nome, idade in zip(nome,idade):\n",
        "  print(nome,idade)\n",
        "\n",
        "nome = [ 'Cassiano', 'Paulo', 'Joana', 'Edilce']\n",
        "idade = [44, 65, 64, 43]\n",
        "plt.figure(figsize = (5,3))\n",
        "plt.bar(nome, idade)"
      ]
    },
    {
      "cell_type": "code",
      "source": [
        "#Etapa 1\n",
        "\n",
        "nome=[]\n",
        "idade=[]\n",
        "pessoas={}\n",
        "salario = []\n",
        "\n",
        "while True:\n",
        "  pessoas['nome'] = str(input('digite um nome:'))\n",
        "  pessoas['idade'] = int(input('digite a idade:'))\n",
        "  pessoas['salario'] = int(input('Diga sua pretenção salarial:'))\n",
        "  controle = str(input('Deseja continuar:(s/n):'))\n",
        "  nome.append(pessoas['nome'])\n",
        "  idade.append(pessoas['idade'])\n",
        "  salario.append(pessoas['salario'])\n",
        "  if controle == 'n':\n",
        "    break\n",
        "\n",
        "for n,i in zip(nome,idade):\n",
        "    print(nome)\n",
        "    print(idade)\n",
        "\n",
        "    import numpy as np\n",
        "import matplotlib.pyplot as plt\n",
        "\n",
        "plt.figure(figsize = (5,3))\n",
        "plt.bar(nome, idade)\n",
        "\n",
        "#Etapa 2\n",
        "for n, s in zip(nome,salario):\n",
        "  print(nome)\n",
        "  print(salario)\n",
        "\n",
        "plt.figure(figsize = (5,3))\n",
        "plt.bar(nome,salario)\n"
      ],
      "metadata": {
        "colab": {
          "base_uri": "https://localhost:8080/",
          "height": 978
        },
        "id": "62OSXjEP5ekp",
        "outputId": "2e38a5c3-5460-4aba-dffd-a2f312696544"
      },
      "execution_count": null,
      "outputs": [
        {
          "output_type": "stream",
          "name": "stdout",
          "text": [
            "digite um nome:Cassiano\n",
            "digite a idade:44\n",
            "Diga sua pretenção salarial:6000\n",
            "Deseja continuar:(s/n):s\n",
            "digite um nome:Edilce\n",
            "digite a idade:44\n",
            "Diga sua pretenção salarial:6000\n",
            "Deseja continuar:(s/n):s\n",
            "digite um nome:Joana\n",
            "digite a idade:65\n",
            "Diga sua pretenção salarial:10000\n",
            "Deseja continuar:(s/n):s\n",
            "digite um nome:Paulo\n",
            "digite a idade:65\n",
            "Diga sua pretenção salarial:10000\n",
            "Deseja continuar:(s/n):n\n",
            "['Cassiano', 'Edilce', 'Joana', 'Paulo']\n",
            "[44, 44, 65, 65]\n",
            "['Cassiano', 'Edilce', 'Joana', 'Paulo']\n",
            "[44, 44, 65, 65]\n",
            "['Cassiano', 'Edilce', 'Joana', 'Paulo']\n",
            "[44, 44, 65, 65]\n",
            "['Cassiano', 'Edilce', 'Joana', 'Paulo']\n",
            "[44, 44, 65, 65]\n",
            "['Cassiano', 'Edilce', 'Joana', 'Paulo']\n",
            "[6000, 6000, 10000, 10000]\n",
            "['Cassiano', 'Edilce', 'Joana', 'Paulo']\n",
            "[6000, 6000, 10000, 10000]\n",
            "['Cassiano', 'Edilce', 'Joana', 'Paulo']\n",
            "[6000, 6000, 10000, 10000]\n",
            "['Cassiano', 'Edilce', 'Joana', 'Paulo']\n",
            "[6000, 6000, 10000, 10000]\n"
          ]
        },
        {
          "output_type": "execute_result",
          "data": {
            "text/plain": [
              "<BarContainer object of 4 artists>"
            ]
          },
          "metadata": {},
          "execution_count": 41
        },
        {
          "output_type": "display_data",
          "data": {
            "text/plain": [
              "<Figure size 360x216 with 1 Axes>"
            ],
            "image/png": "[encoded data removed]"
          },
          "metadata": {
            "needs_background": "light"
          }
        },
        {
          "output_type": "display_data",
          "data": {
            "text/plain": [
              "<Figure size 360x216 with 1 Axes>"
            ],
            "image/png": "[encoded data removed]"
          },
          "metadata": {
            "needs_background": "light"
          }
        }
      ]
    }
  ]
}